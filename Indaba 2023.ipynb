{
 "cells": [
  {
   "cell_type": "markdown",
   "id": "1d331ed4",
   "metadata": {},
   "source": [
    "# 1. Analyse Exploratoire (E.D.A )"
   ]
  },
  {
   "cell_type": "markdown",
   "id": "27dac762",
   "metadata": {},
   "source": [
    "## 1.1 - Analysis univariee"
   ]
  },
  {
   "cell_type": "code",
   "execution_count": 1,
   "id": "817fb143",
   "metadata": {},
   "outputs": [],
   "source": [
    "import pandas as pd\n",
    "import numpy as np\n",
    "from matplotlib import pyplot as plt\n",
    "import seaborn as sns"
   ]
  },
  {
   "cell_type": "code",
   "execution_count": 2,
   "id": "4bbd1891",
   "metadata": {},
   "outputs": [],
   "source": [
    "df = sns.load_dataset('iris')"
   ]
  },
  {
   "cell_type": "code",
   "execution_count": 3,
   "id": "a08fd274",
   "metadata": {},
   "outputs": [
    {
     "data": {
      "text/html": [
       "<div>\n",
       "<style scoped>\n",
       "    .dataframe tbody tr th:only-of-type {\n",
       "        vertical-align: middle;\n",
       "    }\n",
       "\n",
       "    .dataframe tbody tr th {\n",
       "        vertical-align: top;\n",
       "    }\n",
       "\n",
       "    .dataframe thead th {\n",
       "        text-align: right;\n",
       "    }\n",
       "</style>\n",
       "<table border=\"1\" class=\"dataframe\">\n",
       "  <thead>\n",
       "    <tr style=\"text-align: right;\">\n",
       "      <th></th>\n",
       "      <th>sepal_length</th>\n",
       "      <th>sepal_width</th>\n",
       "      <th>petal_length</th>\n",
       "      <th>petal_width</th>\n",
       "      <th>species</th>\n",
       "    </tr>\n",
       "  </thead>\n",
       "  <tbody>\n",
       "    <tr>\n",
       "      <th>0</th>\n",
       "      <td>5.1</td>\n",
       "      <td>3.5</td>\n",
       "      <td>1.4</td>\n",
       "      <td>0.2</td>\n",
       "      <td>setosa</td>\n",
       "    </tr>\n",
       "    <tr>\n",
       "      <th>1</th>\n",
       "      <td>4.9</td>\n",
       "      <td>3.0</td>\n",
       "      <td>1.4</td>\n",
       "      <td>0.2</td>\n",
       "      <td>setosa</td>\n",
       "    </tr>\n",
       "    <tr>\n",
       "      <th>2</th>\n",
       "      <td>4.7</td>\n",
       "      <td>3.2</td>\n",
       "      <td>1.3</td>\n",
       "      <td>0.2</td>\n",
       "      <td>setosa</td>\n",
       "    </tr>\n",
       "    <tr>\n",
       "      <th>3</th>\n",
       "      <td>4.6</td>\n",
       "      <td>3.1</td>\n",
       "      <td>1.5</td>\n",
       "      <td>0.2</td>\n",
       "      <td>setosa</td>\n",
       "    </tr>\n",
       "    <tr>\n",
       "      <th>4</th>\n",
       "      <td>5.0</td>\n",
       "      <td>3.6</td>\n",
       "      <td>1.4</td>\n",
       "      <td>0.2</td>\n",
       "      <td>setosa</td>\n",
       "    </tr>\n",
       "    <tr>\n",
       "      <th>...</th>\n",
       "      <td>...</td>\n",
       "      <td>...</td>\n",
       "      <td>...</td>\n",
       "      <td>...</td>\n",
       "      <td>...</td>\n",
       "    </tr>\n",
       "    <tr>\n",
       "      <th>145</th>\n",
       "      <td>6.7</td>\n",
       "      <td>3.0</td>\n",
       "      <td>5.2</td>\n",
       "      <td>2.3</td>\n",
       "      <td>virginica</td>\n",
       "    </tr>\n",
       "    <tr>\n",
       "      <th>146</th>\n",
       "      <td>6.3</td>\n",
       "      <td>2.5</td>\n",
       "      <td>5.0</td>\n",
       "      <td>1.9</td>\n",
       "      <td>virginica</td>\n",
       "    </tr>\n",
       "    <tr>\n",
       "      <th>147</th>\n",
       "      <td>6.5</td>\n",
       "      <td>3.0</td>\n",
       "      <td>5.2</td>\n",
       "      <td>2.0</td>\n",
       "      <td>virginica</td>\n",
       "    </tr>\n",
       "    <tr>\n",
       "      <th>148</th>\n",
       "      <td>6.2</td>\n",
       "      <td>3.4</td>\n",
       "      <td>5.4</td>\n",
       "      <td>2.3</td>\n",
       "      <td>virginica</td>\n",
       "    </tr>\n",
       "    <tr>\n",
       "      <th>149</th>\n",
       "      <td>5.9</td>\n",
       "      <td>3.0</td>\n",
       "      <td>5.1</td>\n",
       "      <td>1.8</td>\n",
       "      <td>virginica</td>\n",
       "    </tr>\n",
       "  </tbody>\n",
       "</table>\n",
       "<p>150 rows × 5 columns</p>\n",
       "</div>"
      ],
      "text/plain": [
       "     sepal_length  sepal_width  petal_length  petal_width    species\n",
       "0             5.1          3.5           1.4          0.2     setosa\n",
       "1             4.9          3.0           1.4          0.2     setosa\n",
       "2             4.7          3.2           1.3          0.2     setosa\n",
       "3             4.6          3.1           1.5          0.2     setosa\n",
       "4             5.0          3.6           1.4          0.2     setosa\n",
       "..            ...          ...           ...          ...        ...\n",
       "145           6.7          3.0           5.2          2.3  virginica\n",
       "146           6.3          2.5           5.0          1.9  virginica\n",
       "147           6.5          3.0           5.2          2.0  virginica\n",
       "148           6.2          3.4           5.4          2.3  virginica\n",
       "149           5.9          3.0           5.1          1.8  virginica\n",
       "\n",
       "[150 rows x 5 columns]"
      ]
     },
     "execution_count": 3,
     "metadata": {},
     "output_type": "execute_result"
    }
   ],
   "source": [
    "df"
   ]
  },
  {
   "cell_type": "markdown",
   "id": "d11bc246",
   "metadata": {},
   "source": [
    "    - affichier le nombre columns et de lignes"
   ]
  },
  {
   "cell_type": "code",
   "execution_count": 4,
   "id": "72463420",
   "metadata": {},
   "outputs": [
    {
     "data": {
      "text/plain": [
       "(150, 5)"
      ]
     },
     "execution_count": 4,
     "metadata": {},
     "output_type": "execute_result"
    }
   ],
   "source": [
    "df.shape"
   ]
  },
  {
   "cell_type": "markdown",
   "id": "67863019",
   "metadata": {},
   "source": [
    "On voit qu'on a *150* lignes et *5* colonne"
   ]
  },
  {
   "cell_type": "markdown",
   "id": "3d258938",
   "metadata": {},
   "source": [
    "    - Affichier le noms des columns"
   ]
  },
  {
   "cell_type": "code",
   "execution_count": 5,
   "id": "981bf010",
   "metadata": {},
   "outputs": [
    {
     "data": {
      "text/plain": [
       "Index(['sepal_length', 'sepal_width', 'petal_length', 'petal_width',\n",
       "       'species'],\n",
       "      dtype='object')"
      ]
     },
     "execution_count": 5,
     "metadata": {},
     "output_type": "execute_result"
    }
   ],
   "source": [
    "df.columns"
   ]
  },
  {
   "cell_type": "markdown",
   "id": "282550cb",
   "metadata": {},
   "source": [
    "    - Afficher les colonnes et leur type"
   ]
  },
  {
   "cell_type": "code",
   "execution_count": 6,
   "id": "7d0163e9",
   "metadata": {},
   "outputs": [
    {
     "name": "stdout",
     "output_type": "stream",
     "text": [
      "<class 'pandas.core.frame.DataFrame'>\n",
      "RangeIndex: 150 entries, 0 to 149\n",
      "Data columns (total 5 columns):\n",
      " #   Column        Non-Null Count  Dtype  \n",
      "---  ------        --------------  -----  \n",
      " 0   sepal_length  150 non-null    float64\n",
      " 1   sepal_width   150 non-null    float64\n",
      " 2   petal_length  150 non-null    float64\n",
      " 3   petal_width   150 non-null    float64\n",
      " 4   species       150 non-null    object \n",
      "dtypes: float64(4), object(1)\n",
      "memory usage: 6.0+ KB\n"
     ]
    }
   ],
   "source": [
    "df.info()"
   ]
  },
  {
   "cell_type": "markdown",
   "id": "1f6db4f9",
   "metadata": {},
   "source": [
    "    - Affichier seulement le type de colonne"
   ]
  },
  {
   "cell_type": "code",
   "execution_count": 7,
   "id": "eac48c2c",
   "metadata": {},
   "outputs": [
    {
     "data": {
      "text/plain": [
       "sepal_length    float64\n",
       "sepal_width     float64\n",
       "petal_length    float64\n",
       "petal_width     float64\n",
       "species          object\n",
       "dtype: object"
      ]
     },
     "execution_count": 7,
     "metadata": {},
     "output_type": "execute_result"
    }
   ],
   "source": [
    "df.dtypes"
   ]
  },
  {
   "cell_type": "markdown",
   "id": "44193161",
   "metadata": {},
   "source": [
    "    - Afficher les statistiques sommaires : maximum(min), minium (min), l'ecart type(std), le nombre total d'entree (count), et les 3 quantiles (25%, 50%, 75%)"
   ]
  },
  {
   "cell_type": "code",
   "execution_count": 8,
   "id": "0f72176e",
   "metadata": {},
   "outputs": [
    {
     "data": {
      "text/html": [
       "<div>\n",
       "<style scoped>\n",
       "    .dataframe tbody tr th:only-of-type {\n",
       "        vertical-align: middle;\n",
       "    }\n",
       "\n",
       "    .dataframe tbody tr th {\n",
       "        vertical-align: top;\n",
       "    }\n",
       "\n",
       "    .dataframe thead th {\n",
       "        text-align: right;\n",
       "    }\n",
       "</style>\n",
       "<table border=\"1\" class=\"dataframe\">\n",
       "  <thead>\n",
       "    <tr style=\"text-align: right;\">\n",
       "      <th></th>\n",
       "      <th>sepal_length</th>\n",
       "      <th>sepal_width</th>\n",
       "      <th>petal_length</th>\n",
       "      <th>petal_width</th>\n",
       "    </tr>\n",
       "  </thead>\n",
       "  <tbody>\n",
       "    <tr>\n",
       "      <th>count</th>\n",
       "      <td>150.000000</td>\n",
       "      <td>150.000000</td>\n",
       "      <td>150.000000</td>\n",
       "      <td>150.000000</td>\n",
       "    </tr>\n",
       "    <tr>\n",
       "      <th>mean</th>\n",
       "      <td>5.843333</td>\n",
       "      <td>3.057333</td>\n",
       "      <td>3.758000</td>\n",
       "      <td>1.199333</td>\n",
       "    </tr>\n",
       "    <tr>\n",
       "      <th>std</th>\n",
       "      <td>0.828066</td>\n",
       "      <td>0.435866</td>\n",
       "      <td>1.765298</td>\n",
       "      <td>0.762238</td>\n",
       "    </tr>\n",
       "    <tr>\n",
       "      <th>min</th>\n",
       "      <td>4.300000</td>\n",
       "      <td>2.000000</td>\n",
       "      <td>1.000000</td>\n",
       "      <td>0.100000</td>\n",
       "    </tr>\n",
       "    <tr>\n",
       "      <th>25%</th>\n",
       "      <td>5.100000</td>\n",
       "      <td>2.800000</td>\n",
       "      <td>1.600000</td>\n",
       "      <td>0.300000</td>\n",
       "    </tr>\n",
       "    <tr>\n",
       "      <th>50%</th>\n",
       "      <td>5.800000</td>\n",
       "      <td>3.000000</td>\n",
       "      <td>4.350000</td>\n",
       "      <td>1.300000</td>\n",
       "    </tr>\n",
       "    <tr>\n",
       "      <th>75%</th>\n",
       "      <td>6.400000</td>\n",
       "      <td>3.300000</td>\n",
       "      <td>5.100000</td>\n",
       "      <td>1.800000</td>\n",
       "    </tr>\n",
       "    <tr>\n",
       "      <th>max</th>\n",
       "      <td>7.900000</td>\n",
       "      <td>4.400000</td>\n",
       "      <td>6.900000</td>\n",
       "      <td>2.500000</td>\n",
       "    </tr>\n",
       "  </tbody>\n",
       "</table>\n",
       "</div>"
      ],
      "text/plain": [
       "       sepal_length  sepal_width  petal_length  petal_width\n",
       "count    150.000000   150.000000    150.000000   150.000000\n",
       "mean       5.843333     3.057333      3.758000     1.199333\n",
       "std        0.828066     0.435866      1.765298     0.762238\n",
       "min        4.300000     2.000000      1.000000     0.100000\n",
       "25%        5.100000     2.800000      1.600000     0.300000\n",
       "50%        5.800000     3.000000      4.350000     1.300000\n",
       "75%        6.400000     3.300000      5.100000     1.800000\n",
       "max        7.900000     4.400000      6.900000     2.500000"
      ]
     },
     "execution_count": 8,
     "metadata": {},
     "output_type": "execute_result"
    }
   ],
   "source": [
    "df.describe()"
   ]
  },
  {
   "cell_type": "markdown",
   "id": "60a7eb86",
   "metadata": {},
   "source": [
    "    - Verifie le nombre de valeur nul par colonne"
   ]
  },
  {
   "cell_type": "code",
   "execution_count": 9,
   "id": "37fee412",
   "metadata": {},
   "outputs": [
    {
     "data": {
      "text/plain": [
       "sepal_length    0\n",
       "sepal_width     0\n",
       "petal_length    0\n",
       "petal_width     0\n",
       "species         0\n",
       "dtype: int64"
      ]
     },
     "execution_count": 9,
     "metadata": {},
     "output_type": "execute_result"
    }
   ],
   "source": [
    "df.isnull().sum()"
   ]
  },
  {
   "cell_type": "markdown",
   "id": "64a6a0a0",
   "metadata": {},
   "source": [
    "    - Verifier les doublons"
   ]
  },
  {
   "cell_type": "code",
   "execution_count": 10,
   "id": "d2c03b45",
   "metadata": {},
   "outputs": [
    {
     "data": {
      "text/html": [
       "<div>\n",
       "<style scoped>\n",
       "    .dataframe tbody tr th:only-of-type {\n",
       "        vertical-align: middle;\n",
       "    }\n",
       "\n",
       "    .dataframe tbody tr th {\n",
       "        vertical-align: top;\n",
       "    }\n",
       "\n",
       "    .dataframe thead th {\n",
       "        text-align: right;\n",
       "    }\n",
       "</style>\n",
       "<table border=\"1\" class=\"dataframe\">\n",
       "  <thead>\n",
       "    <tr style=\"text-align: right;\">\n",
       "      <th></th>\n",
       "      <th>sepal_length</th>\n",
       "      <th>sepal_width</th>\n",
       "      <th>petal_length</th>\n",
       "      <th>petal_width</th>\n",
       "      <th>species</th>\n",
       "    </tr>\n",
       "  </thead>\n",
       "  <tbody>\n",
       "    <tr>\n",
       "      <th>142</th>\n",
       "      <td>5.8</td>\n",
       "      <td>2.7</td>\n",
       "      <td>5.1</td>\n",
       "      <td>1.9</td>\n",
       "      <td>virginica</td>\n",
       "    </tr>\n",
       "  </tbody>\n",
       "</table>\n",
       "</div>"
      ],
      "text/plain": [
       "     sepal_length  sepal_width  petal_length  petal_width    species\n",
       "142           5.8          2.7           5.1          1.9  virginica"
      ]
     },
     "execution_count": 10,
     "metadata": {},
     "output_type": "execute_result"
    }
   ],
   "source": [
    "df[df.duplicated()]"
   ]
  },
  {
   "cell_type": "code",
   "execution_count": 11,
   "id": "34754ad2",
   "metadata": {},
   "outputs": [
    {
     "data": {
      "text/html": [
       "<div>\n",
       "<style scoped>\n",
       "    .dataframe tbody tr th:only-of-type {\n",
       "        vertical-align: middle;\n",
       "    }\n",
       "\n",
       "    .dataframe tbody tr th {\n",
       "        vertical-align: top;\n",
       "    }\n",
       "\n",
       "    .dataframe thead th {\n",
       "        text-align: right;\n",
       "    }\n",
       "</style>\n",
       "<table border=\"1\" class=\"dataframe\">\n",
       "  <thead>\n",
       "    <tr style=\"text-align: right;\">\n",
       "      <th></th>\n",
       "      <th>sepal_length</th>\n",
       "      <th>sepal_width</th>\n",
       "      <th>petal_length</th>\n",
       "      <th>petal_width</th>\n",
       "      <th>species</th>\n",
       "    </tr>\n",
       "  </thead>\n",
       "  <tbody>\n",
       "    <tr>\n",
       "      <th>101</th>\n",
       "      <td>5.8</td>\n",
       "      <td>2.7</td>\n",
       "      <td>5.1</td>\n",
       "      <td>1.9</td>\n",
       "      <td>virginica</td>\n",
       "    </tr>\n",
       "    <tr>\n",
       "      <th>142</th>\n",
       "      <td>5.8</td>\n",
       "      <td>2.7</td>\n",
       "      <td>5.1</td>\n",
       "      <td>1.9</td>\n",
       "      <td>virginica</td>\n",
       "    </tr>\n",
       "  </tbody>\n",
       "</table>\n",
       "</div>"
      ],
      "text/plain": [
       "     sepal_length  sepal_width  petal_length  petal_width    species\n",
       "101           5.8          2.7           5.1          1.9  virginica\n",
       "142           5.8          2.7           5.1          1.9  virginica"
      ]
     },
     "execution_count": 11,
     "metadata": {},
     "output_type": "execute_result"
    }
   ],
   "source": [
    "df[df.duplicated(keep=False)]"
   ]
  },
  {
   "cell_type": "markdown",
   "id": "571c8ed6",
   "metadata": {},
   "source": [
    "    - Affichier la repartition de la variable cible"
   ]
  },
  {
   "cell_type": "markdown",
   "id": "95cc57b8",
   "metadata": {},
   "source": [
    "    -Histogramme"
   ]
  },
  {
   "cell_type": "code",
   "execution_count": 12,
   "id": "863e6b06",
   "metadata": {},
   "outputs": [
    {
     "data": {
      "text/plain": [
       "setosa        50\n",
       "versicolor    50\n",
       "virginica     50\n",
       "Name: species, dtype: int64"
      ]
     },
     "execution_count": 12,
     "metadata": {},
     "output_type": "execute_result"
    }
   ],
   "source": [
    "df['species'].value_counts()"
   ]
  },
  {
   "cell_type": "code",
   "execution_count": 13,
   "id": "fd42f2f6",
   "metadata": {},
   "outputs": [
    {
     "data": {
      "text/plain": [
       "<AxesSubplot:>"
      ]
     },
     "execution_count": 13,
     "metadata": {},
     "output_type": "execute_result"
    },
    {
     "data": {
      "image/png": "[encoded data removed]",
      "text/plain": [
       "<Figure size 432x288 with 1 Axes>"
      ]
     },
     "metadata": {
      "needs_background": "light"
     },
     "output_type": "display_data"
    }
   ],
   "source": [
    "df['species'].value_counts().plot(kind='bar')"
   ]
  },
  {
   "cell_type": "markdown",
   "id": "2c78a97c",
   "metadata": {},
   "source": [
    "    - En secteurs"
   ]
  },
  {
   "cell_type": "code",
   "execution_count": 14,
   "id": "e092f513",
   "metadata": {},
   "outputs": [
    {
     "data": {
      "text/plain": [
       "<AxesSubplot:ylabel='species'>"
      ]
     },
     "execution_count": 14,
     "metadata": {},
     "output_type": "execute_result"
    },
    {
     "data": {
      "image/png": "[encoded data removed]",
      "text/plain": [
       "<Figure size 432x288 with 1 Axes>"
      ]
     },
     "metadata": {},
     "output_type": "display_data"
    }
   ],
   "source": [
    "df['species'].value_counts().plot(kind='pie')"
   ]
  },
  {
   "cell_type": "markdown",
   "id": "5200f10e",
   "metadata": {},
   "source": [
    "## 1. La boite a moustache"
   ]
  },
  {
   "cell_type": "markdown",
   "id": "0435178b",
   "metadata": {},
   "source": [
    "    - La boite a moustache nous permet de detecter les outliers (les valeurs aberantes), les valeurs aberantes sont toujours eloignes de la distribution des donnees"
   ]
  },
  {
   "cell_type": "code",
   "execution_count": 15,
   "id": "97629d53",
   "metadata": {},
   "outputs": [
    {
     "data": {
      "image/png": "[encoded data removed]",
      "text/plain": [
       "<Figure size 288x432 with 1 Axes>"
      ]
     },
     "metadata": {
      "needs_background": "light"
     },
     "output_type": "display_data"
    }
   ],
   "source": [
    "plt.figure(figsize=(4, 6))\n",
    "sns.boxplot(data=df['sepal_width'])\n",
    "plt.show()"
   ]
  },
  {
   "cell_type": "markdown",
   "id": "970a34b2",
   "metadata": {},
   "source": [
    "    - Afficher la distrubition d'une colonne, la boite a moustache et la densite, respectivement cela permet de connaitre la repartition des donnees, les valeurs aberantes, l'ordre de grandeur des valeurs prise par cette colonne"
   ]
  },
  {
   "cell_type": "code",
   "execution_count": 39,
   "id": "badab14a",
   "metadata": {},
   "outputs": [],
   "source": [
    "def distrubiton_col(data):\n",
    "    \n",
    "    fig, ax = plt.subplots(3, 1, figsize=(10, 6))\n",
    "    data.plot(kind='hist', ax=ax[0])\n",
    "    \n",
    "    data.plot(kind='box', ax=ax[1], vert=False)\n",
    "    \n",
    "    data.plot(kind='density', ax=ax[2])\n",
    "    \n",
    "    plt.show()"
   ]
  },
  {
   "cell_type": "code",
   "execution_count": 40,
   "id": "2bb27e81",
   "metadata": {},
   "outputs": [
    {
     "data": {
      "image/png": "[encoded data removed]",
      "text/plain": [
       "<Figure size 720x432 with 3 Axes>"
      ]
     },
     "metadata": {
      "needs_background": "light"
     },
     "output_type": "display_data"
    }
   ],
   "source": [
    "distrubiton_col(df['sepal_width'])"
   ]
  },
  {
   "cell_type": "markdown",
   "id": "a170ebef",
   "metadata": {},
   "source": [
    "## 2.1 Analyse multivariee"
   ]
  },
  {
   "cell_type": "code",
   "execution_count": 41,
   "id": "5a2b5935",
   "metadata": {},
   "outputs": [
    {
     "data": {
      "text/html": [
       "<div>\n",
       "<style scoped>\n",
       "    .dataframe tbody tr th:only-of-type {\n",
       "        vertical-align: middle;\n",
       "    }\n",
       "\n",
       "    .dataframe tbody tr th {\n",
       "        vertical-align: top;\n",
       "    }\n",
       "\n",
       "    .dataframe thead th {\n",
       "        text-align: right;\n",
       "    }\n",
       "</style>\n",
       "<table border=\"1\" class=\"dataframe\">\n",
       "  <thead>\n",
       "    <tr style=\"text-align: right;\">\n",
       "      <th></th>\n",
       "      <th>sepal_length</th>\n",
       "      <th>sepal_width</th>\n",
       "      <th>petal_length</th>\n",
       "      <th>petal_width</th>\n",
       "      <th>species</th>\n",
       "    </tr>\n",
       "  </thead>\n",
       "  <tbody>\n",
       "    <tr>\n",
       "      <th>0</th>\n",
       "      <td>5.1</td>\n",
       "      <td>3.5</td>\n",
       "      <td>1.4</td>\n",
       "      <td>0.2</td>\n",
       "      <td>setosa</td>\n",
       "    </tr>\n",
       "    <tr>\n",
       "      <th>1</th>\n",
       "      <td>4.9</td>\n",
       "      <td>3.0</td>\n",
       "      <td>1.4</td>\n",
       "      <td>0.2</td>\n",
       "      <td>setosa</td>\n",
       "    </tr>\n",
       "    <tr>\n",
       "      <th>2</th>\n",
       "      <td>4.7</td>\n",
       "      <td>3.2</td>\n",
       "      <td>1.3</td>\n",
       "      <td>0.2</td>\n",
       "      <td>setosa</td>\n",
       "    </tr>\n",
       "    <tr>\n",
       "      <th>3</th>\n",
       "      <td>4.6</td>\n",
       "      <td>3.1</td>\n",
       "      <td>1.5</td>\n",
       "      <td>0.2</td>\n",
       "      <td>setosa</td>\n",
       "    </tr>\n",
       "    <tr>\n",
       "      <th>4</th>\n",
       "      <td>5.0</td>\n",
       "      <td>3.6</td>\n",
       "      <td>1.4</td>\n",
       "      <td>0.2</td>\n",
       "      <td>setosa</td>\n",
       "    </tr>\n",
       "  </tbody>\n",
       "</table>\n",
       "</div>"
      ],
      "text/plain": [
       "   sepal_length  sepal_width  petal_length  petal_width species\n",
       "0           5.1          3.5           1.4          0.2  setosa\n",
       "1           4.9          3.0           1.4          0.2  setosa\n",
       "2           4.7          3.2           1.3          0.2  setosa\n",
       "3           4.6          3.1           1.5          0.2  setosa\n",
       "4           5.0          3.6           1.4          0.2  setosa"
      ]
     },
     "execution_count": 41,
     "metadata": {},
     "output_type": "execute_result"
    }
   ],
   "source": [
    "df.head()"
   ]
  },
  {
   "cell_type": "markdown",
   "id": "078eba9b",
   "metadata": {},
   "source": [
    "    -Affichier la correlation entre les variables numeriques"
   ]
  },
  {
   "cell_type": "code",
   "execution_count": 42,
   "id": "0521499c",
   "metadata": {},
   "outputs": [
    {
     "data": {
      "text/html": [
       "<div>\n",
       "<style scoped>\n",
       "    .dataframe tbody tr th:only-of-type {\n",
       "        vertical-align: middle;\n",
       "    }\n",
       "\n",
       "    .dataframe tbody tr th {\n",
       "        vertical-align: top;\n",
       "    }\n",
       "\n",
       "    .dataframe thead th {\n",
       "        text-align: right;\n",
       "    }\n",
       "</style>\n",
       "<table border=\"1\" class=\"dataframe\">\n",
       "  <thead>\n",
       "    <tr style=\"text-align: right;\">\n",
       "      <th></th>\n",
       "      <th>sepal_length</th>\n",
       "      <th>sepal_width</th>\n",
       "      <th>petal_length</th>\n",
       "      <th>petal_width</th>\n",
       "    </tr>\n",
       "  </thead>\n",
       "  <tbody>\n",
       "    <tr>\n",
       "      <th>sepal_length</th>\n",
       "      <td>1.000000</td>\n",
       "      <td>-0.117570</td>\n",
       "      <td>0.871754</td>\n",
       "      <td>0.817941</td>\n",
       "    </tr>\n",
       "    <tr>\n",
       "      <th>sepal_width</th>\n",
       "      <td>-0.117570</td>\n",
       "      <td>1.000000</td>\n",
       "      <td>-0.428440</td>\n",
       "      <td>-0.366126</td>\n",
       "    </tr>\n",
       "    <tr>\n",
       "      <th>petal_length</th>\n",
       "      <td>0.871754</td>\n",
       "      <td>-0.428440</td>\n",
       "      <td>1.000000</td>\n",
       "      <td>0.962865</td>\n",
       "    </tr>\n",
       "    <tr>\n",
       "      <th>petal_width</th>\n",
       "      <td>0.817941</td>\n",
       "      <td>-0.366126</td>\n",
       "      <td>0.962865</td>\n",
       "      <td>1.000000</td>\n",
       "    </tr>\n",
       "  </tbody>\n",
       "</table>\n",
       "</div>"
      ],
      "text/plain": [
       "              sepal_length  sepal_width  petal_length  petal_width\n",
       "sepal_length      1.000000    -0.117570      0.871754     0.817941\n",
       "sepal_width      -0.117570     1.000000     -0.428440    -0.366126\n",
       "petal_length      0.871754    -0.428440      1.000000     0.962865\n",
       "petal_width       0.817941    -0.366126      0.962865     1.000000"
      ]
     },
     "execution_count": 42,
     "metadata": {},
     "output_type": "execute_result"
    }
   ],
   "source": [
    "df.corr()"
   ]
  },
  {
   "cell_type": "markdown",
   "id": "112f6d4d",
   "metadata": {},
   "source": [
    "    - Afficher la relation entre deux variables continues"
   ]
  },
  {
   "cell_type": "code",
   "execution_count": 43,
   "id": "54f1c3a1",
   "metadata": {},
   "outputs": [
    {
     "data": {
      "text/plain": [
       "<AxesSubplot:xlabel='sepal_length', ylabel='petal_length'>"
      ]
     },
     "execution_count": 43,
     "metadata": {},
     "output_type": "execute_result"
    },
    {
     "data": {
      "image/png": "[encoded data removed]",
      "text/plain": [
       "<Figure size 432x288 with 1 Axes>"
      ]
     },
     "metadata": {
      "needs_background": "light"
     },
     "output_type": "display_data"
    }
   ],
   "source": [
    "sns.scatterplot(data=df, x='sepal_length', y='petal_length')"
   ]
  },
  {
   "cell_type": "markdown",
   "id": "9a4225e5",
   "metadata": {},
   "source": [
    "    - Afficher la relation lineair entre tous les varaibles continues"
   ]
  },
  {
   "cell_type": "code",
   "execution_count": 44,
   "id": "753328f2",
   "metadata": {},
   "outputs": [
    {
     "data": {
      "text/plain": [
       "<seaborn.axisgrid.PairGrid at 0x7fd69a05d490>"
      ]
     },
     "execution_count": 44,
     "metadata": {},
     "output_type": "execute_result"
    },
    {
     "data": {
      "image/png": "[encoded data removed]",
      "text/plain": [
       "<Figure size 720x720 with 20 Axes>"
      ]
     },
     "metadata": {
      "needs_background": "light"
     },
     "output_type": "display_data"
    }
   ],
   "source": [
    "sns.pairplot(df)"
   ]
  },
  {
   "cell_type": "markdown",
   "id": "00a330ea",
   "metadata": {},
   "source": [
    "    - Afficher la distrubition de la frequence des valeurs"
   ]
  },
  {
   "cell_type": "code",
   "execution_count": 45,
   "id": "01296f53",
   "metadata": {},
   "outputs": [
    {
     "data": {
      "text/plain": [
       "array([[<AxesSubplot:title={'center':'sepal_length'}>,\n",
       "        <AxesSubplot:title={'center':'sepal_width'}>],\n",
       "       [<AxesSubplot:title={'center':'petal_length'}>,\n",
       "        <AxesSubplot:title={'center':'petal_width'}>]], dtype=object)"
      ]
     },
     "execution_count": 45,
     "metadata": {},
     "output_type": "execute_result"
    },
    {
     "data": {
      "image/png": "[encoded data removed]",
      "text/plain": [
       "<Figure size 1440x1080 with 4 Axes>"
      ]
     },
     "metadata": {
      "needs_background": "light"
     },
     "output_type": "display_data"
    }
   ],
   "source": [
    "df.hist(bins=50, figsize=(20, 15))"
   ]
  },
  {
   "cell_type": "markdown",
   "id": "69d353db",
   "metadata": {},
   "source": [
    "    - Une autre facon d'afficher la boite a moustache pour les variables numeriques"
   ]
  },
  {
   "cell_type": "code",
   "execution_count": 46,
   "id": "bf20cde5",
   "metadata": {},
   "outputs": [
    {
     "data": {
      "text/plain": [
       "sepal_length       AxesSubplot(0.125,0.536818;0.352273x0.343182)\n",
       "sepal_width     AxesSubplot(0.547727,0.536818;0.352273x0.343182)\n",
       "petal_length          AxesSubplot(0.125,0.125;0.352273x0.343182)\n",
       "petal_width        AxesSubplot(0.547727,0.125;0.352273x0.343182)\n",
       "dtype: object"
      ]
     },
     "execution_count": 46,
     "metadata": {},
     "output_type": "execute_result"
    },
    {
     "data": {
      "image/png": "[encoded data removed]",
      "text/plain": [
       "<Figure size 1080x720 with 4 Axes>"
      ]
     },
     "metadata": {
      "needs_background": "light"
     },
     "output_type": "display_data"
    }
   ],
   "source": [
    "df.plot(kind='box', figsize=(15, 10), subplots=True, layout=(2, 2))"
   ]
  },
  {
   "cell_type": "markdown",
   "id": "9f9e74a8",
   "metadata": {},
   "source": [
    "    - Afficher la matrice de correlation"
   ]
  },
  {
   "cell_type": "code",
   "execution_count": 47,
   "id": "78188e81",
   "metadata": {},
   "outputs": [
    {
     "data": {
      "image/png": "[encoded data removed]",
      "text/plain": [
       "<Figure size 432x288 with 2 Axes>"
      ]
     },
     "metadata": {
      "needs_background": "light"
     },
     "output_type": "display_data"
    }
   ],
   "source": [
    "sns.heatmap(data=df.corr(), cmap='coolwarm', annot=True)\n",
    "plt.show()"
   ]
  },
  {
   "cell_type": "markdown",
   "id": "3b6eac71",
   "metadata": {},
   "source": [
    "# 2. Pretraitement"
   ]
  },
  {
   "cell_type": "markdown",
   "id": "a6afbe86",
   "metadata": {},
   "source": [
    "### 2.1 - Outiliers"
   ]
  },
  {
   "cell_type": "code",
   "execution_count": 49,
   "id": "61800344",
   "metadata": {},
   "outputs": [
    {
     "data": {
      "text/html": [
       "<div>\n",
       "<style scoped>\n",
       "    .dataframe tbody tr th:only-of-type {\n",
       "        vertical-align: middle;\n",
       "    }\n",
       "\n",
       "    .dataframe tbody tr th {\n",
       "        vertical-align: top;\n",
       "    }\n",
       "\n",
       "    .dataframe thead th {\n",
       "        text-align: right;\n",
       "    }\n",
       "</style>\n",
       "<table border=\"1\" class=\"dataframe\">\n",
       "  <thead>\n",
       "    <tr style=\"text-align: right;\">\n",
       "      <th></th>\n",
       "      <th>sepal_length</th>\n",
       "      <th>sepal_width</th>\n",
       "      <th>petal_length</th>\n",
       "      <th>petal_width</th>\n",
       "      <th>species</th>\n",
       "    </tr>\n",
       "  </thead>\n",
       "  <tbody>\n",
       "    <tr>\n",
       "      <th>0</th>\n",
       "      <td>5.1</td>\n",
       "      <td>3.5</td>\n",
       "      <td>1.4</td>\n",
       "      <td>0.2</td>\n",
       "      <td>setosa</td>\n",
       "    </tr>\n",
       "    <tr>\n",
       "      <th>1</th>\n",
       "      <td>4.9</td>\n",
       "      <td>3.0</td>\n",
       "      <td>1.4</td>\n",
       "      <td>0.2</td>\n",
       "      <td>setosa</td>\n",
       "    </tr>\n",
       "    <tr>\n",
       "      <th>2</th>\n",
       "      <td>4.7</td>\n",
       "      <td>3.2</td>\n",
       "      <td>1.3</td>\n",
       "      <td>0.2</td>\n",
       "      <td>setosa</td>\n",
       "    </tr>\n",
       "    <tr>\n",
       "      <th>3</th>\n",
       "      <td>4.6</td>\n",
       "      <td>3.1</td>\n",
       "      <td>1.5</td>\n",
       "      <td>0.2</td>\n",
       "      <td>setosa</td>\n",
       "    </tr>\n",
       "    <tr>\n",
       "      <th>4</th>\n",
       "      <td>5.0</td>\n",
       "      <td>3.6</td>\n",
       "      <td>1.4</td>\n",
       "      <td>0.2</td>\n",
       "      <td>setosa</td>\n",
       "    </tr>\n",
       "    <tr>\n",
       "      <th>...</th>\n",
       "      <td>...</td>\n",
       "      <td>...</td>\n",
       "      <td>...</td>\n",
       "      <td>...</td>\n",
       "      <td>...</td>\n",
       "    </tr>\n",
       "    <tr>\n",
       "      <th>145</th>\n",
       "      <td>6.7</td>\n",
       "      <td>3.0</td>\n",
       "      <td>5.2</td>\n",
       "      <td>2.3</td>\n",
       "      <td>virginica</td>\n",
       "    </tr>\n",
       "    <tr>\n",
       "      <th>146</th>\n",
       "      <td>6.3</td>\n",
       "      <td>2.5</td>\n",
       "      <td>5.0</td>\n",
       "      <td>1.9</td>\n",
       "      <td>virginica</td>\n",
       "    </tr>\n",
       "    <tr>\n",
       "      <th>147</th>\n",
       "      <td>6.5</td>\n",
       "      <td>3.0</td>\n",
       "      <td>5.2</td>\n",
       "      <td>2.0</td>\n",
       "      <td>virginica</td>\n",
       "    </tr>\n",
       "    <tr>\n",
       "      <th>148</th>\n",
       "      <td>6.2</td>\n",
       "      <td>3.4</td>\n",
       "      <td>5.4</td>\n",
       "      <td>2.3</td>\n",
       "      <td>virginica</td>\n",
       "    </tr>\n",
       "    <tr>\n",
       "      <th>149</th>\n",
       "      <td>5.9</td>\n",
       "      <td>3.0</td>\n",
       "      <td>5.1</td>\n",
       "      <td>1.8</td>\n",
       "      <td>virginica</td>\n",
       "    </tr>\n",
       "  </tbody>\n",
       "</table>\n",
       "<p>150 rows × 5 columns</p>\n",
       "</div>"
      ],
      "text/plain": [
       "     sepal_length  sepal_width  petal_length  petal_width    species\n",
       "0             5.1          3.5           1.4          0.2     setosa\n",
       "1             4.9          3.0           1.4          0.2     setosa\n",
       "2             4.7          3.2           1.3          0.2     setosa\n",
       "3             4.6          3.1           1.5          0.2     setosa\n",
       "4             5.0          3.6           1.4          0.2     setosa\n",
       "..            ...          ...           ...          ...        ...\n",
       "145           6.7          3.0           5.2          2.3  virginica\n",
       "146           6.3          2.5           5.0          1.9  virginica\n",
       "147           6.5          3.0           5.2          2.0  virginica\n",
       "148           6.2          3.4           5.4          2.3  virginica\n",
       "149           5.9          3.0           5.1          1.8  virginica\n",
       "\n",
       "[150 rows x 5 columns]"
      ]
     },
     "execution_count": 49,
     "metadata": {},
     "output_type": "execute_result"
    }
   ],
   "source": [
    "df"
   ]
  },
  {
   "cell_type": "markdown",
   "id": "39a92588",
   "metadata": {},
   "source": [
    "- Determier les quantiles"
   ]
  },
  {
   "cell_type": "code",
   "execution_count": 53,
   "id": "a451ea7c",
   "metadata": {},
   "outputs": [],
   "source": [
    "Q1 = df['sepal_width'].quantile(0.25)\n",
    "Q3 = df['sepal_width'].quantile(0.75)"
   ]
  },
  {
   "cell_type": "code",
   "execution_count": 54,
   "id": "464c6a2d",
   "metadata": {},
   "outputs": [
    {
     "name": "stdout",
     "output_type": "stream",
     "text": [
      "2.8 3.3\n"
     ]
    }
   ],
   "source": [
    "print(Q1, Q3)"
   ]
  },
  {
   "cell_type": "markdown",
   "id": "08f0da4b",
   "metadata": {},
   "source": [
    " - Amplitude interquartile (IQR)"
   ]
  },
  {
   "cell_type": "code",
   "execution_count": 62,
   "id": "dfebb317",
   "metadata": {},
   "outputs": [],
   "source": [
    "df_1 = df[(df['sepal_width'] > Q1) & (df['sepal_width'] < Q3)]"
   ]
  },
  {
   "cell_type": "code",
   "execution_count": 64,
   "id": "6c9b05e5",
   "metadata": {},
   "outputs": [
    {
     "data": {
      "text/html": [
       "<div>\n",
       "<style scoped>\n",
       "    .dataframe tbody tr th:only-of-type {\n",
       "        vertical-align: middle;\n",
       "    }\n",
       "\n",
       "    .dataframe tbody tr th {\n",
       "        vertical-align: top;\n",
       "    }\n",
       "\n",
       "    .dataframe thead th {\n",
       "        text-align: right;\n",
       "    }\n",
       "</style>\n",
       "<table border=\"1\" class=\"dataframe\">\n",
       "  <thead>\n",
       "    <tr style=\"text-align: right;\">\n",
       "      <th></th>\n",
       "      <th>sepal_length</th>\n",
       "      <th>sepal_width</th>\n",
       "      <th>petal_length</th>\n",
       "      <th>petal_width</th>\n",
       "      <th>species</th>\n",
       "    </tr>\n",
       "  </thead>\n",
       "  <tbody>\n",
       "    <tr>\n",
       "      <th>1</th>\n",
       "      <td>4.9</td>\n",
       "      <td>3.0</td>\n",
       "      <td>1.4</td>\n",
       "      <td>0.2</td>\n",
       "      <td>setosa</td>\n",
       "    </tr>\n",
       "    <tr>\n",
       "      <th>2</th>\n",
       "      <td>4.7</td>\n",
       "      <td>3.2</td>\n",
       "      <td>1.3</td>\n",
       "      <td>0.2</td>\n",
       "      <td>setosa</td>\n",
       "    </tr>\n",
       "    <tr>\n",
       "      <th>3</th>\n",
       "      <td>4.6</td>\n",
       "      <td>3.1</td>\n",
       "      <td>1.5</td>\n",
       "      <td>0.2</td>\n",
       "      <td>setosa</td>\n",
       "    </tr>\n",
       "    <tr>\n",
       "      <th>8</th>\n",
       "      <td>4.4</td>\n",
       "      <td>2.9</td>\n",
       "      <td>1.4</td>\n",
       "      <td>0.2</td>\n",
       "      <td>setosa</td>\n",
       "    </tr>\n",
       "    <tr>\n",
       "      <th>9</th>\n",
       "      <td>4.9</td>\n",
       "      <td>3.1</td>\n",
       "      <td>1.5</td>\n",
       "      <td>0.1</td>\n",
       "      <td>setosa</td>\n",
       "    </tr>\n",
       "  </tbody>\n",
       "</table>\n",
       "</div>"
      ],
      "text/plain": [
       "   sepal_length  sepal_width  petal_length  petal_width species\n",
       "1           4.9          3.0           1.4          0.2  setosa\n",
       "2           4.7          3.2           1.3          0.2  setosa\n",
       "3           4.6          3.1           1.5          0.2  setosa\n",
       "8           4.4          2.9           1.4          0.2  setosa\n",
       "9           4.9          3.1           1.5          0.1  setosa"
      ]
     },
     "execution_count": 64,
     "metadata": {},
     "output_type": "execute_result"
    }
   ],
   "source": [
    "df_1.head()"
   ]
  },
  {
   "cell_type": "code",
   "execution_count": 65,
   "id": "809c14a2",
   "metadata": {},
   "outputs": [
    {
     "data": {
      "text/plain": [
       "(60, 5)"
      ]
     },
     "execution_count": 65,
     "metadata": {},
     "output_type": "execute_result"
    }
   ],
   "source": [
    "df_1.shape"
   ]
  },
  {
   "cell_type": "code",
   "execution_count": 66,
   "id": "3e9658e4",
   "metadata": {},
   "outputs": [
    {
     "data": {
      "text/plain": [
       "sepal_length       AxesSubplot(0.125,0.536818;0.352273x0.343182)\n",
       "sepal_width     AxesSubplot(0.547727,0.536818;0.352273x0.343182)\n",
       "petal_length          AxesSubplot(0.125,0.125;0.352273x0.343182)\n",
       "petal_width        AxesSubplot(0.547727,0.125;0.352273x0.343182)\n",
       "dtype: object"
      ]
     },
     "execution_count": 66,
     "metadata": {},
     "output_type": "execute_result"
    },
    {
     "data": {
      "image/png": "[encoded data removed]",
      "text/plain": [
       "<Figure size 1080x720 with 4 Axes>"
      ]
     },
     "metadata": {
      "needs_background": "light"
     },
     "output_type": "display_data"
    }
   ],
   "source": [
    "df_1.plot(kind='box', figsize=(15, 10), subplots=True, layout=(2, 2))"
   ]
  },
  {
   "cell_type": "markdown",
   "id": "f6ab926e",
   "metadata": {},
   "source": [
    "## 2.2 - Dupilicated"
   ]
  },
  {
   "cell_type": "code",
   "execution_count": 69,
   "id": "e8f705a2",
   "metadata": {},
   "outputs": [
    {
     "data": {
      "text/html": [
       "<div>\n",
       "<style scoped>\n",
       "    .dataframe tbody tr th:only-of-type {\n",
       "        vertical-align: middle;\n",
       "    }\n",
       "\n",
       "    .dataframe tbody tr th {\n",
       "        vertical-align: top;\n",
       "    }\n",
       "\n",
       "    .dataframe thead th {\n",
       "        text-align: right;\n",
       "    }\n",
       "</style>\n",
       "<table border=\"1\" class=\"dataframe\">\n",
       "  <thead>\n",
       "    <tr style=\"text-align: right;\">\n",
       "      <th></th>\n",
       "      <th>sepal_length</th>\n",
       "      <th>sepal_width</th>\n",
       "      <th>petal_length</th>\n",
       "      <th>petal_width</th>\n",
       "      <th>species</th>\n",
       "    </tr>\n",
       "  </thead>\n",
       "  <tbody>\n",
       "    <tr>\n",
       "      <th>101</th>\n",
       "      <td>5.8</td>\n",
       "      <td>2.7</td>\n",
       "      <td>5.1</td>\n",
       "      <td>1.9</td>\n",
       "      <td>virginica</td>\n",
       "    </tr>\n",
       "    <tr>\n",
       "      <th>142</th>\n",
       "      <td>5.8</td>\n",
       "      <td>2.7</td>\n",
       "      <td>5.1</td>\n",
       "      <td>1.9</td>\n",
       "      <td>virginica</td>\n",
       "    </tr>\n",
       "  </tbody>\n",
       "</table>\n",
       "</div>"
      ],
      "text/plain": [
       "     sepal_length  sepal_width  petal_length  petal_width    species\n",
       "101           5.8          2.7           5.1          1.9  virginica\n",
       "142           5.8          2.7           5.1          1.9  virginica"
      ]
     },
     "execution_count": 69,
     "metadata": {},
     "output_type": "execute_result"
    }
   ],
   "source": [
    "df[df.duplicated(keep=False)]"
   ]
  },
  {
   "cell_type": "code",
   "execution_count": 70,
   "id": "bb954ce8",
   "metadata": {},
   "outputs": [],
   "source": [
    "df_2 = pd.concat((df.iloc[:142, :] , df.iloc[143:, :]))"
   ]
  },
  {
   "cell_type": "code",
   "execution_count": 71,
   "id": "b3fee870",
   "metadata": {},
   "outputs": [
    {
     "data": {
      "text/html": [
       "<div>\n",
       "<style scoped>\n",
       "    .dataframe tbody tr th:only-of-type {\n",
       "        vertical-align: middle;\n",
       "    }\n",
       "\n",
       "    .dataframe tbody tr th {\n",
       "        vertical-align: top;\n",
       "    }\n",
       "\n",
       "    .dataframe thead th {\n",
       "        text-align: right;\n",
       "    }\n",
       "</style>\n",
       "<table border=\"1\" class=\"dataframe\">\n",
       "  <thead>\n",
       "    <tr style=\"text-align: right;\">\n",
       "      <th></th>\n",
       "      <th>sepal_length</th>\n",
       "      <th>sepal_width</th>\n",
       "      <th>petal_length</th>\n",
       "      <th>petal_width</th>\n",
       "      <th>species</th>\n",
       "    </tr>\n",
       "  </thead>\n",
       "  <tbody>\n",
       "    <tr>\n",
       "      <th>0</th>\n",
       "      <td>5.1</td>\n",
       "      <td>3.5</td>\n",
       "      <td>1.4</td>\n",
       "      <td>0.2</td>\n",
       "      <td>setosa</td>\n",
       "    </tr>\n",
       "    <tr>\n",
       "      <th>1</th>\n",
       "      <td>4.9</td>\n",
       "      <td>3.0</td>\n",
       "      <td>1.4</td>\n",
       "      <td>0.2</td>\n",
       "      <td>setosa</td>\n",
       "    </tr>\n",
       "    <tr>\n",
       "      <th>2</th>\n",
       "      <td>4.7</td>\n",
       "      <td>3.2</td>\n",
       "      <td>1.3</td>\n",
       "      <td>0.2</td>\n",
       "      <td>setosa</td>\n",
       "    </tr>\n",
       "    <tr>\n",
       "      <th>3</th>\n",
       "      <td>4.6</td>\n",
       "      <td>3.1</td>\n",
       "      <td>1.5</td>\n",
       "      <td>0.2</td>\n",
       "      <td>setosa</td>\n",
       "    </tr>\n",
       "    <tr>\n",
       "      <th>4</th>\n",
       "      <td>5.0</td>\n",
       "      <td>3.6</td>\n",
       "      <td>1.4</td>\n",
       "      <td>0.2</td>\n",
       "      <td>setosa</td>\n",
       "    </tr>\n",
       "    <tr>\n",
       "      <th>...</th>\n",
       "      <td>...</td>\n",
       "      <td>...</td>\n",
       "      <td>...</td>\n",
       "      <td>...</td>\n",
       "      <td>...</td>\n",
       "    </tr>\n",
       "    <tr>\n",
       "      <th>145</th>\n",
       "      <td>6.7</td>\n",
       "      <td>3.0</td>\n",
       "      <td>5.2</td>\n",
       "      <td>2.3</td>\n",
       "      <td>virginica</td>\n",
       "    </tr>\n",
       "    <tr>\n",
       "      <th>146</th>\n",
       "      <td>6.3</td>\n",
       "      <td>2.5</td>\n",
       "      <td>5.0</td>\n",
       "      <td>1.9</td>\n",
       "      <td>virginica</td>\n",
       "    </tr>\n",
       "    <tr>\n",
       "      <th>147</th>\n",
       "      <td>6.5</td>\n",
       "      <td>3.0</td>\n",
       "      <td>5.2</td>\n",
       "      <td>2.0</td>\n",
       "      <td>virginica</td>\n",
       "    </tr>\n",
       "    <tr>\n",
       "      <th>148</th>\n",
       "      <td>6.2</td>\n",
       "      <td>3.4</td>\n",
       "      <td>5.4</td>\n",
       "      <td>2.3</td>\n",
       "      <td>virginica</td>\n",
       "    </tr>\n",
       "    <tr>\n",
       "      <th>149</th>\n",
       "      <td>5.9</td>\n",
       "      <td>3.0</td>\n",
       "      <td>5.1</td>\n",
       "      <td>1.8</td>\n",
       "      <td>virginica</td>\n",
       "    </tr>\n",
       "  </tbody>\n",
       "</table>\n",
       "<p>149 rows × 5 columns</p>\n",
       "</div>"
      ],
      "text/plain": [
       "     sepal_length  sepal_width  petal_length  petal_width    species\n",
       "0             5.1          3.5           1.4          0.2     setosa\n",
       "1             4.9          3.0           1.4          0.2     setosa\n",
       "2             4.7          3.2           1.3          0.2     setosa\n",
       "3             4.6          3.1           1.5          0.2     setosa\n",
       "4             5.0          3.6           1.4          0.2     setosa\n",
       "..            ...          ...           ...          ...        ...\n",
       "145           6.7          3.0           5.2          2.3  virginica\n",
       "146           6.3          2.5           5.0          1.9  virginica\n",
       "147           6.5          3.0           5.2          2.0  virginica\n",
       "148           6.2          3.4           5.4          2.3  virginica\n",
       "149           5.9          3.0           5.1          1.8  virginica\n",
       "\n",
       "[149 rows x 5 columns]"
      ]
     },
     "execution_count": 71,
     "metadata": {},
     "output_type": "execute_result"
    }
   ],
   "source": [
    "df_2"
   ]
  },
  {
   "cell_type": "code",
   "execution_count": 72,
   "id": "c323a765",
   "metadata": {},
   "outputs": [],
   "source": [
    "df_2 = df.drop_duplicates()"
   ]
  },
  {
   "cell_type": "code",
   "execution_count": 73,
   "id": "2c6eb2db",
   "metadata": {},
   "outputs": [
    {
     "data": {
      "text/html": [
       "<div>\n",
       "<style scoped>\n",
       "    .dataframe tbody tr th:only-of-type {\n",
       "        vertical-align: middle;\n",
       "    }\n",
       "\n",
       "    .dataframe tbody tr th {\n",
       "        vertical-align: top;\n",
       "    }\n",
       "\n",
       "    .dataframe thead th {\n",
       "        text-align: right;\n",
       "    }\n",
       "</style>\n",
       "<table border=\"1\" class=\"dataframe\">\n",
       "  <thead>\n",
       "    <tr style=\"text-align: right;\">\n",
       "      <th></th>\n",
       "      <th>sepal_length</th>\n",
       "      <th>sepal_width</th>\n",
       "      <th>petal_length</th>\n",
       "      <th>petal_width</th>\n",
       "      <th>species</th>\n",
       "    </tr>\n",
       "  </thead>\n",
       "  <tbody>\n",
       "    <tr>\n",
       "      <th>0</th>\n",
       "      <td>5.1</td>\n",
       "      <td>3.5</td>\n",
       "      <td>1.4</td>\n",
       "      <td>0.2</td>\n",
       "      <td>setosa</td>\n",
       "    </tr>\n",
       "    <tr>\n",
       "      <th>1</th>\n",
       "      <td>4.9</td>\n",
       "      <td>3.0</td>\n",
       "      <td>1.4</td>\n",
       "      <td>0.2</td>\n",
       "      <td>setosa</td>\n",
       "    </tr>\n",
       "    <tr>\n",
       "      <th>2</th>\n",
       "      <td>4.7</td>\n",
       "      <td>3.2</td>\n",
       "      <td>1.3</td>\n",
       "      <td>0.2</td>\n",
       "      <td>setosa</td>\n",
       "    </tr>\n",
       "    <tr>\n",
       "      <th>3</th>\n",
       "      <td>4.6</td>\n",
       "      <td>3.1</td>\n",
       "      <td>1.5</td>\n",
       "      <td>0.2</td>\n",
       "      <td>setosa</td>\n",
       "    </tr>\n",
       "    <tr>\n",
       "      <th>4</th>\n",
       "      <td>5.0</td>\n",
       "      <td>3.6</td>\n",
       "      <td>1.4</td>\n",
       "      <td>0.2</td>\n",
       "      <td>setosa</td>\n",
       "    </tr>\n",
       "    <tr>\n",
       "      <th>...</th>\n",
       "      <td>...</td>\n",
       "      <td>...</td>\n",
       "      <td>...</td>\n",
       "      <td>...</td>\n",
       "      <td>...</td>\n",
       "    </tr>\n",
       "    <tr>\n",
       "      <th>145</th>\n",
       "      <td>6.7</td>\n",
       "      <td>3.0</td>\n",
       "      <td>5.2</td>\n",
       "      <td>2.3</td>\n",
       "      <td>virginica</td>\n",
       "    </tr>\n",
       "    <tr>\n",
       "      <th>146</th>\n",
       "      <td>6.3</td>\n",
       "      <td>2.5</td>\n",
       "      <td>5.0</td>\n",
       "      <td>1.9</td>\n",
       "      <td>virginica</td>\n",
       "    </tr>\n",
       "    <tr>\n",
       "      <th>147</th>\n",
       "      <td>6.5</td>\n",
       "      <td>3.0</td>\n",
       "      <td>5.2</td>\n",
       "      <td>2.0</td>\n",
       "      <td>virginica</td>\n",
       "    </tr>\n",
       "    <tr>\n",
       "      <th>148</th>\n",
       "      <td>6.2</td>\n",
       "      <td>3.4</td>\n",
       "      <td>5.4</td>\n",
       "      <td>2.3</td>\n",
       "      <td>virginica</td>\n",
       "    </tr>\n",
       "    <tr>\n",
       "      <th>149</th>\n",
       "      <td>5.9</td>\n",
       "      <td>3.0</td>\n",
       "      <td>5.1</td>\n",
       "      <td>1.8</td>\n",
       "      <td>virginica</td>\n",
       "    </tr>\n",
       "  </tbody>\n",
       "</table>\n",
       "<p>149 rows × 5 columns</p>\n",
       "</div>"
      ],
      "text/plain": [
       "     sepal_length  sepal_width  petal_length  petal_width    species\n",
       "0             5.1          3.5           1.4          0.2     setosa\n",
       "1             4.9          3.0           1.4          0.2     setosa\n",
       "2             4.7          3.2           1.3          0.2     setosa\n",
       "3             4.6          3.1           1.5          0.2     setosa\n",
       "4             5.0          3.6           1.4          0.2     setosa\n",
       "..            ...          ...           ...          ...        ...\n",
       "145           6.7          3.0           5.2          2.3  virginica\n",
       "146           6.3          2.5           5.0          1.9  virginica\n",
       "147           6.5          3.0           5.2          2.0  virginica\n",
       "148           6.2          3.4           5.4          2.3  virginica\n",
       "149           5.9          3.0           5.1          1.8  virginica\n",
       "\n",
       "[149 rows x 5 columns]"
      ]
     },
     "execution_count": 73,
     "metadata": {},
     "output_type": "execute_result"
    }
   ],
   "source": [
    "df_2"
   ]
  },
  {
   "cell_type": "code",
   "execution_count": 74,
   "id": "30310c17",
   "metadata": {},
   "outputs": [
    {
     "data": {
      "text/html": [
       "<div>\n",
       "<style scoped>\n",
       "    .dataframe tbody tr th:only-of-type {\n",
       "        vertical-align: middle;\n",
       "    }\n",
       "\n",
       "    .dataframe tbody tr th {\n",
       "        vertical-align: top;\n",
       "    }\n",
       "\n",
       "    .dataframe thead th {\n",
       "        text-align: right;\n",
       "    }\n",
       "</style>\n",
       "<table border=\"1\" class=\"dataframe\">\n",
       "  <thead>\n",
       "    <tr style=\"text-align: right;\">\n",
       "      <th></th>\n",
       "      <th>sepal_length</th>\n",
       "      <th>sepal_width</th>\n",
       "      <th>petal_length</th>\n",
       "      <th>petal_width</th>\n",
       "      <th>species</th>\n",
       "    </tr>\n",
       "  </thead>\n",
       "  <tbody>\n",
       "    <tr>\n",
       "      <th>0</th>\n",
       "      <td>5.1</td>\n",
       "      <td>3.5</td>\n",
       "      <td>1.4</td>\n",
       "      <td>0.2</td>\n",
       "      <td>setosa</td>\n",
       "    </tr>\n",
       "    <tr>\n",
       "      <th>1</th>\n",
       "      <td>4.9</td>\n",
       "      <td>3.0</td>\n",
       "      <td>1.4</td>\n",
       "      <td>0.2</td>\n",
       "      <td>setosa</td>\n",
       "    </tr>\n",
       "    <tr>\n",
       "      <th>2</th>\n",
       "      <td>4.7</td>\n",
       "      <td>3.2</td>\n",
       "      <td>1.3</td>\n",
       "      <td>0.2</td>\n",
       "      <td>setosa</td>\n",
       "    </tr>\n",
       "    <tr>\n",
       "      <th>3</th>\n",
       "      <td>4.6</td>\n",
       "      <td>3.1</td>\n",
       "      <td>1.5</td>\n",
       "      <td>0.2</td>\n",
       "      <td>setosa</td>\n",
       "    </tr>\n",
       "    <tr>\n",
       "      <th>4</th>\n",
       "      <td>5.0</td>\n",
       "      <td>3.6</td>\n",
       "      <td>1.4</td>\n",
       "      <td>0.2</td>\n",
       "      <td>setosa</td>\n",
       "    </tr>\n",
       "    <tr>\n",
       "      <th>...</th>\n",
       "      <td>...</td>\n",
       "      <td>...</td>\n",
       "      <td>...</td>\n",
       "      <td>...</td>\n",
       "      <td>...</td>\n",
       "    </tr>\n",
       "    <tr>\n",
       "      <th>144</th>\n",
       "      <td>6.7</td>\n",
       "      <td>3.0</td>\n",
       "      <td>5.2</td>\n",
       "      <td>2.3</td>\n",
       "      <td>virginica</td>\n",
       "    </tr>\n",
       "    <tr>\n",
       "      <th>145</th>\n",
       "      <td>6.3</td>\n",
       "      <td>2.5</td>\n",
       "      <td>5.0</td>\n",
       "      <td>1.9</td>\n",
       "      <td>virginica</td>\n",
       "    </tr>\n",
       "    <tr>\n",
       "      <th>146</th>\n",
       "      <td>6.5</td>\n",
       "      <td>3.0</td>\n",
       "      <td>5.2</td>\n",
       "      <td>2.0</td>\n",
       "      <td>virginica</td>\n",
       "    </tr>\n",
       "    <tr>\n",
       "      <th>147</th>\n",
       "      <td>6.2</td>\n",
       "      <td>3.4</td>\n",
       "      <td>5.4</td>\n",
       "      <td>2.3</td>\n",
       "      <td>virginica</td>\n",
       "    </tr>\n",
       "    <tr>\n",
       "      <th>148</th>\n",
       "      <td>5.9</td>\n",
       "      <td>3.0</td>\n",
       "      <td>5.1</td>\n",
       "      <td>1.8</td>\n",
       "      <td>virginica</td>\n",
       "    </tr>\n",
       "  </tbody>\n",
       "</table>\n",
       "<p>149 rows × 5 columns</p>\n",
       "</div>"
      ],
      "text/plain": [
       "     sepal_length  sepal_width  petal_length  petal_width    species\n",
       "0             5.1          3.5           1.4          0.2     setosa\n",
       "1             4.9          3.0           1.4          0.2     setosa\n",
       "2             4.7          3.2           1.3          0.2     setosa\n",
       "3             4.6          3.1           1.5          0.2     setosa\n",
       "4             5.0          3.6           1.4          0.2     setosa\n",
       "..            ...          ...           ...          ...        ...\n",
       "144           6.7          3.0           5.2          2.3  virginica\n",
       "145           6.3          2.5           5.0          1.9  virginica\n",
       "146           6.5          3.0           5.2          2.0  virginica\n",
       "147           6.2          3.4           5.4          2.3  virginica\n",
       "148           5.9          3.0           5.1          1.8  virginica\n",
       "\n",
       "[149 rows x 5 columns]"
      ]
     },
     "execution_count": 74,
     "metadata": {},
     "output_type": "execute_result"
    }
   ],
   "source": [
    "df_2 = df_2.reset_index(drop=True)\n",
    "df_2"
   ]
  },
  {
   "cell_type": "markdown",
   "id": "de7a6042",
   "metadata": {},
   "source": [
    "## 2.3 - Imputing (valeurs manquantes)"
   ]
  },
  {
   "cell_type": "code",
   "execution_count": 75,
   "id": "3cf5669b",
   "metadata": {},
   "outputs": [],
   "source": [
    "df_sport = pd.read_csv('training/sport.csv')"
   ]
  },
  {
   "cell_type": "code",
   "execution_count": 76,
   "id": "aa47224d",
   "metadata": {},
   "outputs": [
    {
     "data": {
      "text/html": [
       "<div>\n",
       "<style scoped>\n",
       "    .dataframe tbody tr th:only-of-type {\n",
       "        vertical-align: middle;\n",
       "    }\n",
       "\n",
       "    .dataframe tbody tr th {\n",
       "        vertical-align: top;\n",
       "    }\n",
       "\n",
       "    .dataframe thead th {\n",
       "        text-align: right;\n",
       "    }\n",
       "</style>\n",
       "<table border=\"1\" class=\"dataframe\">\n",
       "  <thead>\n",
       "    <tr style=\"text-align: right;\">\n",
       "      <th></th>\n",
       "      <th>Sport</th>\n",
       "      <th>Pois</th>\n",
       "      <th>Taille</th>\n",
       "      <th>Salaire</th>\n",
       "    </tr>\n",
       "  </thead>\n",
       "  <tbody>\n",
       "    <tr>\n",
       "      <th>0</th>\n",
       "      <td>Football</td>\n",
       "      <td>75</td>\n",
       "      <td>173.0</td>\n",
       "      <td>600.0</td>\n",
       "    </tr>\n",
       "    <tr>\n",
       "      <th>1</th>\n",
       "      <td>Football</td>\n",
       "      <td>72</td>\n",
       "      <td>NaN</td>\n",
       "      <td>NaN</td>\n",
       "    </tr>\n",
       "    <tr>\n",
       "      <th>2</th>\n",
       "      <td>Tennis</td>\n",
       "      <td>68</td>\n",
       "      <td>172.0</td>\n",
       "      <td>NaN</td>\n",
       "    </tr>\n",
       "    <tr>\n",
       "      <th>3</th>\n",
       "      <td>Basketball</td>\n",
       "      <td>85</td>\n",
       "      <td>195.0</td>\n",
       "      <td>500.0</td>\n",
       "    </tr>\n",
       "    <tr>\n",
       "      <th>4</th>\n",
       "      <td>Basketball</td>\n",
       "      <td>92</td>\n",
       "      <td>210.0</td>\n",
       "      <td>600.0</td>\n",
       "    </tr>\n",
       "    <tr>\n",
       "      <th>5</th>\n",
       "      <td>Tennis</td>\n",
       "      <td>70</td>\n",
       "      <td>180.0</td>\n",
       "      <td>NaN</td>\n",
       "    </tr>\n",
       "    <tr>\n",
       "      <th>6</th>\n",
       "      <td>Tennis</td>\n",
       "      <td>69</td>\n",
       "      <td>175.0</td>\n",
       "      <td>NaN</td>\n",
       "    </tr>\n",
       "    <tr>\n",
       "      <th>7</th>\n",
       "      <td>BasketBall</td>\n",
       "      <td>81</td>\n",
       "      <td>188.0</td>\n",
       "      <td>172.0</td>\n",
       "    </tr>\n",
       "    <tr>\n",
       "      <th>8</th>\n",
       "      <td>Football</td>\n",
       "      <td>79</td>\n",
       "      <td>160.0</td>\n",
       "      <td>NaN</td>\n",
       "    </tr>\n",
       "    <tr>\n",
       "      <th>9</th>\n",
       "      <td>Football</td>\n",
       "      <td>85</td>\n",
       "      <td>178.0</td>\n",
       "      <td>800.0</td>\n",
       "    </tr>\n",
       "    <tr>\n",
       "      <th>10</th>\n",
       "      <td>Football</td>\n",
       "      <td>75</td>\n",
       "      <td>177.0</td>\n",
       "      <td>720.0</td>\n",
       "    </tr>\n",
       "    <tr>\n",
       "      <th>11</th>\n",
       "      <td>Basketball</td>\n",
       "      <td>88</td>\n",
       "      <td>NaN</td>\n",
       "      <td>590.0</td>\n",
       "    </tr>\n",
       "  </tbody>\n",
       "</table>\n",
       "</div>"
      ],
      "text/plain": [
       "         Sport  Pois  Taille  Salaire\n",
       "0     Football    75   173.0    600.0\n",
       "1     Football    72     NaN      NaN\n",
       "2       Tennis    68   172.0      NaN\n",
       "3   Basketball    85   195.0    500.0\n",
       "4   Basketball    92   210.0    600.0\n",
       "5       Tennis    70   180.0      NaN\n",
       "6       Tennis    69   175.0      NaN\n",
       "7   BasketBall    81   188.0    172.0\n",
       "8     Football    79   160.0      NaN\n",
       "9     Football    85   178.0    800.0\n",
       "10    Football    75   177.0    720.0\n",
       "11  Basketball    88     NaN    590.0"
      ]
     },
     "execution_count": 76,
     "metadata": {},
     "output_type": "execute_result"
    }
   ],
   "source": [
    "df_sport"
   ]
  },
  {
   "cell_type": "markdown",
   "id": "ca41ef64",
   "metadata": {},
   "source": [
    "    - Verifier la proportion des valeurs manquantes"
   ]
  },
  {
   "cell_type": "code",
   "execution_count": 77,
   "id": "d2914c96",
   "metadata": {},
   "outputs": [
    {
     "data": {
      "text/plain": [
       "Sport      0.000000\n",
       "Pois       0.000000\n",
       "Taille     0.166667\n",
       "Salaire    0.416667\n",
       "dtype: float64"
      ]
     },
     "execution_count": 77,
     "metadata": {},
     "output_type": "execute_result"
    }
   ],
   "source": [
    "(df_sport.isnull().sum() / df_sport.shape[0])"
   ]
  },
  {
   "cell_type": "markdown",
   "id": "62c92e29",
   "metadata": {},
   "source": [
    "    - Remplacer par la moyenne"
   ]
  },
  {
   "cell_type": "code",
   "execution_count": 78,
   "id": "3b762832",
   "metadata": {},
   "outputs": [
    {
     "data": {
      "text/plain": [
       "Pois        78.250000\n",
       "Taille     180.800000\n",
       "Salaire    568.857143\n",
       "dtype: float64"
      ]
     },
     "execution_count": 78,
     "metadata": {},
     "output_type": "execute_result"
    }
   ],
   "source": [
    "df_sport.mean(numeric_only=True)"
   ]
  },
  {
   "cell_type": "code",
   "execution_count": 79,
   "id": "a65ddc84",
   "metadata": {},
   "outputs": [
    {
     "data": {
      "text/html": [
       "<div>\n",
       "<style scoped>\n",
       "    .dataframe tbody tr th:only-of-type {\n",
       "        vertical-align: middle;\n",
       "    }\n",
       "\n",
       "    .dataframe tbody tr th {\n",
       "        vertical-align: top;\n",
       "    }\n",
       "\n",
       "    .dataframe thead th {\n",
       "        text-align: right;\n",
       "    }\n",
       "</style>\n",
       "<table border=\"1\" class=\"dataframe\">\n",
       "  <thead>\n",
       "    <tr style=\"text-align: right;\">\n",
       "      <th></th>\n",
       "      <th>Sport</th>\n",
       "      <th>Pois</th>\n",
       "      <th>Taille</th>\n",
       "      <th>Salaire</th>\n",
       "    </tr>\n",
       "  </thead>\n",
       "  <tbody>\n",
       "    <tr>\n",
       "      <th>0</th>\n",
       "      <td>Football</td>\n",
       "      <td>75</td>\n",
       "      <td>173.0</td>\n",
       "      <td>600.000000</td>\n",
       "    </tr>\n",
       "    <tr>\n",
       "      <th>1</th>\n",
       "      <td>Football</td>\n",
       "      <td>72</td>\n",
       "      <td>180.8</td>\n",
       "      <td>568.857143</td>\n",
       "    </tr>\n",
       "    <tr>\n",
       "      <th>2</th>\n",
       "      <td>Tennis</td>\n",
       "      <td>68</td>\n",
       "      <td>172.0</td>\n",
       "      <td>568.857143</td>\n",
       "    </tr>\n",
       "    <tr>\n",
       "      <th>3</th>\n",
       "      <td>Basketball</td>\n",
       "      <td>85</td>\n",
       "      <td>195.0</td>\n",
       "      <td>500.000000</td>\n",
       "    </tr>\n",
       "    <tr>\n",
       "      <th>4</th>\n",
       "      <td>Basketball</td>\n",
       "      <td>92</td>\n",
       "      <td>210.0</td>\n",
       "      <td>600.000000</td>\n",
       "    </tr>\n",
       "    <tr>\n",
       "      <th>5</th>\n",
       "      <td>Tennis</td>\n",
       "      <td>70</td>\n",
       "      <td>180.0</td>\n",
       "      <td>568.857143</td>\n",
       "    </tr>\n",
       "    <tr>\n",
       "      <th>6</th>\n",
       "      <td>Tennis</td>\n",
       "      <td>69</td>\n",
       "      <td>175.0</td>\n",
       "      <td>568.857143</td>\n",
       "    </tr>\n",
       "    <tr>\n",
       "      <th>7</th>\n",
       "      <td>BasketBall</td>\n",
       "      <td>81</td>\n",
       "      <td>188.0</td>\n",
       "      <td>172.000000</td>\n",
       "    </tr>\n",
       "    <tr>\n",
       "      <th>8</th>\n",
       "      <td>Football</td>\n",
       "      <td>79</td>\n",
       "      <td>160.0</td>\n",
       "      <td>568.857143</td>\n",
       "    </tr>\n",
       "    <tr>\n",
       "      <th>9</th>\n",
       "      <td>Football</td>\n",
       "      <td>85</td>\n",
       "      <td>178.0</td>\n",
       "      <td>800.000000</td>\n",
       "    </tr>\n",
       "    <tr>\n",
       "      <th>10</th>\n",
       "      <td>Football</td>\n",
       "      <td>75</td>\n",
       "      <td>177.0</td>\n",
       "      <td>720.000000</td>\n",
       "    </tr>\n",
       "    <tr>\n",
       "      <th>11</th>\n",
       "      <td>Basketball</td>\n",
       "      <td>88</td>\n",
       "      <td>180.8</td>\n",
       "      <td>590.000000</td>\n",
       "    </tr>\n",
       "  </tbody>\n",
       "</table>\n",
       "</div>"
      ],
      "text/plain": [
       "         Sport  Pois  Taille     Salaire\n",
       "0     Football    75   173.0  600.000000\n",
       "1     Football    72   180.8  568.857143\n",
       "2       Tennis    68   172.0  568.857143\n",
       "3   Basketball    85   195.0  500.000000\n",
       "4   Basketball    92   210.0  600.000000\n",
       "5       Tennis    70   180.0  568.857143\n",
       "6       Tennis    69   175.0  568.857143\n",
       "7   BasketBall    81   188.0  172.000000\n",
       "8     Football    79   160.0  568.857143\n",
       "9     Football    85   178.0  800.000000\n",
       "10    Football    75   177.0  720.000000\n",
       "11  Basketball    88   180.8  590.000000"
      ]
     },
     "execution_count": 79,
     "metadata": {},
     "output_type": "execute_result"
    }
   ],
   "source": [
    "df_sport.fillna(value=df_sport.mean(numeric_only=True))"
   ]
  },
  {
   "cell_type": "markdown",
   "id": "83b44d8f",
   "metadata": {},
   "source": [
    "    - Par la mediane"
   ]
  },
  {
   "cell_type": "code",
   "execution_count": 80,
   "id": "7479cfe5",
   "metadata": {},
   "outputs": [],
   "source": [
    "df_1 = pd.DataFrame(data={\n",
    "    'col1': [3.0, 7.0, 5.0, 9.0, np.nan, 6.0],\n",
    "    'col2': [0.42, 0.84, 0.63, np.nan, 0.98, 10.0]\n",
    "})"
   ]
  },
  {
   "cell_type": "code",
   "execution_count": 81,
   "id": "ee068253",
   "metadata": {},
   "outputs": [
    {
     "data": {
      "text/html": [
       "<div>\n",
       "<style scoped>\n",
       "    .dataframe tbody tr th:only-of-type {\n",
       "        vertical-align: middle;\n",
       "    }\n",
       "\n",
       "    .dataframe tbody tr th {\n",
       "        vertical-align: top;\n",
       "    }\n",
       "\n",
       "    .dataframe thead th {\n",
       "        text-align: right;\n",
       "    }\n",
       "</style>\n",
       "<table border=\"1\" class=\"dataframe\">\n",
       "  <thead>\n",
       "    <tr style=\"text-align: right;\">\n",
       "      <th></th>\n",
       "      <th>col1</th>\n",
       "      <th>col2</th>\n",
       "    </tr>\n",
       "  </thead>\n",
       "  <tbody>\n",
       "    <tr>\n",
       "      <th>0</th>\n",
       "      <td>3.0</td>\n",
       "      <td>0.42</td>\n",
       "    </tr>\n",
       "    <tr>\n",
       "      <th>1</th>\n",
       "      <td>7.0</td>\n",
       "      <td>0.84</td>\n",
       "    </tr>\n",
       "    <tr>\n",
       "      <th>2</th>\n",
       "      <td>5.0</td>\n",
       "      <td>0.63</td>\n",
       "    </tr>\n",
       "    <tr>\n",
       "      <th>3</th>\n",
       "      <td>9.0</td>\n",
       "      <td>NaN</td>\n",
       "    </tr>\n",
       "    <tr>\n",
       "      <th>4</th>\n",
       "      <td>NaN</td>\n",
       "      <td>0.98</td>\n",
       "    </tr>\n",
       "    <tr>\n",
       "      <th>5</th>\n",
       "      <td>6.0</td>\n",
       "      <td>10.00</td>\n",
       "    </tr>\n",
       "  </tbody>\n",
       "</table>\n",
       "</div>"
      ],
      "text/plain": [
       "   col1   col2\n",
       "0   3.0   0.42\n",
       "1   7.0   0.84\n",
       "2   5.0   0.63\n",
       "3   9.0    NaN\n",
       "4   NaN   0.98\n",
       "5   6.0  10.00"
      ]
     },
     "execution_count": 81,
     "metadata": {},
     "output_type": "execute_result"
    }
   ],
   "source": [
    "df_1"
   ]
  },
  {
   "cell_type": "code",
   "execution_count": 82,
   "id": "9f7be7b6",
   "metadata": {},
   "outputs": [
    {
     "data": {
      "text/plain": [
       "col1    6.000\n",
       "col2    2.574\n",
       "dtype: float64"
      ]
     },
     "execution_count": 82,
     "metadata": {},
     "output_type": "execute_result"
    }
   ],
   "source": [
    "df_1.mean()"
   ]
  },
  {
   "cell_type": "code",
   "execution_count": 83,
   "id": "a3146b84",
   "metadata": {},
   "outputs": [
    {
     "data": {
      "text/plain": [
       "col1    6.00\n",
       "col2    0.84\n",
       "dtype: float64"
      ]
     },
     "execution_count": 83,
     "metadata": {},
     "output_type": "execute_result"
    }
   ],
   "source": [
    "df_1.median()"
   ]
  },
  {
   "cell_type": "code",
   "execution_count": 84,
   "id": "9794ae91",
   "metadata": {},
   "outputs": [
    {
     "data": {
      "text/html": [
       "<div>\n",
       "<style scoped>\n",
       "    .dataframe tbody tr th:only-of-type {\n",
       "        vertical-align: middle;\n",
       "    }\n",
       "\n",
       "    .dataframe tbody tr th {\n",
       "        vertical-align: top;\n",
       "    }\n",
       "\n",
       "    .dataframe thead th {\n",
       "        text-align: right;\n",
       "    }\n",
       "</style>\n",
       "<table border=\"1\" class=\"dataframe\">\n",
       "  <thead>\n",
       "    <tr style=\"text-align: right;\">\n",
       "      <th></th>\n",
       "      <th>col1</th>\n",
       "      <th>col2</th>\n",
       "    </tr>\n",
       "  </thead>\n",
       "  <tbody>\n",
       "    <tr>\n",
       "      <th>0</th>\n",
       "      <td>3.0</td>\n",
       "      <td>0.42</td>\n",
       "    </tr>\n",
       "    <tr>\n",
       "      <th>1</th>\n",
       "      <td>7.0</td>\n",
       "      <td>0.84</td>\n",
       "    </tr>\n",
       "    <tr>\n",
       "      <th>2</th>\n",
       "      <td>5.0</td>\n",
       "      <td>0.63</td>\n",
       "    </tr>\n",
       "    <tr>\n",
       "      <th>3</th>\n",
       "      <td>9.0</td>\n",
       "      <td>0.84</td>\n",
       "    </tr>\n",
       "    <tr>\n",
       "      <th>4</th>\n",
       "      <td>6.0</td>\n",
       "      <td>0.98</td>\n",
       "    </tr>\n",
       "    <tr>\n",
       "      <th>5</th>\n",
       "      <td>6.0</td>\n",
       "      <td>10.00</td>\n",
       "    </tr>\n",
       "  </tbody>\n",
       "</table>\n",
       "</div>"
      ],
      "text/plain": [
       "   col1   col2\n",
       "0   3.0   0.42\n",
       "1   7.0   0.84\n",
       "2   5.0   0.63\n",
       "3   9.0   0.84\n",
       "4   6.0   0.98\n",
       "5   6.0  10.00"
      ]
     },
     "execution_count": 84,
     "metadata": {},
     "output_type": "execute_result"
    }
   ],
   "source": [
    "df_1.fillna(value=df_1.median())"
   ]
  },
  {
   "cell_type": "markdown",
   "id": "ecdf420c",
   "metadata": {},
   "source": [
    "    - remplacement localise"
   ]
  },
  {
   "cell_type": "code",
   "execution_count": 85,
   "id": "250b9e33",
   "metadata": {},
   "outputs": [
    {
     "data": {
      "text/html": [
       "<div>\n",
       "<style scoped>\n",
       "    .dataframe tbody tr th:only-of-type {\n",
       "        vertical-align: middle;\n",
       "    }\n",
       "\n",
       "    .dataframe tbody tr th {\n",
       "        vertical-align: top;\n",
       "    }\n",
       "\n",
       "    .dataframe thead th {\n",
       "        text-align: right;\n",
       "    }\n",
       "</style>\n",
       "<table border=\"1\" class=\"dataframe\">\n",
       "  <thead>\n",
       "    <tr style=\"text-align: right;\">\n",
       "      <th></th>\n",
       "      <th>col1</th>\n",
       "      <th>col2</th>\n",
       "    </tr>\n",
       "  </thead>\n",
       "  <tbody>\n",
       "    <tr>\n",
       "      <th>0</th>\n",
       "      <td>3.0</td>\n",
       "      <td>0.42</td>\n",
       "    </tr>\n",
       "    <tr>\n",
       "      <th>1</th>\n",
       "      <td>7.0</td>\n",
       "      <td>0.84</td>\n",
       "    </tr>\n",
       "    <tr>\n",
       "      <th>2</th>\n",
       "      <td>5.0</td>\n",
       "      <td>0.63</td>\n",
       "    </tr>\n",
       "    <tr>\n",
       "      <th>3</th>\n",
       "      <td>9.0</td>\n",
       "      <td>NaN</td>\n",
       "    </tr>\n",
       "    <tr>\n",
       "      <th>4</th>\n",
       "      <td>NaN</td>\n",
       "      <td>0.98</td>\n",
       "    </tr>\n",
       "    <tr>\n",
       "      <th>5</th>\n",
       "      <td>6.0</td>\n",
       "      <td>10.00</td>\n",
       "    </tr>\n",
       "  </tbody>\n",
       "</table>\n",
       "</div>"
      ],
      "text/plain": [
       "   col1   col2\n",
       "0   3.0   0.42\n",
       "1   7.0   0.84\n",
       "2   5.0   0.63\n",
       "3   9.0    NaN\n",
       "4   NaN   0.98\n",
       "5   6.0  10.00"
      ]
     },
     "execution_count": 85,
     "metadata": {},
     "output_type": "execute_result"
    }
   ],
   "source": [
    "df_1"
   ]
  },
  {
   "cell_type": "code",
   "execution_count": 86,
   "id": "1d38570d",
   "metadata": {},
   "outputs": [
    {
     "data": {
      "text/html": [
       "<div>\n",
       "<style scoped>\n",
       "    .dataframe tbody tr th:only-of-type {\n",
       "        vertical-align: middle;\n",
       "    }\n",
       "\n",
       "    .dataframe tbody tr th {\n",
       "        vertical-align: top;\n",
       "    }\n",
       "\n",
       "    .dataframe thead th {\n",
       "        text-align: right;\n",
       "    }\n",
       "</style>\n",
       "<table border=\"1\" class=\"dataframe\">\n",
       "  <thead>\n",
       "    <tr style=\"text-align: right;\">\n",
       "      <th></th>\n",
       "      <th>col1</th>\n",
       "      <th>col2</th>\n",
       "    </tr>\n",
       "  </thead>\n",
       "  <tbody>\n",
       "    <tr>\n",
       "      <th>0</th>\n",
       "      <td>3.0</td>\n",
       "      <td>0.42</td>\n",
       "    </tr>\n",
       "    <tr>\n",
       "      <th>1</th>\n",
       "      <td>7.0</td>\n",
       "      <td>0.84</td>\n",
       "    </tr>\n",
       "    <tr>\n",
       "      <th>2</th>\n",
       "      <td>5.0</td>\n",
       "      <td>0.63</td>\n",
       "    </tr>\n",
       "    <tr>\n",
       "      <th>3</th>\n",
       "      <td>9.0</td>\n",
       "      <td>0.63</td>\n",
       "    </tr>\n",
       "    <tr>\n",
       "      <th>4</th>\n",
       "      <td>9.0</td>\n",
       "      <td>0.98</td>\n",
       "    </tr>\n",
       "    <tr>\n",
       "      <th>5</th>\n",
       "      <td>6.0</td>\n",
       "      <td>10.00</td>\n",
       "    </tr>\n",
       "  </tbody>\n",
       "</table>\n",
       "</div>"
      ],
      "text/plain": [
       "   col1   col2\n",
       "0   3.0   0.42\n",
       "1   7.0   0.84\n",
       "2   5.0   0.63\n",
       "3   9.0   0.63\n",
       "4   9.0   0.98\n",
       "5   6.0  10.00"
      ]
     },
     "execution_count": 86,
     "metadata": {},
     "output_type": "execute_result"
    }
   ],
   "source": [
    "df_1.fillna(method='ffill')"
   ]
  },
  {
   "cell_type": "code",
   "execution_count": 87,
   "id": "20375731",
   "metadata": {},
   "outputs": [
    {
     "data": {
      "text/html": [
       "<div>\n",
       "<style scoped>\n",
       "    .dataframe tbody tr th:only-of-type {\n",
       "        vertical-align: middle;\n",
       "    }\n",
       "\n",
       "    .dataframe tbody tr th {\n",
       "        vertical-align: top;\n",
       "    }\n",
       "\n",
       "    .dataframe thead th {\n",
       "        text-align: right;\n",
       "    }\n",
       "</style>\n",
       "<table border=\"1\" class=\"dataframe\">\n",
       "  <thead>\n",
       "    <tr style=\"text-align: right;\">\n",
       "      <th></th>\n",
       "      <th>Sport</th>\n",
       "      <th>Pois</th>\n",
       "      <th>Taille</th>\n",
       "      <th>Salaire</th>\n",
       "    </tr>\n",
       "  </thead>\n",
       "  <tbody>\n",
       "    <tr>\n",
       "      <th>0</th>\n",
       "      <td>Football</td>\n",
       "      <td>75</td>\n",
       "      <td>173.0</td>\n",
       "      <td>600.0</td>\n",
       "    </tr>\n",
       "    <tr>\n",
       "      <th>1</th>\n",
       "      <td>Football</td>\n",
       "      <td>72</td>\n",
       "      <td>NaN</td>\n",
       "      <td>NaN</td>\n",
       "    </tr>\n",
       "    <tr>\n",
       "      <th>2</th>\n",
       "      <td>Tennis</td>\n",
       "      <td>68</td>\n",
       "      <td>172.0</td>\n",
       "      <td>NaN</td>\n",
       "    </tr>\n",
       "    <tr>\n",
       "      <th>3</th>\n",
       "      <td>Basketball</td>\n",
       "      <td>85</td>\n",
       "      <td>195.0</td>\n",
       "      <td>500.0</td>\n",
       "    </tr>\n",
       "    <tr>\n",
       "      <th>4</th>\n",
       "      <td>Basketball</td>\n",
       "      <td>92</td>\n",
       "      <td>210.0</td>\n",
       "      <td>600.0</td>\n",
       "    </tr>\n",
       "    <tr>\n",
       "      <th>5</th>\n",
       "      <td>Tennis</td>\n",
       "      <td>70</td>\n",
       "      <td>180.0</td>\n",
       "      <td>NaN</td>\n",
       "    </tr>\n",
       "    <tr>\n",
       "      <th>6</th>\n",
       "      <td>Tennis</td>\n",
       "      <td>69</td>\n",
       "      <td>175.0</td>\n",
       "      <td>NaN</td>\n",
       "    </tr>\n",
       "    <tr>\n",
       "      <th>7</th>\n",
       "      <td>BasketBall</td>\n",
       "      <td>81</td>\n",
       "      <td>188.0</td>\n",
       "      <td>172.0</td>\n",
       "    </tr>\n",
       "    <tr>\n",
       "      <th>8</th>\n",
       "      <td>Football</td>\n",
       "      <td>79</td>\n",
       "      <td>160.0</td>\n",
       "      <td>NaN</td>\n",
       "    </tr>\n",
       "    <tr>\n",
       "      <th>9</th>\n",
       "      <td>Football</td>\n",
       "      <td>85</td>\n",
       "      <td>178.0</td>\n",
       "      <td>800.0</td>\n",
       "    </tr>\n",
       "    <tr>\n",
       "      <th>10</th>\n",
       "      <td>Football</td>\n",
       "      <td>75</td>\n",
       "      <td>177.0</td>\n",
       "      <td>720.0</td>\n",
       "    </tr>\n",
       "    <tr>\n",
       "      <th>11</th>\n",
       "      <td>Basketball</td>\n",
       "      <td>88</td>\n",
       "      <td>NaN</td>\n",
       "      <td>590.0</td>\n",
       "    </tr>\n",
       "  </tbody>\n",
       "</table>\n",
       "</div>"
      ],
      "text/plain": [
       "         Sport  Pois  Taille  Salaire\n",
       "0     Football    75   173.0    600.0\n",
       "1     Football    72     NaN      NaN\n",
       "2       Tennis    68   172.0      NaN\n",
       "3   Basketball    85   195.0    500.0\n",
       "4   Basketball    92   210.0    600.0\n",
       "5       Tennis    70   180.0      NaN\n",
       "6       Tennis    69   175.0      NaN\n",
       "7   BasketBall    81   188.0    172.0\n",
       "8     Football    79   160.0      NaN\n",
       "9     Football    85   178.0    800.0\n",
       "10    Football    75   177.0    720.0\n",
       "11  Basketball    88     NaN    590.0"
      ]
     },
     "execution_count": 87,
     "metadata": {},
     "output_type": "execute_result"
    }
   ],
   "source": [
    "df_sport"
   ]
  },
  {
   "cell_type": "code",
   "execution_count": 88,
   "id": "8cfbc9fa",
   "metadata": {},
   "outputs": [],
   "source": [
    "football = df_sport[df_sport['Sport'] == 'Football']\n",
    "tennis = df_sport[df_sport['Sport'] == 'Tennis']\n",
    "basketBall = df_sport[df_sport['Sport'] == 'BasketBall']"
   ]
  },
  {
   "cell_type": "code",
   "execution_count": 89,
   "id": "accf8ced",
   "metadata": {},
   "outputs": [
    {
     "data": {
      "text/html": [
       "<div>\n",
       "<style scoped>\n",
       "    .dataframe tbody tr th:only-of-type {\n",
       "        vertical-align: middle;\n",
       "    }\n",
       "\n",
       "    .dataframe tbody tr th {\n",
       "        vertical-align: top;\n",
       "    }\n",
       "\n",
       "    .dataframe thead th {\n",
       "        text-align: right;\n",
       "    }\n",
       "</style>\n",
       "<table border=\"1\" class=\"dataframe\">\n",
       "  <thead>\n",
       "    <tr style=\"text-align: right;\">\n",
       "      <th></th>\n",
       "      <th>Sport</th>\n",
       "      <th>Pois</th>\n",
       "      <th>Taille</th>\n",
       "      <th>Salaire</th>\n",
       "    </tr>\n",
       "  </thead>\n",
       "  <tbody>\n",
       "    <tr>\n",
       "      <th>0</th>\n",
       "      <td>Football</td>\n",
       "      <td>75</td>\n",
       "      <td>173.0</td>\n",
       "      <td>600.0</td>\n",
       "    </tr>\n",
       "    <tr>\n",
       "      <th>1</th>\n",
       "      <td>Football</td>\n",
       "      <td>72</td>\n",
       "      <td>NaN</td>\n",
       "      <td>NaN</td>\n",
       "    </tr>\n",
       "    <tr>\n",
       "      <th>8</th>\n",
       "      <td>Football</td>\n",
       "      <td>79</td>\n",
       "      <td>160.0</td>\n",
       "      <td>NaN</td>\n",
       "    </tr>\n",
       "    <tr>\n",
       "      <th>9</th>\n",
       "      <td>Football</td>\n",
       "      <td>85</td>\n",
       "      <td>178.0</td>\n",
       "      <td>800.0</td>\n",
       "    </tr>\n",
       "    <tr>\n",
       "      <th>10</th>\n",
       "      <td>Football</td>\n",
       "      <td>75</td>\n",
       "      <td>177.0</td>\n",
       "      <td>720.0</td>\n",
       "    </tr>\n",
       "  </tbody>\n",
       "</table>\n",
       "</div>"
      ],
      "text/plain": [
       "       Sport  Pois  Taille  Salaire\n",
       "0   Football    75   173.0    600.0\n",
       "1   Football    72     NaN      NaN\n",
       "8   Football    79   160.0      NaN\n",
       "9   Football    85   178.0    800.0\n",
       "10  Football    75   177.0    720.0"
      ]
     },
     "execution_count": 89,
     "metadata": {},
     "output_type": "execute_result"
    }
   ],
   "source": [
    "football"
   ]
  },
  {
   "cell_type": "code",
   "execution_count": 90,
   "id": "4ca17269",
   "metadata": {},
   "outputs": [
    {
     "data": {
      "text/html": [
       "<div>\n",
       "<style scoped>\n",
       "    .dataframe tbody tr th:only-of-type {\n",
       "        vertical-align: middle;\n",
       "    }\n",
       "\n",
       "    .dataframe tbody tr th {\n",
       "        vertical-align: top;\n",
       "    }\n",
       "\n",
       "    .dataframe thead th {\n",
       "        text-align: right;\n",
       "    }\n",
       "</style>\n",
       "<table border=\"1\" class=\"dataframe\">\n",
       "  <thead>\n",
       "    <tr style=\"text-align: right;\">\n",
       "      <th></th>\n",
       "      <th>Sport</th>\n",
       "      <th>Pois</th>\n",
       "      <th>Taille</th>\n",
       "      <th>Salaire</th>\n",
       "    </tr>\n",
       "  </thead>\n",
       "  <tbody>\n",
       "    <tr>\n",
       "      <th>2</th>\n",
       "      <td>Tennis</td>\n",
       "      <td>68</td>\n",
       "      <td>172.0</td>\n",
       "      <td>NaN</td>\n",
       "    </tr>\n",
       "    <tr>\n",
       "      <th>5</th>\n",
       "      <td>Tennis</td>\n",
       "      <td>70</td>\n",
       "      <td>180.0</td>\n",
       "      <td>NaN</td>\n",
       "    </tr>\n",
       "    <tr>\n",
       "      <th>6</th>\n",
       "      <td>Tennis</td>\n",
       "      <td>69</td>\n",
       "      <td>175.0</td>\n",
       "      <td>NaN</td>\n",
       "    </tr>\n",
       "  </tbody>\n",
       "</table>\n",
       "</div>"
      ],
      "text/plain": [
       "    Sport  Pois  Taille  Salaire\n",
       "2  Tennis    68   172.0      NaN\n",
       "5  Tennis    70   180.0      NaN\n",
       "6  Tennis    69   175.0      NaN"
      ]
     },
     "execution_count": 90,
     "metadata": {},
     "output_type": "execute_result"
    }
   ],
   "source": [
    "tennis"
   ]
  },
  {
   "cell_type": "code",
   "execution_count": 91,
   "id": "222b679a",
   "metadata": {},
   "outputs": [
    {
     "data": {
      "text/html": [
       "<div>\n",
       "<style scoped>\n",
       "    .dataframe tbody tr th:only-of-type {\n",
       "        vertical-align: middle;\n",
       "    }\n",
       "\n",
       "    .dataframe tbody tr th {\n",
       "        vertical-align: top;\n",
       "    }\n",
       "\n",
       "    .dataframe thead th {\n",
       "        text-align: right;\n",
       "    }\n",
       "</style>\n",
       "<table border=\"1\" class=\"dataframe\">\n",
       "  <thead>\n",
       "    <tr style=\"text-align: right;\">\n",
       "      <th></th>\n",
       "      <th>Sport</th>\n",
       "      <th>Pois</th>\n",
       "      <th>Taille</th>\n",
       "      <th>Salaire</th>\n",
       "    </tr>\n",
       "  </thead>\n",
       "  <tbody>\n",
       "    <tr>\n",
       "      <th>7</th>\n",
       "      <td>BasketBall</td>\n",
       "      <td>81</td>\n",
       "      <td>188.0</td>\n",
       "      <td>172.0</td>\n",
       "    </tr>\n",
       "  </tbody>\n",
       "</table>\n",
       "</div>"
      ],
      "text/plain": [
       "        Sport  Pois  Taille  Salaire\n",
       "7  BasketBall    81   188.0    172.0"
      ]
     },
     "execution_count": 91,
     "metadata": {},
     "output_type": "execute_result"
    }
   ],
   "source": [
    "basketBall"
   ]
  },
  {
   "cell_type": "code",
   "execution_count": 92,
   "id": "b0cd6a20",
   "metadata": {},
   "outputs": [
    {
     "data": {
      "text/plain": [
       "Pois        77.200000\n",
       "Taille     172.000000\n",
       "Salaire    706.666667\n",
       "dtype: float64"
      ]
     },
     "execution_count": 92,
     "metadata": {},
     "output_type": "execute_result"
    }
   ],
   "source": [
    "football.mean(numeric_only=True)"
   ]
  },
  {
   "cell_type": "code",
   "execution_count": 93,
   "id": "fc174b41",
   "metadata": {},
   "outputs": [
    {
     "data": {
      "text/plain": [
       "Pois        69.000000\n",
       "Taille     175.666667\n",
       "Salaire           NaN\n",
       "dtype: float64"
      ]
     },
     "execution_count": 93,
     "metadata": {},
     "output_type": "execute_result"
    }
   ],
   "source": [
    "tennis.mean(numeric_only=True)"
   ]
  },
  {
   "cell_type": "code",
   "execution_count": 94,
   "id": "5030bed3",
   "metadata": {},
   "outputs": [
    {
     "data": {
      "text/html": [
       "<div>\n",
       "<style scoped>\n",
       "    .dataframe tbody tr th:only-of-type {\n",
       "        vertical-align: middle;\n",
       "    }\n",
       "\n",
       "    .dataframe tbody tr th {\n",
       "        vertical-align: top;\n",
       "    }\n",
       "\n",
       "    .dataframe thead th {\n",
       "        text-align: right;\n",
       "    }\n",
       "</style>\n",
       "<table border=\"1\" class=\"dataframe\">\n",
       "  <thead>\n",
       "    <tr style=\"text-align: right;\">\n",
       "      <th></th>\n",
       "      <th>Sport</th>\n",
       "      <th>Pois</th>\n",
       "      <th>Taille</th>\n",
       "      <th>Salaire</th>\n",
       "    </tr>\n",
       "  </thead>\n",
       "  <tbody>\n",
       "    <tr>\n",
       "      <th>0</th>\n",
       "      <td>Football</td>\n",
       "      <td>75</td>\n",
       "      <td>173.0</td>\n",
       "      <td>600.000000</td>\n",
       "    </tr>\n",
       "    <tr>\n",
       "      <th>1</th>\n",
       "      <td>Football</td>\n",
       "      <td>72</td>\n",
       "      <td>172.0</td>\n",
       "      <td>706.666667</td>\n",
       "    </tr>\n",
       "    <tr>\n",
       "      <th>8</th>\n",
       "      <td>Football</td>\n",
       "      <td>79</td>\n",
       "      <td>160.0</td>\n",
       "      <td>706.666667</td>\n",
       "    </tr>\n",
       "    <tr>\n",
       "      <th>9</th>\n",
       "      <td>Football</td>\n",
       "      <td>85</td>\n",
       "      <td>178.0</td>\n",
       "      <td>800.000000</td>\n",
       "    </tr>\n",
       "    <tr>\n",
       "      <th>10</th>\n",
       "      <td>Football</td>\n",
       "      <td>75</td>\n",
       "      <td>177.0</td>\n",
       "      <td>720.000000</td>\n",
       "    </tr>\n",
       "  </tbody>\n",
       "</table>\n",
       "</div>"
      ],
      "text/plain": [
       "       Sport  Pois  Taille     Salaire\n",
       "0   Football    75   173.0  600.000000\n",
       "1   Football    72   172.0  706.666667\n",
       "8   Football    79   160.0  706.666667\n",
       "9   Football    85   178.0  800.000000\n",
       "10  Football    75   177.0  720.000000"
      ]
     },
     "execution_count": 94,
     "metadata": {},
     "output_type": "execute_result"
    }
   ],
   "source": [
    "df_sport[df_sport['Sport'] == 'Football'].fillna(value=football.mean(numeric_only=True))"
   ]
  },
  {
   "cell_type": "code",
   "execution_count": 95,
   "id": "eaa25c8c",
   "metadata": {},
   "outputs": [
    {
     "data": {
      "text/html": [
       "<div>\n",
       "<style scoped>\n",
       "    .dataframe tbody tr th:only-of-type {\n",
       "        vertical-align: middle;\n",
       "    }\n",
       "\n",
       "    .dataframe tbody tr th {\n",
       "        vertical-align: top;\n",
       "    }\n",
       "\n",
       "    .dataframe thead th {\n",
       "        text-align: right;\n",
       "    }\n",
       "</style>\n",
       "<table border=\"1\" class=\"dataframe\">\n",
       "  <thead>\n",
       "    <tr style=\"text-align: right;\">\n",
       "      <th></th>\n",
       "      <th>Sport</th>\n",
       "      <th>Pois</th>\n",
       "      <th>Taille</th>\n",
       "      <th>Salaire</th>\n",
       "    </tr>\n",
       "  </thead>\n",
       "  <tbody>\n",
       "    <tr>\n",
       "      <th>2</th>\n",
       "      <td>Tennis</td>\n",
       "      <td>68</td>\n",
       "      <td>172.0</td>\n",
       "      <td>NaN</td>\n",
       "    </tr>\n",
       "    <tr>\n",
       "      <th>5</th>\n",
       "      <td>Tennis</td>\n",
       "      <td>70</td>\n",
       "      <td>180.0</td>\n",
       "      <td>NaN</td>\n",
       "    </tr>\n",
       "    <tr>\n",
       "      <th>6</th>\n",
       "      <td>Tennis</td>\n",
       "      <td>69</td>\n",
       "      <td>175.0</td>\n",
       "      <td>NaN</td>\n",
       "    </tr>\n",
       "  </tbody>\n",
       "</table>\n",
       "</div>"
      ],
      "text/plain": [
       "    Sport  Pois  Taille  Salaire\n",
       "2  Tennis    68   172.0      NaN\n",
       "5  Tennis    70   180.0      NaN\n",
       "6  Tennis    69   175.0      NaN"
      ]
     },
     "execution_count": 95,
     "metadata": {},
     "output_type": "execute_result"
    }
   ],
   "source": [
    "df_sport[df_sport['Sport'] == 'Tennis'].fillna(value=tennis.mean(numeric_only=True))"
   ]
  },
  {
   "cell_type": "markdown",
   "id": "aaf80200",
   "metadata": {},
   "source": [
    "    - SimpleImputer (tres interessant pour faire un remplacement, si la valeur manquante n'est pas nan)"
   ]
  },
  {
   "cell_type": "code",
   "execution_count": 96,
   "id": "2991f2ea",
   "metadata": {},
   "outputs": [
    {
     "data": {
      "text/html": [
       "<div>\n",
       "<style scoped>\n",
       "    .dataframe tbody tr th:only-of-type {\n",
       "        vertical-align: middle;\n",
       "    }\n",
       "\n",
       "    .dataframe tbody tr th {\n",
       "        vertical-align: top;\n",
       "    }\n",
       "\n",
       "    .dataframe thead th {\n",
       "        text-align: right;\n",
       "    }\n",
       "</style>\n",
       "<table border=\"1\" class=\"dataframe\">\n",
       "  <thead>\n",
       "    <tr style=\"text-align: right;\">\n",
       "      <th></th>\n",
       "      <th>Sport</th>\n",
       "      <th>Pois</th>\n",
       "      <th>Taille</th>\n",
       "      <th>Salaire</th>\n",
       "    </tr>\n",
       "  </thead>\n",
       "  <tbody>\n",
       "    <tr>\n",
       "      <th>0</th>\n",
       "      <td>Football</td>\n",
       "      <td>75</td>\n",
       "      <td>173.0</td>\n",
       "      <td>600.0</td>\n",
       "    </tr>\n",
       "    <tr>\n",
       "      <th>1</th>\n",
       "      <td>Football</td>\n",
       "      <td>72</td>\n",
       "      <td>NaN</td>\n",
       "      <td>NaN</td>\n",
       "    </tr>\n",
       "    <tr>\n",
       "      <th>2</th>\n",
       "      <td>Tennis</td>\n",
       "      <td>68</td>\n",
       "      <td>172.0</td>\n",
       "      <td>NaN</td>\n",
       "    </tr>\n",
       "    <tr>\n",
       "      <th>3</th>\n",
       "      <td>Basketball</td>\n",
       "      <td>85</td>\n",
       "      <td>195.0</td>\n",
       "      <td>500.0</td>\n",
       "    </tr>\n",
       "    <tr>\n",
       "      <th>4</th>\n",
       "      <td>Basketball</td>\n",
       "      <td>92</td>\n",
       "      <td>210.0</td>\n",
       "      <td>600.0</td>\n",
       "    </tr>\n",
       "    <tr>\n",
       "      <th>5</th>\n",
       "      <td>Tennis</td>\n",
       "      <td>70</td>\n",
       "      <td>180.0</td>\n",
       "      <td>NaN</td>\n",
       "    </tr>\n",
       "    <tr>\n",
       "      <th>6</th>\n",
       "      <td>Tennis</td>\n",
       "      <td>69</td>\n",
       "      <td>175.0</td>\n",
       "      <td>NaN</td>\n",
       "    </tr>\n",
       "    <tr>\n",
       "      <th>7</th>\n",
       "      <td>BasketBall</td>\n",
       "      <td>81</td>\n",
       "      <td>188.0</td>\n",
       "      <td>172.0</td>\n",
       "    </tr>\n",
       "    <tr>\n",
       "      <th>8</th>\n",
       "      <td>Football</td>\n",
       "      <td>79</td>\n",
       "      <td>160.0</td>\n",
       "      <td>NaN</td>\n",
       "    </tr>\n",
       "    <tr>\n",
       "      <th>9</th>\n",
       "      <td>Football</td>\n",
       "      <td>85</td>\n",
       "      <td>178.0</td>\n",
       "      <td>800.0</td>\n",
       "    </tr>\n",
       "    <tr>\n",
       "      <th>10</th>\n",
       "      <td>Football</td>\n",
       "      <td>75</td>\n",
       "      <td>177.0</td>\n",
       "      <td>720.0</td>\n",
       "    </tr>\n",
       "    <tr>\n",
       "      <th>11</th>\n",
       "      <td>Basketball</td>\n",
       "      <td>88</td>\n",
       "      <td>NaN</td>\n",
       "      <td>590.0</td>\n",
       "    </tr>\n",
       "  </tbody>\n",
       "</table>\n",
       "</div>"
      ],
      "text/plain": [
       "         Sport  Pois  Taille  Salaire\n",
       "0     Football    75   173.0    600.0\n",
       "1     Football    72     NaN      NaN\n",
       "2       Tennis    68   172.0      NaN\n",
       "3   Basketball    85   195.0    500.0\n",
       "4   Basketball    92   210.0    600.0\n",
       "5       Tennis    70   180.0      NaN\n",
       "6       Tennis    69   175.0      NaN\n",
       "7   BasketBall    81   188.0    172.0\n",
       "8     Football    79   160.0      NaN\n",
       "9     Football    85   178.0    800.0\n",
       "10    Football    75   177.0    720.0\n",
       "11  Basketball    88     NaN    590.0"
      ]
     },
     "execution_count": 96,
     "metadata": {},
     "output_type": "execute_result"
    }
   ],
   "source": [
    "df_sport"
   ]
  },
  {
   "cell_type": "code",
   "execution_count": 97,
   "id": "0c232a1d",
   "metadata": {},
   "outputs": [
    {
     "data": {
      "text/html": [
       "<div>\n",
       "<style scoped>\n",
       "    .dataframe tbody tr th:only-of-type {\n",
       "        vertical-align: middle;\n",
       "    }\n",
       "\n",
       "    .dataframe tbody tr th {\n",
       "        vertical-align: top;\n",
       "    }\n",
       "\n",
       "    .dataframe thead th {\n",
       "        text-align: right;\n",
       "    }\n",
       "</style>\n",
       "<table border=\"1\" class=\"dataframe\">\n",
       "  <thead>\n",
       "    <tr style=\"text-align: right;\">\n",
       "      <th></th>\n",
       "      <th>Sport</th>\n",
       "      <th>Pois</th>\n",
       "      <th>Taille</th>\n",
       "      <th>Salaire</th>\n",
       "    </tr>\n",
       "  </thead>\n",
       "  <tbody>\n",
       "    <tr>\n",
       "      <th>0</th>\n",
       "      <td>Football</td>\n",
       "      <td>75</td>\n",
       "      <td>173.0</td>\n",
       "      <td>600.0</td>\n",
       "    </tr>\n",
       "    <tr>\n",
       "      <th>1</th>\n",
       "      <td>Football</td>\n",
       "      <td>72</td>\n",
       "      <td>-1.0</td>\n",
       "      <td>-1.0</td>\n",
       "    </tr>\n",
       "    <tr>\n",
       "      <th>2</th>\n",
       "      <td>Tennis</td>\n",
       "      <td>68</td>\n",
       "      <td>172.0</td>\n",
       "      <td>-1.0</td>\n",
       "    </tr>\n",
       "    <tr>\n",
       "      <th>3</th>\n",
       "      <td>Basketball</td>\n",
       "      <td>85</td>\n",
       "      <td>195.0</td>\n",
       "      <td>500.0</td>\n",
       "    </tr>\n",
       "    <tr>\n",
       "      <th>4</th>\n",
       "      <td>Basketball</td>\n",
       "      <td>92</td>\n",
       "      <td>210.0</td>\n",
       "      <td>600.0</td>\n",
       "    </tr>\n",
       "    <tr>\n",
       "      <th>5</th>\n",
       "      <td>Tennis</td>\n",
       "      <td>70</td>\n",
       "      <td>180.0</td>\n",
       "      <td>-1.0</td>\n",
       "    </tr>\n",
       "    <tr>\n",
       "      <th>6</th>\n",
       "      <td>Tennis</td>\n",
       "      <td>69</td>\n",
       "      <td>175.0</td>\n",
       "      <td>-1.0</td>\n",
       "    </tr>\n",
       "    <tr>\n",
       "      <th>7</th>\n",
       "      <td>BasketBall</td>\n",
       "      <td>81</td>\n",
       "      <td>188.0</td>\n",
       "      <td>172.0</td>\n",
       "    </tr>\n",
       "    <tr>\n",
       "      <th>8</th>\n",
       "      <td>Football</td>\n",
       "      <td>79</td>\n",
       "      <td>160.0</td>\n",
       "      <td>-1.0</td>\n",
       "    </tr>\n",
       "    <tr>\n",
       "      <th>9</th>\n",
       "      <td>Football</td>\n",
       "      <td>85</td>\n",
       "      <td>178.0</td>\n",
       "      <td>800.0</td>\n",
       "    </tr>\n",
       "    <tr>\n",
       "      <th>10</th>\n",
       "      <td>Football</td>\n",
       "      <td>75</td>\n",
       "      <td>177.0</td>\n",
       "      <td>720.0</td>\n",
       "    </tr>\n",
       "    <tr>\n",
       "      <th>11</th>\n",
       "      <td>Basketball</td>\n",
       "      <td>88</td>\n",
       "      <td>-1.0</td>\n",
       "      <td>590.0</td>\n",
       "    </tr>\n",
       "  </tbody>\n",
       "</table>\n",
       "</div>"
      ],
      "text/plain": [
       "         Sport  Pois  Taille  Salaire\n",
       "0     Football    75   173.0    600.0\n",
       "1     Football    72    -1.0     -1.0\n",
       "2       Tennis    68   172.0     -1.0\n",
       "3   Basketball    85   195.0    500.0\n",
       "4   Basketball    92   210.0    600.0\n",
       "5       Tennis    70   180.0     -1.0\n",
       "6       Tennis    69   175.0     -1.0\n",
       "7   BasketBall    81   188.0    172.0\n",
       "8     Football    79   160.0     -1.0\n",
       "9     Football    85   178.0    800.0\n",
       "10    Football    75   177.0    720.0\n",
       "11  Basketball    88    -1.0    590.0"
      ]
     },
     "execution_count": 97,
     "metadata": {},
     "output_type": "execute_result"
    }
   ],
   "source": [
    "df_2 = df_sport.fillna(value=-1)\n",
    "df_2"
   ]
  },
  {
   "cell_type": "code",
   "execution_count": 98,
   "id": "5cca570d",
   "metadata": {},
   "outputs": [],
   "source": [
    "# !pip install sklearn"
   ]
  },
  {
   "cell_type": "code",
   "execution_count": 102,
   "id": "904dbfa5",
   "metadata": {},
   "outputs": [],
   "source": [
    "from sklearn.impute import SimpleImputer"
   ]
  },
  {
   "cell_type": "code",
   "execution_count": 110,
   "id": "ee2b212d",
   "metadata": {},
   "outputs": [],
   "source": [
    "imp = SimpleImputer(missing_values=-1.0, strategy='mean')"
   ]
  },
  {
   "cell_type": "code",
   "execution_count": 111,
   "id": "a05a088e",
   "metadata": {},
   "outputs": [
    {
     "data": {
      "text/plain": [
       "array([[ 75.        , 173.        , 600.        ],\n",
       "       [ 72.        , 180.8       , 568.85714286],\n",
       "       [ 68.        , 172.        , 568.85714286],\n",
       "       [ 85.        , 195.        , 500.        ],\n",
       "       [ 92.        , 210.        , 600.        ],\n",
       "       [ 70.        , 180.        , 568.85714286],\n",
       "       [ 69.        , 175.        , 568.85714286],\n",
       "       [ 81.        , 188.        , 172.        ],\n",
       "       [ 79.        , 160.        , 568.85714286],\n",
       "       [ 85.        , 178.        , 800.        ],\n",
       "       [ 75.        , 177.        , 720.        ],\n",
       "       [ 88.        , 180.8       , 590.        ]])"
      ]
     },
     "execution_count": 111,
     "metadata": {},
     "output_type": "execute_result"
    }
   ],
   "source": [
    "X = imp.fit_transform(df_2[['Pois', 'Taille', 'Salaire']])\n",
    "X"
   ]
  },
  {
   "cell_type": "code",
   "execution_count": 112,
   "id": "4ce0dac8",
   "metadata": {},
   "outputs": [
    {
     "data": {
      "text/html": [
       "<div>\n",
       "<style scoped>\n",
       "    .dataframe tbody tr th:only-of-type {\n",
       "        vertical-align: middle;\n",
       "    }\n",
       "\n",
       "    .dataframe tbody tr th {\n",
       "        vertical-align: top;\n",
       "    }\n",
       "\n",
       "    .dataframe thead th {\n",
       "        text-align: right;\n",
       "    }\n",
       "</style>\n",
       "<table border=\"1\" class=\"dataframe\">\n",
       "  <thead>\n",
       "    <tr style=\"text-align: right;\">\n",
       "      <th></th>\n",
       "      <th>Pois</th>\n",
       "      <th>Taille</th>\n",
       "      <th>Salaire</th>\n",
       "    </tr>\n",
       "  </thead>\n",
       "  <tbody>\n",
       "    <tr>\n",
       "      <th>0</th>\n",
       "      <td>75.0</td>\n",
       "      <td>173.0</td>\n",
       "      <td>600.000000</td>\n",
       "    </tr>\n",
       "    <tr>\n",
       "      <th>1</th>\n",
       "      <td>72.0</td>\n",
       "      <td>180.8</td>\n",
       "      <td>568.857143</td>\n",
       "    </tr>\n",
       "    <tr>\n",
       "      <th>2</th>\n",
       "      <td>68.0</td>\n",
       "      <td>172.0</td>\n",
       "      <td>568.857143</td>\n",
       "    </tr>\n",
       "    <tr>\n",
       "      <th>3</th>\n",
       "      <td>85.0</td>\n",
       "      <td>195.0</td>\n",
       "      <td>500.000000</td>\n",
       "    </tr>\n",
       "    <tr>\n",
       "      <th>4</th>\n",
       "      <td>92.0</td>\n",
       "      <td>210.0</td>\n",
       "      <td>600.000000</td>\n",
       "    </tr>\n",
       "    <tr>\n",
       "      <th>5</th>\n",
       "      <td>70.0</td>\n",
       "      <td>180.0</td>\n",
       "      <td>568.857143</td>\n",
       "    </tr>\n",
       "    <tr>\n",
       "      <th>6</th>\n",
       "      <td>69.0</td>\n",
       "      <td>175.0</td>\n",
       "      <td>568.857143</td>\n",
       "    </tr>\n",
       "    <tr>\n",
       "      <th>7</th>\n",
       "      <td>81.0</td>\n",
       "      <td>188.0</td>\n",
       "      <td>172.000000</td>\n",
       "    </tr>\n",
       "    <tr>\n",
       "      <th>8</th>\n",
       "      <td>79.0</td>\n",
       "      <td>160.0</td>\n",
       "      <td>568.857143</td>\n",
       "    </tr>\n",
       "    <tr>\n",
       "      <th>9</th>\n",
       "      <td>85.0</td>\n",
       "      <td>178.0</td>\n",
       "      <td>800.000000</td>\n",
       "    </tr>\n",
       "    <tr>\n",
       "      <th>10</th>\n",
       "      <td>75.0</td>\n",
       "      <td>177.0</td>\n",
       "      <td>720.000000</td>\n",
       "    </tr>\n",
       "    <tr>\n",
       "      <th>11</th>\n",
       "      <td>88.0</td>\n",
       "      <td>180.8</td>\n",
       "      <td>590.000000</td>\n",
       "    </tr>\n",
       "  </tbody>\n",
       "</table>\n",
       "</div>"
      ],
      "text/plain": [
       "    Pois  Taille     Salaire\n",
       "0   75.0   173.0  600.000000\n",
       "1   72.0   180.8  568.857143\n",
       "2   68.0   172.0  568.857143\n",
       "3   85.0   195.0  500.000000\n",
       "4   92.0   210.0  600.000000\n",
       "5   70.0   180.0  568.857143\n",
       "6   69.0   175.0  568.857143\n",
       "7   81.0   188.0  172.000000\n",
       "8   79.0   160.0  568.857143\n",
       "9   85.0   178.0  800.000000\n",
       "10  75.0   177.0  720.000000\n",
       "11  88.0   180.8  590.000000"
      ]
     },
     "execution_count": 112,
     "metadata": {},
     "output_type": "execute_result"
    }
   ],
   "source": [
    "df_3 = pd.DataFrame(data=X, columns=['Pois', 'Taille', 'Salaire'])\n",
    "df_3"
   ]
  },
  {
   "cell_type": "markdown",
   "id": "e3b3070e",
   "metadata": {},
   "source": [
    "    - Normalization :permet de ramener les variables dans le meme ordre de grandeur"
   ]
  },
  {
   "cell_type": "code",
   "execution_count": 113,
   "id": "7ab596f9",
   "metadata": {},
   "outputs": [],
   "source": [
    "from sklearn.preprocessing import StandardScaler, RobustScaler"
   ]
  },
  {
   "cell_type": "code",
   "execution_count": 114,
   "id": "7ac3d188",
   "metadata": {},
   "outputs": [],
   "source": [
    "std = StandardScaler()"
   ]
  },
  {
   "cell_type": "code",
   "execution_count": 115,
   "id": "62381b27",
   "metadata": {},
   "outputs": [
    {
     "data": {
      "text/plain": [
       "array([[-4.24842651e-01, -6.48949312e-01,  2.19803859e-01],\n",
       "       [-8.17005098e-01,  2.36464728e-15,  0.00000000e+00],\n",
       "       [-1.33988836e+00, -7.32147942e-01,  0.00000000e+00],\n",
       "       [ 8.82365506e-01,  1.18142054e+00, -4.85988348e-01],\n",
       "       [ 1.79741122e+00,  2.42939999e+00,  2.19803859e-01],\n",
       "       [-1.07844673e+00, -6.65589038e-02,  0.00000000e+00],\n",
       "       [-1.20916754e+00, -4.82552053e-01,  0.00000000e+00],\n",
       "       [ 3.59482243e-01,  5.99030134e-01, -2.80098679e+00],\n",
       "       [ 9.80406117e-02, -1.73053150e+00,  0.00000000e+00],\n",
       "       [ 8.82365506e-01, -2.32956163e-01,  1.63138827e+00],\n",
       "       [-4.24842651e-01, -3.16154793e-01,  1.06675451e+00],\n",
       "       [ 1.27452795e+00,  2.36464728e-15,  1.49224638e-01]])"
      ]
     },
     "execution_count": 115,
     "metadata": {},
     "output_type": "execute_result"
    }
   ],
   "source": [
    "X_sc = std.fit_transform(df_3)\n",
    "X_sc"
   ]
  },
  {
   "cell_type": "code",
   "execution_count": 116,
   "id": "e1ec5f0b",
   "metadata": {},
   "outputs": [
    {
     "data": {
      "text/plain": [
       "array([[ -0.14814815,  -0.74074074,   1.        ],\n",
       "       [ -0.37037037,   0.22222222,   0.        ],\n",
       "       [ -0.66666667,  -0.86419753,   0.        ],\n",
       "       [  0.59259259,   1.97530864,  -2.21100917],\n",
       "       [  1.11111111,   3.82716049,   1.        ],\n",
       "       [ -0.51851852,   0.12345679,   0.        ],\n",
       "       [ -0.59259259,  -0.49382716,   0.        ],\n",
       "       [  0.2962963 ,   1.11111111, -12.74311927],\n",
       "       [  0.14814815,  -2.34567901,   0.        ],\n",
       "       [  0.59259259,  -0.12345679,   7.42201835],\n",
       "       [ -0.14814815,  -0.24691358,   4.85321101],\n",
       "       [  0.81481481,   0.22222222,   0.67889908]])"
      ]
     },
     "execution_count": 116,
     "metadata": {},
     "output_type": "execute_result"
    }
   ],
   "source": [
    "std = RobustScaler()\n",
    "X_sc = std.fit_transform(df_3)\n",
    "X_sc"
   ]
  },
  {
   "cell_type": "markdown",
   "id": "0c3611b6",
   "metadata": {},
   "source": [
    "    - Encoding des variables"
   ]
  },
  {
   "cell_type": "code",
   "execution_count": 117,
   "id": "ad55b5cf",
   "metadata": {},
   "outputs": [
    {
     "data": {
      "text/html": [
       "<div>\n",
       "<style scoped>\n",
       "    .dataframe tbody tr th:only-of-type {\n",
       "        vertical-align: middle;\n",
       "    }\n",
       "\n",
       "    .dataframe tbody tr th {\n",
       "        vertical-align: top;\n",
       "    }\n",
       "\n",
       "    .dataframe thead th {\n",
       "        text-align: right;\n",
       "    }\n",
       "</style>\n",
       "<table border=\"1\" class=\"dataframe\">\n",
       "  <thead>\n",
       "    <tr style=\"text-align: right;\">\n",
       "      <th></th>\n",
       "      <th>cible</th>\n",
       "    </tr>\n",
       "  </thead>\n",
       "  <tbody>\n",
       "    <tr>\n",
       "      <th>0</th>\n",
       "      <td>Tres insatisfait</td>\n",
       "    </tr>\n",
       "    <tr>\n",
       "      <th>1</th>\n",
       "      <td>Satisfait</td>\n",
       "    </tr>\n",
       "    <tr>\n",
       "      <th>2</th>\n",
       "      <td>Insatisfait</td>\n",
       "    </tr>\n",
       "    <tr>\n",
       "      <th>3</th>\n",
       "      <td>Neutre</td>\n",
       "    </tr>\n",
       "    <tr>\n",
       "      <th>4</th>\n",
       "      <td>Satisfait</td>\n",
       "    </tr>\n",
       "    <tr>\n",
       "      <th>5</th>\n",
       "      <td>Tres satisfait</td>\n",
       "    </tr>\n",
       "  </tbody>\n",
       "</table>\n",
       "</div>"
      ],
      "text/plain": [
       "              cible\n",
       "0  Tres insatisfait\n",
       "1         Satisfait\n",
       "2       Insatisfait\n",
       "3            Neutre\n",
       "4         Satisfait\n",
       "5    Tres satisfait"
      ]
     },
     "execution_count": 117,
     "metadata": {},
     "output_type": "execute_result"
    }
   ],
   "source": [
    "df_encode = pd.DataFrame(data={\n",
    "        'cible': ['Tres insatisfait', 'Satisfait', 'Insatisfait', 'Neutre', 'Satisfait', \n",
    "                 'Tres satisfait']\n",
    "})\n",
    "df_encode"
   ]
  },
  {
   "cell_type": "code",
   "execution_count": 118,
   "id": "b0e63303",
   "metadata": {},
   "outputs": [],
   "source": [
    "from sklearn.preprocessing import LabelEncoder"
   ]
  },
  {
   "cell_type": "code",
   "execution_count": 119,
   "id": "5993bd0f",
   "metadata": {},
   "outputs": [],
   "source": [
    "le = LabelEncoder()\n",
    "df_encode['cible_cat'] = le.fit_transform(df_encode['cible'])"
   ]
  },
  {
   "cell_type": "code",
   "execution_count": 120,
   "id": "30e6c152",
   "metadata": {},
   "outputs": [
    {
     "data": {
      "text/html": [
       "<div>\n",
       "<style scoped>\n",
       "    .dataframe tbody tr th:only-of-type {\n",
       "        vertical-align: middle;\n",
       "    }\n",
       "\n",
       "    .dataframe tbody tr th {\n",
       "        vertical-align: top;\n",
       "    }\n",
       "\n",
       "    .dataframe thead th {\n",
       "        text-align: right;\n",
       "    }\n",
       "</style>\n",
       "<table border=\"1\" class=\"dataframe\">\n",
       "  <thead>\n",
       "    <tr style=\"text-align: right;\">\n",
       "      <th></th>\n",
       "      <th>cible</th>\n",
       "      <th>cible_cat</th>\n",
       "    </tr>\n",
       "  </thead>\n",
       "  <tbody>\n",
       "    <tr>\n",
       "      <th>0</th>\n",
       "      <td>Tres insatisfait</td>\n",
       "      <td>3</td>\n",
       "    </tr>\n",
       "    <tr>\n",
       "      <th>1</th>\n",
       "      <td>Satisfait</td>\n",
       "      <td>2</td>\n",
       "    </tr>\n",
       "    <tr>\n",
       "      <th>2</th>\n",
       "      <td>Insatisfait</td>\n",
       "      <td>0</td>\n",
       "    </tr>\n",
       "    <tr>\n",
       "      <th>3</th>\n",
       "      <td>Neutre</td>\n",
       "      <td>1</td>\n",
       "    </tr>\n",
       "    <tr>\n",
       "      <th>4</th>\n",
       "      <td>Satisfait</td>\n",
       "      <td>2</td>\n",
       "    </tr>\n",
       "    <tr>\n",
       "      <th>5</th>\n",
       "      <td>Tres satisfait</td>\n",
       "      <td>4</td>\n",
       "    </tr>\n",
       "  </tbody>\n",
       "</table>\n",
       "</div>"
      ],
      "text/plain": [
       "              cible  cible_cat\n",
       "0  Tres insatisfait          3\n",
       "1         Satisfait          2\n",
       "2       Insatisfait          0\n",
       "3            Neutre          1\n",
       "4         Satisfait          2\n",
       "5    Tres satisfait          4"
      ]
     },
     "execution_count": 120,
     "metadata": {},
     "output_type": "execute_result"
    }
   ],
   "source": [
    "df_encode"
   ]
  },
  {
   "cell_type": "code",
   "execution_count": 121,
   "id": "381e6317",
   "metadata": {},
   "outputs": [
    {
     "data": {
      "text/plain": [
       "array(['Insatisfait', 'Neutre', 'Satisfait', 'Tres insatisfait',\n",
       "       'Tres satisfait'], dtype=object)"
      ]
     },
     "execution_count": 121,
     "metadata": {},
     "output_type": "execute_result"
    }
   ],
   "source": [
    "le.inverse_transform([0, 1, 2, 3, 4])"
   ]
  },
  {
   "cell_type": "code",
   "execution_count": 122,
   "id": "daabf9a1",
   "metadata": {},
   "outputs": [],
   "source": [
    "def ordinal_encode(item):\n",
    "    ordinal_data = {\n",
    "        'Tres insatisfait': 0,\n",
    "        'Insatisfait': 1,\n",
    "        'Neutre': 2,\n",
    "        'Satisfait': 3,\n",
    "        'Tres satisfait': 4\n",
    "    }\n",
    "    return ordinal_data[item]"
   ]
  },
  {
   "cell_type": "code",
   "execution_count": 123,
   "id": "9a24933f",
   "metadata": {},
   "outputs": [],
   "source": [
    "df_encode['cible_cat_ord'] = df_encode['cible'].map(ordinal_encode)"
   ]
  },
  {
   "cell_type": "code",
   "execution_count": 124,
   "id": "b35f638b",
   "metadata": {},
   "outputs": [
    {
     "data": {
      "text/html": [
       "<div>\n",
       "<style scoped>\n",
       "    .dataframe tbody tr th:only-of-type {\n",
       "        vertical-align: middle;\n",
       "    }\n",
       "\n",
       "    .dataframe tbody tr th {\n",
       "        vertical-align: top;\n",
       "    }\n",
       "\n",
       "    .dataframe thead th {\n",
       "        text-align: right;\n",
       "    }\n",
       "</style>\n",
       "<table border=\"1\" class=\"dataframe\">\n",
       "  <thead>\n",
       "    <tr style=\"text-align: right;\">\n",
       "      <th></th>\n",
       "      <th>cible</th>\n",
       "      <th>cible_cat</th>\n",
       "      <th>cible_cat_ord</th>\n",
       "    </tr>\n",
       "  </thead>\n",
       "  <tbody>\n",
       "    <tr>\n",
       "      <th>0</th>\n",
       "      <td>Tres insatisfait</td>\n",
       "      <td>3</td>\n",
       "      <td>0</td>\n",
       "    </tr>\n",
       "    <tr>\n",
       "      <th>1</th>\n",
       "      <td>Satisfait</td>\n",
       "      <td>2</td>\n",
       "      <td>3</td>\n",
       "    </tr>\n",
       "    <tr>\n",
       "      <th>2</th>\n",
       "      <td>Insatisfait</td>\n",
       "      <td>0</td>\n",
       "      <td>1</td>\n",
       "    </tr>\n",
       "    <tr>\n",
       "      <th>3</th>\n",
       "      <td>Neutre</td>\n",
       "      <td>1</td>\n",
       "      <td>2</td>\n",
       "    </tr>\n",
       "    <tr>\n",
       "      <th>4</th>\n",
       "      <td>Satisfait</td>\n",
       "      <td>2</td>\n",
       "      <td>3</td>\n",
       "    </tr>\n",
       "    <tr>\n",
       "      <th>5</th>\n",
       "      <td>Tres satisfait</td>\n",
       "      <td>4</td>\n",
       "      <td>4</td>\n",
       "    </tr>\n",
       "  </tbody>\n",
       "</table>\n",
       "</div>"
      ],
      "text/plain": [
       "              cible  cible_cat  cible_cat_ord\n",
       "0  Tres insatisfait          3              0\n",
       "1         Satisfait          2              3\n",
       "2       Insatisfait          0              1\n",
       "3            Neutre          1              2\n",
       "4         Satisfait          2              3\n",
       "5    Tres satisfait          4              4"
      ]
     },
     "execution_count": 124,
     "metadata": {},
     "output_type": "execute_result"
    }
   ],
   "source": [
    "df_encode"
   ]
  },
  {
   "cell_type": "markdown",
   "id": "c964c2c6",
   "metadata": {},
   "source": [
    "    - Encodage nominale"
   ]
  },
  {
   "cell_type": "code",
   "execution_count": 125,
   "id": "346774ec",
   "metadata": {},
   "outputs": [],
   "source": [
    "df = pd.DataFrame(data={\n",
    "    'cible': ['Rouge', 'Vert', 'Rouge', 'Blanc']\n",
    "})"
   ]
  },
  {
   "cell_type": "code",
   "execution_count": 126,
   "id": "f4586cbb",
   "metadata": {},
   "outputs": [
    {
     "data": {
      "text/html": [
       "<div>\n",
       "<style scoped>\n",
       "    .dataframe tbody tr th:only-of-type {\n",
       "        vertical-align: middle;\n",
       "    }\n",
       "\n",
       "    .dataframe tbody tr th {\n",
       "        vertical-align: top;\n",
       "    }\n",
       "\n",
       "    .dataframe thead th {\n",
       "        text-align: right;\n",
       "    }\n",
       "</style>\n",
       "<table border=\"1\" class=\"dataframe\">\n",
       "  <thead>\n",
       "    <tr style=\"text-align: right;\">\n",
       "      <th></th>\n",
       "      <th>cible</th>\n",
       "    </tr>\n",
       "  </thead>\n",
       "  <tbody>\n",
       "    <tr>\n",
       "      <th>0</th>\n",
       "      <td>Rouge</td>\n",
       "    </tr>\n",
       "    <tr>\n",
       "      <th>1</th>\n",
       "      <td>Vert</td>\n",
       "    </tr>\n",
       "    <tr>\n",
       "      <th>2</th>\n",
       "      <td>Rouge</td>\n",
       "    </tr>\n",
       "    <tr>\n",
       "      <th>3</th>\n",
       "      <td>Blanc</td>\n",
       "    </tr>\n",
       "  </tbody>\n",
       "</table>\n",
       "</div>"
      ],
      "text/plain": [
       "   cible\n",
       "0  Rouge\n",
       "1   Vert\n",
       "2  Rouge\n",
       "3  Blanc"
      ]
     },
     "execution_count": 126,
     "metadata": {},
     "output_type": "execute_result"
    }
   ],
   "source": [
    "df"
   ]
  },
  {
   "cell_type": "code",
   "execution_count": 127,
   "id": "f9c537f8",
   "metadata": {},
   "outputs": [
    {
     "data": {
      "text/html": [
       "<div>\n",
       "<style scoped>\n",
       "    .dataframe tbody tr th:only-of-type {\n",
       "        vertical-align: middle;\n",
       "    }\n",
       "\n",
       "    .dataframe tbody tr th {\n",
       "        vertical-align: top;\n",
       "    }\n",
       "\n",
       "    .dataframe thead th {\n",
       "        text-align: right;\n",
       "    }\n",
       "</style>\n",
       "<table border=\"1\" class=\"dataframe\">\n",
       "  <thead>\n",
       "    <tr style=\"text-align: right;\">\n",
       "      <th></th>\n",
       "      <th>Rouge</th>\n",
       "      <th>Vert</th>\n",
       "    </tr>\n",
       "  </thead>\n",
       "  <tbody>\n",
       "    <tr>\n",
       "      <th>0</th>\n",
       "      <td>1</td>\n",
       "      <td>0</td>\n",
       "    </tr>\n",
       "    <tr>\n",
       "      <th>1</th>\n",
       "      <td>0</td>\n",
       "      <td>1</td>\n",
       "    </tr>\n",
       "    <tr>\n",
       "      <th>2</th>\n",
       "      <td>1</td>\n",
       "      <td>0</td>\n",
       "    </tr>\n",
       "    <tr>\n",
       "      <th>3</th>\n",
       "      <td>0</td>\n",
       "      <td>0</td>\n",
       "    </tr>\n",
       "  </tbody>\n",
       "</table>\n",
       "</div>"
      ],
      "text/plain": [
       "   Rouge  Vert\n",
       "0      1     0\n",
       "1      0     1\n",
       "2      1     0\n",
       "3      0     0"
      ]
     },
     "execution_count": 127,
     "metadata": {},
     "output_type": "execute_result"
    }
   ],
   "source": [
    "X = pd.get_dummies(df['cible'], drop_first=True)\n",
    "X"
   ]
  },
  {
   "cell_type": "code",
   "execution_count": 128,
   "id": "edddb8b8",
   "metadata": {},
   "outputs": [
    {
     "data": {
      "text/html": [
       "<div>\n",
       "<style scoped>\n",
       "    .dataframe tbody tr th:only-of-type {\n",
       "        vertical-align: middle;\n",
       "    }\n",
       "\n",
       "    .dataframe tbody tr th {\n",
       "        vertical-align: top;\n",
       "    }\n",
       "\n",
       "    .dataframe thead th {\n",
       "        text-align: right;\n",
       "    }\n",
       "</style>\n",
       "<table border=\"1\" class=\"dataframe\">\n",
       "  <thead>\n",
       "    <tr style=\"text-align: right;\">\n",
       "      <th></th>\n",
       "      <th>cible</th>\n",
       "      <th>Rouge</th>\n",
       "      <th>Vert</th>\n",
       "    </tr>\n",
       "  </thead>\n",
       "  <tbody>\n",
       "    <tr>\n",
       "      <th>0</th>\n",
       "      <td>Rouge</td>\n",
       "      <td>1</td>\n",
       "      <td>0</td>\n",
       "    </tr>\n",
       "    <tr>\n",
       "      <th>1</th>\n",
       "      <td>Vert</td>\n",
       "      <td>0</td>\n",
       "      <td>1</td>\n",
       "    </tr>\n",
       "    <tr>\n",
       "      <th>2</th>\n",
       "      <td>Rouge</td>\n",
       "      <td>1</td>\n",
       "      <td>0</td>\n",
       "    </tr>\n",
       "    <tr>\n",
       "      <th>3</th>\n",
       "      <td>Blanc</td>\n",
       "      <td>0</td>\n",
       "      <td>0</td>\n",
       "    </tr>\n",
       "  </tbody>\n",
       "</table>\n",
       "</div>"
      ],
      "text/plain": [
       "   cible  Rouge  Vert\n",
       "0  Rouge      1     0\n",
       "1   Vert      0     1\n",
       "2  Rouge      1     0\n",
       "3  Blanc      0     0"
      ]
     },
     "execution_count": 128,
     "metadata": {},
     "output_type": "execute_result"
    }
   ],
   "source": [
    "pd.concat([df, X], axis=1)"
   ]
  },
  {
   "cell_type": "markdown",
   "id": "c8f93b60",
   "metadata": {},
   "source": [
    "    - Le drop first permet de supprimer l'une des colonnes repetitves"
   ]
  },
  {
   "cell_type": "markdown",
   "id": "8a40454c",
   "metadata": {},
   "source": [
    "    - Conversion de type"
   ]
  },
  {
   "cell_type": "code",
   "execution_count": 129,
   "id": "c9892137",
   "metadata": {},
   "outputs": [
    {
     "data": {
      "text/html": [
       "<div>\n",
       "<style scoped>\n",
       "    .dataframe tbody tr th:only-of-type {\n",
       "        vertical-align: middle;\n",
       "    }\n",
       "\n",
       "    .dataframe tbody tr th {\n",
       "        vertical-align: top;\n",
       "    }\n",
       "\n",
       "    .dataframe thead th {\n",
       "        text-align: right;\n",
       "    }\n",
       "</style>\n",
       "<table border=\"1\" class=\"dataframe\">\n",
       "  <thead>\n",
       "    <tr style=\"text-align: right;\">\n",
       "      <th></th>\n",
       "      <th>Sport</th>\n",
       "      <th>Pois</th>\n",
       "      <th>Taille</th>\n",
       "      <th>Salaire</th>\n",
       "    </tr>\n",
       "  </thead>\n",
       "  <tbody>\n",
       "    <tr>\n",
       "      <th>0</th>\n",
       "      <td>Football</td>\n",
       "      <td>75</td>\n",
       "      <td>173.0</td>\n",
       "      <td>600.0</td>\n",
       "    </tr>\n",
       "    <tr>\n",
       "      <th>1</th>\n",
       "      <td>Football</td>\n",
       "      <td>72</td>\n",
       "      <td>NaN</td>\n",
       "      <td>NaN</td>\n",
       "    </tr>\n",
       "    <tr>\n",
       "      <th>2</th>\n",
       "      <td>Tennis</td>\n",
       "      <td>68</td>\n",
       "      <td>172.0</td>\n",
       "      <td>NaN</td>\n",
       "    </tr>\n",
       "    <tr>\n",
       "      <th>3</th>\n",
       "      <td>Basketball</td>\n",
       "      <td>85</td>\n",
       "      <td>195.0</td>\n",
       "      <td>500.0</td>\n",
       "    </tr>\n",
       "    <tr>\n",
       "      <th>4</th>\n",
       "      <td>Basketball</td>\n",
       "      <td>92</td>\n",
       "      <td>210.0</td>\n",
       "      <td>600.0</td>\n",
       "    </tr>\n",
       "    <tr>\n",
       "      <th>5</th>\n",
       "      <td>Tennis</td>\n",
       "      <td>70</td>\n",
       "      <td>180.0</td>\n",
       "      <td>NaN</td>\n",
       "    </tr>\n",
       "    <tr>\n",
       "      <th>6</th>\n",
       "      <td>Tennis</td>\n",
       "      <td>69</td>\n",
       "      <td>175.0</td>\n",
       "      <td>NaN</td>\n",
       "    </tr>\n",
       "    <tr>\n",
       "      <th>7</th>\n",
       "      <td>BasketBall</td>\n",
       "      <td>81</td>\n",
       "      <td>188.0</td>\n",
       "      <td>172.0</td>\n",
       "    </tr>\n",
       "    <tr>\n",
       "      <th>8</th>\n",
       "      <td>Football</td>\n",
       "      <td>79</td>\n",
       "      <td>160.0</td>\n",
       "      <td>NaN</td>\n",
       "    </tr>\n",
       "    <tr>\n",
       "      <th>9</th>\n",
       "      <td>Football</td>\n",
       "      <td>85</td>\n",
       "      <td>178.0</td>\n",
       "      <td>800.0</td>\n",
       "    </tr>\n",
       "    <tr>\n",
       "      <th>10</th>\n",
       "      <td>Football</td>\n",
       "      <td>75</td>\n",
       "      <td>177.0</td>\n",
       "      <td>720.0</td>\n",
       "    </tr>\n",
       "    <tr>\n",
       "      <th>11</th>\n",
       "      <td>Basketball</td>\n",
       "      <td>88</td>\n",
       "      <td>NaN</td>\n",
       "      <td>590.0</td>\n",
       "    </tr>\n",
       "  </tbody>\n",
       "</table>\n",
       "</div>"
      ],
      "text/plain": [
       "         Sport  Pois  Taille  Salaire\n",
       "0     Football    75   173.0    600.0\n",
       "1     Football    72     NaN      NaN\n",
       "2       Tennis    68   172.0      NaN\n",
       "3   Basketball    85   195.0    500.0\n",
       "4   Basketball    92   210.0    600.0\n",
       "5       Tennis    70   180.0      NaN\n",
       "6       Tennis    69   175.0      NaN\n",
       "7   BasketBall    81   188.0    172.0\n",
       "8     Football    79   160.0      NaN\n",
       "9     Football    85   178.0    800.0\n",
       "10    Football    75   177.0    720.0\n",
       "11  Basketball    88     NaN    590.0"
      ]
     },
     "execution_count": 129,
     "metadata": {},
     "output_type": "execute_result"
    }
   ],
   "source": [
    "df_sport"
   ]
  },
  {
   "cell_type": "code",
   "execution_count": 130,
   "id": "4d7f1ae4",
   "metadata": {},
   "outputs": [
    {
     "name": "stdout",
     "output_type": "stream",
     "text": [
      "<class 'pandas.core.frame.DataFrame'>\n",
      "RangeIndex: 12 entries, 0 to 11\n",
      "Data columns (total 4 columns):\n",
      " #   Column   Non-Null Count  Dtype  \n",
      "---  ------   --------------  -----  \n",
      " 0   Sport    12 non-null     object \n",
      " 1   Pois     12 non-null     int64  \n",
      " 2   Taille   10 non-null     float64\n",
      " 3   Salaire  7 non-null      float64\n",
      "dtypes: float64(2), int64(1), object(1)\n",
      "memory usage: 512.0+ bytes\n"
     ]
    }
   ],
   "source": [
    "df_sport.info()"
   ]
  },
  {
   "cell_type": "code",
   "execution_count": 131,
   "id": "d8eda436",
   "metadata": {},
   "outputs": [],
   "source": [
    "df_sport['Pois'] = pd.to_numeric(df_sport['Pois'])"
   ]
  },
  {
   "cell_type": "code",
   "execution_count": 132,
   "id": "f2f8a770",
   "metadata": {},
   "outputs": [
    {
     "data": {
      "text/html": [
       "<div>\n",
       "<style scoped>\n",
       "    .dataframe tbody tr th:only-of-type {\n",
       "        vertical-align: middle;\n",
       "    }\n",
       "\n",
       "    .dataframe tbody tr th {\n",
       "        vertical-align: top;\n",
       "    }\n",
       "\n",
       "    .dataframe thead th {\n",
       "        text-align: right;\n",
       "    }\n",
       "</style>\n",
       "<table border=\"1\" class=\"dataframe\">\n",
       "  <thead>\n",
       "    <tr style=\"text-align: right;\">\n",
       "      <th></th>\n",
       "      <th>Sport</th>\n",
       "      <th>Pois</th>\n",
       "      <th>Taille</th>\n",
       "      <th>Salaire</th>\n",
       "    </tr>\n",
       "  </thead>\n",
       "  <tbody>\n",
       "    <tr>\n",
       "      <th>0</th>\n",
       "      <td>Football</td>\n",
       "      <td>75</td>\n",
       "      <td>173.0</td>\n",
       "      <td>600.0</td>\n",
       "    </tr>\n",
       "    <tr>\n",
       "      <th>1</th>\n",
       "      <td>Football</td>\n",
       "      <td>72</td>\n",
       "      <td>NaN</td>\n",
       "      <td>NaN</td>\n",
       "    </tr>\n",
       "    <tr>\n",
       "      <th>2</th>\n",
       "      <td>Tennis</td>\n",
       "      <td>68</td>\n",
       "      <td>172.0</td>\n",
       "      <td>NaN</td>\n",
       "    </tr>\n",
       "    <tr>\n",
       "      <th>3</th>\n",
       "      <td>Basketball</td>\n",
       "      <td>85</td>\n",
       "      <td>195.0</td>\n",
       "      <td>500.0</td>\n",
       "    </tr>\n",
       "    <tr>\n",
       "      <th>4</th>\n",
       "      <td>Basketball</td>\n",
       "      <td>92</td>\n",
       "      <td>210.0</td>\n",
       "      <td>600.0</td>\n",
       "    </tr>\n",
       "    <tr>\n",
       "      <th>5</th>\n",
       "      <td>Tennis</td>\n",
       "      <td>70</td>\n",
       "      <td>180.0</td>\n",
       "      <td>NaN</td>\n",
       "    </tr>\n",
       "    <tr>\n",
       "      <th>6</th>\n",
       "      <td>Tennis</td>\n",
       "      <td>69</td>\n",
       "      <td>175.0</td>\n",
       "      <td>NaN</td>\n",
       "    </tr>\n",
       "    <tr>\n",
       "      <th>7</th>\n",
       "      <td>BasketBall</td>\n",
       "      <td>81</td>\n",
       "      <td>188.0</td>\n",
       "      <td>172.0</td>\n",
       "    </tr>\n",
       "    <tr>\n",
       "      <th>8</th>\n",
       "      <td>Football</td>\n",
       "      <td>79</td>\n",
       "      <td>160.0</td>\n",
       "      <td>NaN</td>\n",
       "    </tr>\n",
       "    <tr>\n",
       "      <th>9</th>\n",
       "      <td>Football</td>\n",
       "      <td>85</td>\n",
       "      <td>178.0</td>\n",
       "      <td>800.0</td>\n",
       "    </tr>\n",
       "    <tr>\n",
       "      <th>10</th>\n",
       "      <td>Football</td>\n",
       "      <td>75</td>\n",
       "      <td>177.0</td>\n",
       "      <td>720.0</td>\n",
       "    </tr>\n",
       "    <tr>\n",
       "      <th>11</th>\n",
       "      <td>Basketball</td>\n",
       "      <td>88</td>\n",
       "      <td>NaN</td>\n",
       "      <td>590.0</td>\n",
       "    </tr>\n",
       "  </tbody>\n",
       "</table>\n",
       "</div>"
      ],
      "text/plain": [
       "         Sport  Pois  Taille  Salaire\n",
       "0     Football    75   173.0    600.0\n",
       "1     Football    72     NaN      NaN\n",
       "2       Tennis    68   172.0      NaN\n",
       "3   Basketball    85   195.0    500.0\n",
       "4   Basketball    92   210.0    600.0\n",
       "5       Tennis    70   180.0      NaN\n",
       "6       Tennis    69   175.0      NaN\n",
       "7   BasketBall    81   188.0    172.0\n",
       "8     Football    79   160.0      NaN\n",
       "9     Football    85   178.0    800.0\n",
       "10    Football    75   177.0    720.0\n",
       "11  Basketball    88     NaN    590.0"
      ]
     },
     "execution_count": 132,
     "metadata": {},
     "output_type": "execute_result"
    }
   ],
   "source": [
    "df_sport"
   ]
  },
  {
   "cell_type": "code",
   "execution_count": 133,
   "id": "4f34b693",
   "metadata": {},
   "outputs": [
    {
     "name": "stdout",
     "output_type": "stream",
     "text": [
      "<class 'pandas.core.frame.DataFrame'>\n",
      "RangeIndex: 12 entries, 0 to 11\n",
      "Data columns (total 4 columns):\n",
      " #   Column   Non-Null Count  Dtype  \n",
      "---  ------   --------------  -----  \n",
      " 0   Sport    12 non-null     object \n",
      " 1   Pois     12 non-null     int64  \n",
      " 2   Taille   10 non-null     float64\n",
      " 3   Salaire  7 non-null      float64\n",
      "dtypes: float64(2), int64(1), object(1)\n",
      "memory usage: 512.0+ bytes\n"
     ]
    }
   ],
   "source": [
    "df_sport.info()"
   ]
  },
  {
   "cell_type": "markdown",
   "id": "92d18f8e",
   "metadata": {},
   "source": [
    "    - *Features Engineering*"
   ]
  },
  {
   "cell_type": "code",
   "execution_count": 134,
   "id": "ef412f88",
   "metadata": {},
   "outputs": [],
   "source": [
    "df = pd.read_csv('training/billets.csv')"
   ]
  },
  {
   "cell_type": "code",
   "execution_count": 135,
   "id": "f2e03ba6",
   "metadata": {},
   "outputs": [
    {
     "data": {
      "text/html": [
       "<div>\n",
       "<style scoped>\n",
       "    .dataframe tbody tr th:only-of-type {\n",
       "        vertical-align: middle;\n",
       "    }\n",
       "\n",
       "    .dataframe tbody tr th {\n",
       "        vertical-align: top;\n",
       "    }\n",
       "\n",
       "    .dataframe thead th {\n",
       "        text-align: right;\n",
       "    }\n",
       "</style>\n",
       "<table border=\"1\" class=\"dataframe\">\n",
       "  <thead>\n",
       "    <tr style=\"text-align: right;\">\n",
       "      <th></th>\n",
       "      <th>Naissance</th>\n",
       "      <th>Date_Achat</th>\n",
       "      <th>Quantite</th>\n",
       "      <th>Num_billet</th>\n",
       "      <th>Prix</th>\n",
       "    </tr>\n",
       "  </thead>\n",
       "  <tbody>\n",
       "    <tr>\n",
       "      <th>0</th>\n",
       "      <td>1997-05-20</td>\n",
       "      <td>2022-06-18</td>\n",
       "      <td>2</td>\n",
       "      <td>D20103</td>\n",
       "      <td>63.98</td>\n",
       "    </tr>\n",
       "    <tr>\n",
       "      <th>1</th>\n",
       "      <td>1980-10-21</td>\n",
       "      <td>2018-07-01</td>\n",
       "      <td>2</td>\n",
       "      <td>F18278</td>\n",
       "      <td>65.98</td>\n",
       "    </tr>\n",
       "    <tr>\n",
       "      <th>2</th>\n",
       "      <td>2006-04-09</td>\n",
       "      <td>2021-05-11</td>\n",
       "      <td>5</td>\n",
       "      <td>F19351</td>\n",
       "      <td>149.95</td>\n",
       "    </tr>\n",
       "    <tr>\n",
       "      <th>3</th>\n",
       "      <td>1981-07-13</td>\n",
       "      <td>2020-01-28</td>\n",
       "      <td>5</td>\n",
       "      <td>F19351</td>\n",
       "      <td>149.95</td>\n",
       "    </tr>\n",
       "    <tr>\n",
       "      <th>4</th>\n",
       "      <td>2000-03-03</td>\n",
       "      <td>2022-08-11</td>\n",
       "      <td>1</td>\n",
       "      <td>S18423</td>\n",
       "      <td>34.99</td>\n",
       "    </tr>\n",
       "    <tr>\n",
       "      <th>5</th>\n",
       "      <td>1994-04-01</td>\n",
       "      <td>2022-06-18</td>\n",
       "      <td>2</td>\n",
       "      <td>D20103</td>\n",
       "      <td>63.98</td>\n",
       "    </tr>\n",
       "    <tr>\n",
       "      <th>6</th>\n",
       "      <td>2009-04-01</td>\n",
       "      <td>2019-07-19</td>\n",
       "      <td>5</td>\n",
       "      <td>F19351</td>\n",
       "      <td>149.95</td>\n",
       "    </tr>\n",
       "    <tr>\n",
       "      <th>7</th>\n",
       "      <td>1982-03-27</td>\n",
       "      <td>2019-07-19</td>\n",
       "      <td>5</td>\n",
       "      <td>F19351</td>\n",
       "      <td>149.95</td>\n",
       "    </tr>\n",
       "    <tr>\n",
       "      <th>8</th>\n",
       "      <td>2006-10-17</td>\n",
       "      <td>2018-07-01</td>\n",
       "      <td>2</td>\n",
       "      <td>F18278</td>\n",
       "      <td>65.98</td>\n",
       "    </tr>\n",
       "    <tr>\n",
       "      <th>9</th>\n",
       "      <td>2009-07-27</td>\n",
       "      <td>2019-07-18</td>\n",
       "      <td>5</td>\n",
       "      <td>f19351</td>\n",
       "      <td>149.95</td>\n",
       "    </tr>\n",
       "  </tbody>\n",
       "</table>\n",
       "</div>"
      ],
      "text/plain": [
       "    Naissance  Date_Achat  Quantite Num_billet    Prix\n",
       "0  1997-05-20  2022-06-18         2     D20103   63.98\n",
       "1  1980-10-21  2018-07-01         2     F18278   65.98\n",
       "2  2006-04-09  2021-05-11         5     F19351  149.95\n",
       "3  1981-07-13  2020-01-28         5     F19351  149.95\n",
       "4  2000-03-03  2022-08-11         1     S18423   34.99\n",
       "5  1994-04-01  2022-06-18         2     D20103   63.98\n",
       "6  2009-04-01  2019-07-19         5     F19351  149.95\n",
       "7  1982-03-27  2019-07-19         5     F19351  149.95\n",
       "8  2006-10-17  2018-07-01         2     F18278   65.98\n",
       "9  2009-07-27  2019-07-18         5     f19351  149.95"
      ]
     },
     "execution_count": 135,
     "metadata": {},
     "output_type": "execute_result"
    }
   ],
   "source": [
    "df"
   ]
  },
  {
   "cell_type": "code",
   "execution_count": 136,
   "id": "427a46d7",
   "metadata": {},
   "outputs": [],
   "source": [
    "df['prix_unitaire'] = df['Prix'] / df['Quantite']"
   ]
  },
  {
   "cell_type": "code",
   "execution_count": 137,
   "id": "73460257",
   "metadata": {},
   "outputs": [
    {
     "data": {
      "text/html": [
       "<div>\n",
       "<style scoped>\n",
       "    .dataframe tbody tr th:only-of-type {\n",
       "        vertical-align: middle;\n",
       "    }\n",
       "\n",
       "    .dataframe tbody tr th {\n",
       "        vertical-align: top;\n",
       "    }\n",
       "\n",
       "    .dataframe thead th {\n",
       "        text-align: right;\n",
       "    }\n",
       "</style>\n",
       "<table border=\"1\" class=\"dataframe\">\n",
       "  <thead>\n",
       "    <tr style=\"text-align: right;\">\n",
       "      <th></th>\n",
       "      <th>Naissance</th>\n",
       "      <th>Date_Achat</th>\n",
       "      <th>Quantite</th>\n",
       "      <th>Num_billet</th>\n",
       "      <th>Prix</th>\n",
       "      <th>prix_unitaire</th>\n",
       "    </tr>\n",
       "  </thead>\n",
       "  <tbody>\n",
       "    <tr>\n",
       "      <th>0</th>\n",
       "      <td>1997-05-20</td>\n",
       "      <td>2022-06-18</td>\n",
       "      <td>2</td>\n",
       "      <td>D20103</td>\n",
       "      <td>63.98</td>\n",
       "      <td>31.99</td>\n",
       "    </tr>\n",
       "    <tr>\n",
       "      <th>1</th>\n",
       "      <td>1980-10-21</td>\n",
       "      <td>2018-07-01</td>\n",
       "      <td>2</td>\n",
       "      <td>F18278</td>\n",
       "      <td>65.98</td>\n",
       "      <td>32.99</td>\n",
       "    </tr>\n",
       "    <tr>\n",
       "      <th>2</th>\n",
       "      <td>2006-04-09</td>\n",
       "      <td>2021-05-11</td>\n",
       "      <td>5</td>\n",
       "      <td>F19351</td>\n",
       "      <td>149.95</td>\n",
       "      <td>29.99</td>\n",
       "    </tr>\n",
       "    <tr>\n",
       "      <th>3</th>\n",
       "      <td>1981-07-13</td>\n",
       "      <td>2020-01-28</td>\n",
       "      <td>5</td>\n",
       "      <td>F19351</td>\n",
       "      <td>149.95</td>\n",
       "      <td>29.99</td>\n",
       "    </tr>\n",
       "    <tr>\n",
       "      <th>4</th>\n",
       "      <td>2000-03-03</td>\n",
       "      <td>2022-08-11</td>\n",
       "      <td>1</td>\n",
       "      <td>S18423</td>\n",
       "      <td>34.99</td>\n",
       "      <td>34.99</td>\n",
       "    </tr>\n",
       "    <tr>\n",
       "      <th>5</th>\n",
       "      <td>1994-04-01</td>\n",
       "      <td>2022-06-18</td>\n",
       "      <td>2</td>\n",
       "      <td>D20103</td>\n",
       "      <td>63.98</td>\n",
       "      <td>31.99</td>\n",
       "    </tr>\n",
       "    <tr>\n",
       "      <th>6</th>\n",
       "      <td>2009-04-01</td>\n",
       "      <td>2019-07-19</td>\n",
       "      <td>5</td>\n",
       "      <td>F19351</td>\n",
       "      <td>149.95</td>\n",
       "      <td>29.99</td>\n",
       "    </tr>\n",
       "    <tr>\n",
       "      <th>7</th>\n",
       "      <td>1982-03-27</td>\n",
       "      <td>2019-07-19</td>\n",
       "      <td>5</td>\n",
       "      <td>F19351</td>\n",
       "      <td>149.95</td>\n",
       "      <td>29.99</td>\n",
       "    </tr>\n",
       "    <tr>\n",
       "      <th>8</th>\n",
       "      <td>2006-10-17</td>\n",
       "      <td>2018-07-01</td>\n",
       "      <td>2</td>\n",
       "      <td>F18278</td>\n",
       "      <td>65.98</td>\n",
       "      <td>32.99</td>\n",
       "    </tr>\n",
       "    <tr>\n",
       "      <th>9</th>\n",
       "      <td>2009-07-27</td>\n",
       "      <td>2019-07-18</td>\n",
       "      <td>5</td>\n",
       "      <td>f19351</td>\n",
       "      <td>149.95</td>\n",
       "      <td>29.99</td>\n",
       "    </tr>\n",
       "  </tbody>\n",
       "</table>\n",
       "</div>"
      ],
      "text/plain": [
       "    Naissance  Date_Achat  Quantite Num_billet    Prix  prix_unitaire\n",
       "0  1997-05-20  2022-06-18         2     D20103   63.98          31.99\n",
       "1  1980-10-21  2018-07-01         2     F18278   65.98          32.99\n",
       "2  2006-04-09  2021-05-11         5     F19351  149.95          29.99\n",
       "3  1981-07-13  2020-01-28         5     F19351  149.95          29.99\n",
       "4  2000-03-03  2022-08-11         1     S18423   34.99          34.99\n",
       "5  1994-04-01  2022-06-18         2     D20103   63.98          31.99\n",
       "6  2009-04-01  2019-07-19         5     F19351  149.95          29.99\n",
       "7  1982-03-27  2019-07-19         5     F19351  149.95          29.99\n",
       "8  2006-10-17  2018-07-01         2     F18278   65.98          32.99\n",
       "9  2009-07-27  2019-07-18         5     f19351  149.95          29.99"
      ]
     },
     "execution_count": 137,
     "metadata": {},
     "output_type": "execute_result"
    }
   ],
   "source": [
    "df"
   ]
  },
  {
   "cell_type": "code",
   "execution_count": 138,
   "id": "5c1e0f2b",
   "metadata": {},
   "outputs": [
    {
     "name": "stdout",
     "output_type": "stream",
     "text": [
      "<class 'pandas.core.frame.DataFrame'>\n",
      "RangeIndex: 10 entries, 0 to 9\n",
      "Data columns (total 6 columns):\n",
      " #   Column         Non-Null Count  Dtype  \n",
      "---  ------         --------------  -----  \n",
      " 0   Naissance      10 non-null     object \n",
      " 1   Date_Achat     10 non-null     object \n",
      " 2   Quantite       10 non-null     int64  \n",
      " 3   Num_billet     10 non-null     object \n",
      " 4   Prix           10 non-null     float64\n",
      " 5   prix_unitaire  10 non-null     float64\n",
      "dtypes: float64(2), int64(1), object(3)\n",
      "memory usage: 608.0+ bytes\n"
     ]
    }
   ],
   "source": [
    "df.info()"
   ]
  },
  {
   "cell_type": "code",
   "execution_count": 139,
   "id": "6537572c",
   "metadata": {},
   "outputs": [],
   "source": [
    "df['Date_Achat'] = pd.to_datetime(df['Date_Achat'])\n",
    "df['Naissance'] = pd.to_datetime(df['Naissance'])"
   ]
  },
  {
   "cell_type": "code",
   "execution_count": 140,
   "id": "0e8db979",
   "metadata": {},
   "outputs": [
    {
     "name": "stdout",
     "output_type": "stream",
     "text": [
      "<class 'pandas.core.frame.DataFrame'>\n",
      "RangeIndex: 10 entries, 0 to 9\n",
      "Data columns (total 6 columns):\n",
      " #   Column         Non-Null Count  Dtype         \n",
      "---  ------         --------------  -----         \n",
      " 0   Naissance      10 non-null     datetime64[ns]\n",
      " 1   Date_Achat     10 non-null     datetime64[ns]\n",
      " 2   Quantite       10 non-null     int64         \n",
      " 3   Num_billet     10 non-null     object        \n",
      " 4   Prix           10 non-null     float64       \n",
      " 5   prix_unitaire  10 non-null     float64       \n",
      "dtypes: datetime64[ns](2), float64(2), int64(1), object(1)\n",
      "memory usage: 608.0+ bytes\n"
     ]
    }
   ],
   "source": [
    "df.info()"
   ]
  },
  {
   "cell_type": "code",
   "execution_count": 141,
   "id": "74e70652",
   "metadata": {},
   "outputs": [
    {
     "data": {
      "text/html": [
       "<div>\n",
       "<style scoped>\n",
       "    .dataframe tbody tr th:only-of-type {\n",
       "        vertical-align: middle;\n",
       "    }\n",
       "\n",
       "    .dataframe tbody tr th {\n",
       "        vertical-align: top;\n",
       "    }\n",
       "\n",
       "    .dataframe thead th {\n",
       "        text-align: right;\n",
       "    }\n",
       "</style>\n",
       "<table border=\"1\" class=\"dataframe\">\n",
       "  <thead>\n",
       "    <tr style=\"text-align: right;\">\n",
       "      <th></th>\n",
       "      <th>Naissance</th>\n",
       "      <th>Date_Achat</th>\n",
       "      <th>Quantite</th>\n",
       "      <th>Num_billet</th>\n",
       "      <th>Prix</th>\n",
       "      <th>prix_unitaire</th>\n",
       "      <th>age</th>\n",
       "    </tr>\n",
       "  </thead>\n",
       "  <tbody>\n",
       "    <tr>\n",
       "      <th>0</th>\n",
       "      <td>1997-05-20</td>\n",
       "      <td>2022-06-18</td>\n",
       "      <td>2</td>\n",
       "      <td>D20103</td>\n",
       "      <td>63.98</td>\n",
       "      <td>31.99</td>\n",
       "      <td>9160 days</td>\n",
       "    </tr>\n",
       "    <tr>\n",
       "      <th>1</th>\n",
       "      <td>1980-10-21</td>\n",
       "      <td>2018-07-01</td>\n",
       "      <td>2</td>\n",
       "      <td>F18278</td>\n",
       "      <td>65.98</td>\n",
       "      <td>32.99</td>\n",
       "      <td>13767 days</td>\n",
       "    </tr>\n",
       "    <tr>\n",
       "      <th>2</th>\n",
       "      <td>2006-04-09</td>\n",
       "      <td>2021-05-11</td>\n",
       "      <td>5</td>\n",
       "      <td>F19351</td>\n",
       "      <td>149.95</td>\n",
       "      <td>29.99</td>\n",
       "      <td>5511 days</td>\n",
       "    </tr>\n",
       "    <tr>\n",
       "      <th>3</th>\n",
       "      <td>1981-07-13</td>\n",
       "      <td>2020-01-28</td>\n",
       "      <td>5</td>\n",
       "      <td>F19351</td>\n",
       "      <td>149.95</td>\n",
       "      <td>29.99</td>\n",
       "      <td>14078 days</td>\n",
       "    </tr>\n",
       "    <tr>\n",
       "      <th>4</th>\n",
       "      <td>2000-03-03</td>\n",
       "      <td>2022-08-11</td>\n",
       "      <td>1</td>\n",
       "      <td>S18423</td>\n",
       "      <td>34.99</td>\n",
       "      <td>34.99</td>\n",
       "      <td>8196 days</td>\n",
       "    </tr>\n",
       "    <tr>\n",
       "      <th>5</th>\n",
       "      <td>1994-04-01</td>\n",
       "      <td>2022-06-18</td>\n",
       "      <td>2</td>\n",
       "      <td>D20103</td>\n",
       "      <td>63.98</td>\n",
       "      <td>31.99</td>\n",
       "      <td>10305 days</td>\n",
       "    </tr>\n",
       "    <tr>\n",
       "      <th>6</th>\n",
       "      <td>2009-04-01</td>\n",
       "      <td>2019-07-19</td>\n",
       "      <td>5</td>\n",
       "      <td>F19351</td>\n",
       "      <td>149.95</td>\n",
       "      <td>29.99</td>\n",
       "      <td>3761 days</td>\n",
       "    </tr>\n",
       "    <tr>\n",
       "      <th>7</th>\n",
       "      <td>1982-03-27</td>\n",
       "      <td>2019-07-19</td>\n",
       "      <td>5</td>\n",
       "      <td>F19351</td>\n",
       "      <td>149.95</td>\n",
       "      <td>29.99</td>\n",
       "      <td>13628 days</td>\n",
       "    </tr>\n",
       "    <tr>\n",
       "      <th>8</th>\n",
       "      <td>2006-10-17</td>\n",
       "      <td>2018-07-01</td>\n",
       "      <td>2</td>\n",
       "      <td>F18278</td>\n",
       "      <td>65.98</td>\n",
       "      <td>32.99</td>\n",
       "      <td>4275 days</td>\n",
       "    </tr>\n",
       "    <tr>\n",
       "      <th>9</th>\n",
       "      <td>2009-07-27</td>\n",
       "      <td>2019-07-18</td>\n",
       "      <td>5</td>\n",
       "      <td>f19351</td>\n",
       "      <td>149.95</td>\n",
       "      <td>29.99</td>\n",
       "      <td>3643 days</td>\n",
       "    </tr>\n",
       "  </tbody>\n",
       "</table>\n",
       "</div>"
      ],
      "text/plain": [
       "   Naissance Date_Achat  Quantite Num_billet    Prix  prix_unitaire        age\n",
       "0 1997-05-20 2022-06-18         2     D20103   63.98          31.99  9160 days\n",
       "1 1980-10-21 2018-07-01         2     F18278   65.98          32.99 13767 days\n",
       "2 2006-04-09 2021-05-11         5     F19351  149.95          29.99  5511 days\n",
       "3 1981-07-13 2020-01-28         5     F19351  149.95          29.99 14078 days\n",
       "4 2000-03-03 2022-08-11         1     S18423   34.99          34.99  8196 days\n",
       "5 1994-04-01 2022-06-18         2     D20103   63.98          31.99 10305 days\n",
       "6 2009-04-01 2019-07-19         5     F19351  149.95          29.99  3761 days\n",
       "7 1982-03-27 2019-07-19         5     F19351  149.95          29.99 13628 days\n",
       "8 2006-10-17 2018-07-01         2     F18278   65.98          32.99  4275 days\n",
       "9 2009-07-27 2019-07-18         5     f19351  149.95          29.99  3643 days"
      ]
     },
     "execution_count": 141,
     "metadata": {},
     "output_type": "execute_result"
    }
   ],
   "source": [
    "df['age'] = df['Date_Achat'] - df['Naissance']\n",
    "df"
   ]
  },
  {
   "cell_type": "code",
   "execution_count": 142,
   "id": "a1d7dae1",
   "metadata": {},
   "outputs": [],
   "source": [
    "df['age_year'] = df['Date_Achat'].dt.year - df['Naissance'].dt.year"
   ]
  },
  {
   "cell_type": "code",
   "execution_count": 143,
   "id": "bf2d0ed6",
   "metadata": {},
   "outputs": [
    {
     "data": {
      "text/html": [
       "<div>\n",
       "<style scoped>\n",
       "    .dataframe tbody tr th:only-of-type {\n",
       "        vertical-align: middle;\n",
       "    }\n",
       "\n",
       "    .dataframe tbody tr th {\n",
       "        vertical-align: top;\n",
       "    }\n",
       "\n",
       "    .dataframe thead th {\n",
       "        text-align: right;\n",
       "    }\n",
       "</style>\n",
       "<table border=\"1\" class=\"dataframe\">\n",
       "  <thead>\n",
       "    <tr style=\"text-align: right;\">\n",
       "      <th></th>\n",
       "      <th>Naissance</th>\n",
       "      <th>Date_Achat</th>\n",
       "      <th>Quantite</th>\n",
       "      <th>Num_billet</th>\n",
       "      <th>Prix</th>\n",
       "      <th>prix_unitaire</th>\n",
       "      <th>age</th>\n",
       "      <th>age_year</th>\n",
       "    </tr>\n",
       "  </thead>\n",
       "  <tbody>\n",
       "    <tr>\n",
       "      <th>0</th>\n",
       "      <td>1997-05-20</td>\n",
       "      <td>2022-06-18</td>\n",
       "      <td>2</td>\n",
       "      <td>D20103</td>\n",
       "      <td>63.98</td>\n",
       "      <td>31.99</td>\n",
       "      <td>9160 days</td>\n",
       "      <td>25</td>\n",
       "    </tr>\n",
       "    <tr>\n",
       "      <th>1</th>\n",
       "      <td>1980-10-21</td>\n",
       "      <td>2018-07-01</td>\n",
       "      <td>2</td>\n",
       "      <td>F18278</td>\n",
       "      <td>65.98</td>\n",
       "      <td>32.99</td>\n",
       "      <td>13767 days</td>\n",
       "      <td>38</td>\n",
       "    </tr>\n",
       "    <tr>\n",
       "      <th>2</th>\n",
       "      <td>2006-04-09</td>\n",
       "      <td>2021-05-11</td>\n",
       "      <td>5</td>\n",
       "      <td>F19351</td>\n",
       "      <td>149.95</td>\n",
       "      <td>29.99</td>\n",
       "      <td>5511 days</td>\n",
       "      <td>15</td>\n",
       "    </tr>\n",
       "    <tr>\n",
       "      <th>3</th>\n",
       "      <td>1981-07-13</td>\n",
       "      <td>2020-01-28</td>\n",
       "      <td>5</td>\n",
       "      <td>F19351</td>\n",
       "      <td>149.95</td>\n",
       "      <td>29.99</td>\n",
       "      <td>14078 days</td>\n",
       "      <td>39</td>\n",
       "    </tr>\n",
       "    <tr>\n",
       "      <th>4</th>\n",
       "      <td>2000-03-03</td>\n",
       "      <td>2022-08-11</td>\n",
       "      <td>1</td>\n",
       "      <td>S18423</td>\n",
       "      <td>34.99</td>\n",
       "      <td>34.99</td>\n",
       "      <td>8196 days</td>\n",
       "      <td>22</td>\n",
       "    </tr>\n",
       "    <tr>\n",
       "      <th>5</th>\n",
       "      <td>1994-04-01</td>\n",
       "      <td>2022-06-18</td>\n",
       "      <td>2</td>\n",
       "      <td>D20103</td>\n",
       "      <td>63.98</td>\n",
       "      <td>31.99</td>\n",
       "      <td>10305 days</td>\n",
       "      <td>28</td>\n",
       "    </tr>\n",
       "    <tr>\n",
       "      <th>6</th>\n",
       "      <td>2009-04-01</td>\n",
       "      <td>2019-07-19</td>\n",
       "      <td>5</td>\n",
       "      <td>F19351</td>\n",
       "      <td>149.95</td>\n",
       "      <td>29.99</td>\n",
       "      <td>3761 days</td>\n",
       "      <td>10</td>\n",
       "    </tr>\n",
       "    <tr>\n",
       "      <th>7</th>\n",
       "      <td>1982-03-27</td>\n",
       "      <td>2019-07-19</td>\n",
       "      <td>5</td>\n",
       "      <td>F19351</td>\n",
       "      <td>149.95</td>\n",
       "      <td>29.99</td>\n",
       "      <td>13628 days</td>\n",
       "      <td>37</td>\n",
       "    </tr>\n",
       "    <tr>\n",
       "      <th>8</th>\n",
       "      <td>2006-10-17</td>\n",
       "      <td>2018-07-01</td>\n",
       "      <td>2</td>\n",
       "      <td>F18278</td>\n",
       "      <td>65.98</td>\n",
       "      <td>32.99</td>\n",
       "      <td>4275 days</td>\n",
       "      <td>12</td>\n",
       "    </tr>\n",
       "    <tr>\n",
       "      <th>9</th>\n",
       "      <td>2009-07-27</td>\n",
       "      <td>2019-07-18</td>\n",
       "      <td>5</td>\n",
       "      <td>f19351</td>\n",
       "      <td>149.95</td>\n",
       "      <td>29.99</td>\n",
       "      <td>3643 days</td>\n",
       "      <td>10</td>\n",
       "    </tr>\n",
       "  </tbody>\n",
       "</table>\n",
       "</div>"
      ],
      "text/plain": [
       "   Naissance Date_Achat  Quantite Num_billet    Prix  prix_unitaire  \\\n",
       "0 1997-05-20 2022-06-18         2     D20103   63.98          31.99   \n",
       "1 1980-10-21 2018-07-01         2     F18278   65.98          32.99   \n",
       "2 2006-04-09 2021-05-11         5     F19351  149.95          29.99   \n",
       "3 1981-07-13 2020-01-28         5     F19351  149.95          29.99   \n",
       "4 2000-03-03 2022-08-11         1     S18423   34.99          34.99   \n",
       "5 1994-04-01 2022-06-18         2     D20103   63.98          31.99   \n",
       "6 2009-04-01 2019-07-19         5     F19351  149.95          29.99   \n",
       "7 1982-03-27 2019-07-19         5     F19351  149.95          29.99   \n",
       "8 2006-10-17 2018-07-01         2     F18278   65.98          32.99   \n",
       "9 2009-07-27 2019-07-18         5     f19351  149.95          29.99   \n",
       "\n",
       "         age  age_year  \n",
       "0  9160 days        25  \n",
       "1 13767 days        38  \n",
       "2  5511 days        15  \n",
       "3 14078 days        39  \n",
       "4  8196 days        22  \n",
       "5 10305 days        28  \n",
       "6  3761 days        10  \n",
       "7 13628 days        37  \n",
       "8  4275 days        12  \n",
       "9  3643 days        10  "
      ]
     },
     "execution_count": 143,
     "metadata": {},
     "output_type": "execute_result"
    }
   ],
   "source": [
    "df"
   ]
  },
  {
   "cell_type": "markdown",
   "id": "7c5809c8",
   "metadata": {},
   "source": [
    "- 0 a 14 -- Enfant\n",
    "- 14 a 24 -- Adolescents\n",
    "- 25 a 64 -- Adultes\n",
    "- 65 -- Aines"
   ]
  },
  {
   "cell_type": "code",
   "execution_count": 144,
   "id": "666481af",
   "metadata": {},
   "outputs": [],
   "source": [
    "def age_categories(item):\n",
    "    if item <= 14:\n",
    "        return \"Enfant\"\n",
    "    if item <= 24:\n",
    "        return \"Adolescent\"\n",
    "    if item <= 64:\n",
    "        return \"Adulte\"\n",
    "    return \"Aines\""
   ]
  },
  {
   "cell_type": "code",
   "execution_count": 145,
   "id": "237fa6a1",
   "metadata": {},
   "outputs": [],
   "source": [
    "df['age_categories'] = df['age_year'].map(age_categories)"
   ]
  },
  {
   "cell_type": "code",
   "execution_count": 146,
   "id": "f7618f48",
   "metadata": {},
   "outputs": [
    {
     "data": {
      "text/html": [
       "<div>\n",
       "<style scoped>\n",
       "    .dataframe tbody tr th:only-of-type {\n",
       "        vertical-align: middle;\n",
       "    }\n",
       "\n",
       "    .dataframe tbody tr th {\n",
       "        vertical-align: top;\n",
       "    }\n",
       "\n",
       "    .dataframe thead th {\n",
       "        text-align: right;\n",
       "    }\n",
       "</style>\n",
       "<table border=\"1\" class=\"dataframe\">\n",
       "  <thead>\n",
       "    <tr style=\"text-align: right;\">\n",
       "      <th></th>\n",
       "      <th>Naissance</th>\n",
       "      <th>Date_Achat</th>\n",
       "      <th>Quantite</th>\n",
       "      <th>Num_billet</th>\n",
       "      <th>Prix</th>\n",
       "      <th>prix_unitaire</th>\n",
       "      <th>age</th>\n",
       "      <th>age_year</th>\n",
       "      <th>age_categories</th>\n",
       "    </tr>\n",
       "  </thead>\n",
       "  <tbody>\n",
       "    <tr>\n",
       "      <th>0</th>\n",
       "      <td>1997-05-20</td>\n",
       "      <td>2022-06-18</td>\n",
       "      <td>2</td>\n",
       "      <td>D20103</td>\n",
       "      <td>63.98</td>\n",
       "      <td>31.99</td>\n",
       "      <td>9160 days</td>\n",
       "      <td>25</td>\n",
       "      <td>Adulte</td>\n",
       "    </tr>\n",
       "    <tr>\n",
       "      <th>1</th>\n",
       "      <td>1980-10-21</td>\n",
       "      <td>2018-07-01</td>\n",
       "      <td>2</td>\n",
       "      <td>F18278</td>\n",
       "      <td>65.98</td>\n",
       "      <td>32.99</td>\n",
       "      <td>13767 days</td>\n",
       "      <td>38</td>\n",
       "      <td>Adulte</td>\n",
       "    </tr>\n",
       "    <tr>\n",
       "      <th>2</th>\n",
       "      <td>2006-04-09</td>\n",
       "      <td>2021-05-11</td>\n",
       "      <td>5</td>\n",
       "      <td>F19351</td>\n",
       "      <td>149.95</td>\n",
       "      <td>29.99</td>\n",
       "      <td>5511 days</td>\n",
       "      <td>15</td>\n",
       "      <td>Adolescent</td>\n",
       "    </tr>\n",
       "    <tr>\n",
       "      <th>3</th>\n",
       "      <td>1981-07-13</td>\n",
       "      <td>2020-01-28</td>\n",
       "      <td>5</td>\n",
       "      <td>F19351</td>\n",
       "      <td>149.95</td>\n",
       "      <td>29.99</td>\n",
       "      <td>14078 days</td>\n",
       "      <td>39</td>\n",
       "      <td>Adulte</td>\n",
       "    </tr>\n",
       "    <tr>\n",
       "      <th>4</th>\n",
       "      <td>2000-03-03</td>\n",
       "      <td>2022-08-11</td>\n",
       "      <td>1</td>\n",
       "      <td>S18423</td>\n",
       "      <td>34.99</td>\n",
       "      <td>34.99</td>\n",
       "      <td>8196 days</td>\n",
       "      <td>22</td>\n",
       "      <td>Adolescent</td>\n",
       "    </tr>\n",
       "    <tr>\n",
       "      <th>5</th>\n",
       "      <td>1994-04-01</td>\n",
       "      <td>2022-06-18</td>\n",
       "      <td>2</td>\n",
       "      <td>D20103</td>\n",
       "      <td>63.98</td>\n",
       "      <td>31.99</td>\n",
       "      <td>10305 days</td>\n",
       "      <td>28</td>\n",
       "      <td>Adulte</td>\n",
       "    </tr>\n",
       "    <tr>\n",
       "      <th>6</th>\n",
       "      <td>2009-04-01</td>\n",
       "      <td>2019-07-19</td>\n",
       "      <td>5</td>\n",
       "      <td>F19351</td>\n",
       "      <td>149.95</td>\n",
       "      <td>29.99</td>\n",
       "      <td>3761 days</td>\n",
       "      <td>10</td>\n",
       "      <td>Enfant</td>\n",
       "    </tr>\n",
       "    <tr>\n",
       "      <th>7</th>\n",
       "      <td>1982-03-27</td>\n",
       "      <td>2019-07-19</td>\n",
       "      <td>5</td>\n",
       "      <td>F19351</td>\n",
       "      <td>149.95</td>\n",
       "      <td>29.99</td>\n",
       "      <td>13628 days</td>\n",
       "      <td>37</td>\n",
       "      <td>Adulte</td>\n",
       "    </tr>\n",
       "    <tr>\n",
       "      <th>8</th>\n",
       "      <td>2006-10-17</td>\n",
       "      <td>2018-07-01</td>\n",
       "      <td>2</td>\n",
       "      <td>F18278</td>\n",
       "      <td>65.98</td>\n",
       "      <td>32.99</td>\n",
       "      <td>4275 days</td>\n",
       "      <td>12</td>\n",
       "      <td>Enfant</td>\n",
       "    </tr>\n",
       "    <tr>\n",
       "      <th>9</th>\n",
       "      <td>2009-07-27</td>\n",
       "      <td>2019-07-18</td>\n",
       "      <td>5</td>\n",
       "      <td>f19351</td>\n",
       "      <td>149.95</td>\n",
       "      <td>29.99</td>\n",
       "      <td>3643 days</td>\n",
       "      <td>10</td>\n",
       "      <td>Enfant</td>\n",
       "    </tr>\n",
       "  </tbody>\n",
       "</table>\n",
       "</div>"
      ],
      "text/plain": [
       "   Naissance Date_Achat  Quantite Num_billet    Prix  prix_unitaire  \\\n",
       "0 1997-05-20 2022-06-18         2     D20103   63.98          31.99   \n",
       "1 1980-10-21 2018-07-01         2     F18278   65.98          32.99   \n",
       "2 2006-04-09 2021-05-11         5     F19351  149.95          29.99   \n",
       "3 1981-07-13 2020-01-28         5     F19351  149.95          29.99   \n",
       "4 2000-03-03 2022-08-11         1     S18423   34.99          34.99   \n",
       "5 1994-04-01 2022-06-18         2     D20103   63.98          31.99   \n",
       "6 2009-04-01 2019-07-19         5     F19351  149.95          29.99   \n",
       "7 1982-03-27 2019-07-19         5     F19351  149.95          29.99   \n",
       "8 2006-10-17 2018-07-01         2     F18278   65.98          32.99   \n",
       "9 2009-07-27 2019-07-18         5     f19351  149.95          29.99   \n",
       "\n",
       "         age  age_year age_categories  \n",
       "0  9160 days        25         Adulte  \n",
       "1 13767 days        38         Adulte  \n",
       "2  5511 days        15     Adolescent  \n",
       "3 14078 days        39         Adulte  \n",
       "4  8196 days        22     Adolescent  \n",
       "5 10305 days        28         Adulte  \n",
       "6  3761 days        10         Enfant  \n",
       "7 13628 days        37         Adulte  \n",
       "8  4275 days        12         Enfant  \n",
       "9  3643 days        10         Enfant  "
      ]
     },
     "execution_count": 146,
     "metadata": {},
     "output_type": "execute_result"
    }
   ],
   "source": [
    "df"
   ]
  },
  {
   "cell_type": "code",
   "execution_count": 147,
   "id": "0a6d1a41",
   "metadata": {},
   "outputs": [],
   "source": [
    "df['mois_Achat'] = df['Date_Achat'].dt.month"
   ]
  },
  {
   "cell_type": "code",
   "execution_count": 148,
   "id": "8114b31d",
   "metadata": {},
   "outputs": [
    {
     "data": {
      "text/html": [
       "<div>\n",
       "<style scoped>\n",
       "    .dataframe tbody tr th:only-of-type {\n",
       "        vertical-align: middle;\n",
       "    }\n",
       "\n",
       "    .dataframe tbody tr th {\n",
       "        vertical-align: top;\n",
       "    }\n",
       "\n",
       "    .dataframe thead th {\n",
       "        text-align: right;\n",
       "    }\n",
       "</style>\n",
       "<table border=\"1\" class=\"dataframe\">\n",
       "  <thead>\n",
       "    <tr style=\"text-align: right;\">\n",
       "      <th></th>\n",
       "      <th>Naissance</th>\n",
       "      <th>Date_Achat</th>\n",
       "      <th>Quantite</th>\n",
       "      <th>Num_billet</th>\n",
       "      <th>Prix</th>\n",
       "      <th>prix_unitaire</th>\n",
       "      <th>age</th>\n",
       "      <th>age_year</th>\n",
       "      <th>age_categories</th>\n",
       "      <th>mois_Achat</th>\n",
       "    </tr>\n",
       "  </thead>\n",
       "  <tbody>\n",
       "    <tr>\n",
       "      <th>0</th>\n",
       "      <td>1997-05-20</td>\n",
       "      <td>2022-06-18</td>\n",
       "      <td>2</td>\n",
       "      <td>D20103</td>\n",
       "      <td>63.98</td>\n",
       "      <td>31.99</td>\n",
       "      <td>9160 days</td>\n",
       "      <td>25</td>\n",
       "      <td>Adulte</td>\n",
       "      <td>6</td>\n",
       "    </tr>\n",
       "    <tr>\n",
       "      <th>1</th>\n",
       "      <td>1980-10-21</td>\n",
       "      <td>2018-07-01</td>\n",
       "      <td>2</td>\n",
       "      <td>F18278</td>\n",
       "      <td>65.98</td>\n",
       "      <td>32.99</td>\n",
       "      <td>13767 days</td>\n",
       "      <td>38</td>\n",
       "      <td>Adulte</td>\n",
       "      <td>7</td>\n",
       "    </tr>\n",
       "    <tr>\n",
       "      <th>2</th>\n",
       "      <td>2006-04-09</td>\n",
       "      <td>2021-05-11</td>\n",
       "      <td>5</td>\n",
       "      <td>F19351</td>\n",
       "      <td>149.95</td>\n",
       "      <td>29.99</td>\n",
       "      <td>5511 days</td>\n",
       "      <td>15</td>\n",
       "      <td>Adolescent</td>\n",
       "      <td>5</td>\n",
       "    </tr>\n",
       "    <tr>\n",
       "      <th>3</th>\n",
       "      <td>1981-07-13</td>\n",
       "      <td>2020-01-28</td>\n",
       "      <td>5</td>\n",
       "      <td>F19351</td>\n",
       "      <td>149.95</td>\n",
       "      <td>29.99</td>\n",
       "      <td>14078 days</td>\n",
       "      <td>39</td>\n",
       "      <td>Adulte</td>\n",
       "      <td>1</td>\n",
       "    </tr>\n",
       "    <tr>\n",
       "      <th>4</th>\n",
       "      <td>2000-03-03</td>\n",
       "      <td>2022-08-11</td>\n",
       "      <td>1</td>\n",
       "      <td>S18423</td>\n",
       "      <td>34.99</td>\n",
       "      <td>34.99</td>\n",
       "      <td>8196 days</td>\n",
       "      <td>22</td>\n",
       "      <td>Adolescent</td>\n",
       "      <td>8</td>\n",
       "    </tr>\n",
       "    <tr>\n",
       "      <th>5</th>\n",
       "      <td>1994-04-01</td>\n",
       "      <td>2022-06-18</td>\n",
       "      <td>2</td>\n",
       "      <td>D20103</td>\n",
       "      <td>63.98</td>\n",
       "      <td>31.99</td>\n",
       "      <td>10305 days</td>\n",
       "      <td>28</td>\n",
       "      <td>Adulte</td>\n",
       "      <td>6</td>\n",
       "    </tr>\n",
       "    <tr>\n",
       "      <th>6</th>\n",
       "      <td>2009-04-01</td>\n",
       "      <td>2019-07-19</td>\n",
       "      <td>5</td>\n",
       "      <td>F19351</td>\n",
       "      <td>149.95</td>\n",
       "      <td>29.99</td>\n",
       "      <td>3761 days</td>\n",
       "      <td>10</td>\n",
       "      <td>Enfant</td>\n",
       "      <td>7</td>\n",
       "    </tr>\n",
       "    <tr>\n",
       "      <th>7</th>\n",
       "      <td>1982-03-27</td>\n",
       "      <td>2019-07-19</td>\n",
       "      <td>5</td>\n",
       "      <td>F19351</td>\n",
       "      <td>149.95</td>\n",
       "      <td>29.99</td>\n",
       "      <td>13628 days</td>\n",
       "      <td>37</td>\n",
       "      <td>Adulte</td>\n",
       "      <td>7</td>\n",
       "    </tr>\n",
       "    <tr>\n",
       "      <th>8</th>\n",
       "      <td>2006-10-17</td>\n",
       "      <td>2018-07-01</td>\n",
       "      <td>2</td>\n",
       "      <td>F18278</td>\n",
       "      <td>65.98</td>\n",
       "      <td>32.99</td>\n",
       "      <td>4275 days</td>\n",
       "      <td>12</td>\n",
       "      <td>Enfant</td>\n",
       "      <td>7</td>\n",
       "    </tr>\n",
       "    <tr>\n",
       "      <th>9</th>\n",
       "      <td>2009-07-27</td>\n",
       "      <td>2019-07-18</td>\n",
       "      <td>5</td>\n",
       "      <td>f19351</td>\n",
       "      <td>149.95</td>\n",
       "      <td>29.99</td>\n",
       "      <td>3643 days</td>\n",
       "      <td>10</td>\n",
       "      <td>Enfant</td>\n",
       "      <td>7</td>\n",
       "    </tr>\n",
       "  </tbody>\n",
       "</table>\n",
       "</div>"
      ],
      "text/plain": [
       "   Naissance Date_Achat  Quantite Num_billet    Prix  prix_unitaire  \\\n",
       "0 1997-05-20 2022-06-18         2     D20103   63.98          31.99   \n",
       "1 1980-10-21 2018-07-01         2     F18278   65.98          32.99   \n",
       "2 2006-04-09 2021-05-11         5     F19351  149.95          29.99   \n",
       "3 1981-07-13 2020-01-28         5     F19351  149.95          29.99   \n",
       "4 2000-03-03 2022-08-11         1     S18423   34.99          34.99   \n",
       "5 1994-04-01 2022-06-18         2     D20103   63.98          31.99   \n",
       "6 2009-04-01 2019-07-19         5     F19351  149.95          29.99   \n",
       "7 1982-03-27 2019-07-19         5     F19351  149.95          29.99   \n",
       "8 2006-10-17 2018-07-01         2     F18278   65.98          32.99   \n",
       "9 2009-07-27 2019-07-18         5     f19351  149.95          29.99   \n",
       "\n",
       "         age  age_year age_categories  mois_Achat  \n",
       "0  9160 days        25         Adulte           6  \n",
       "1 13767 days        38         Adulte           7  \n",
       "2  5511 days        15     Adolescent           5  \n",
       "3 14078 days        39         Adulte           1  \n",
       "4  8196 days        22     Adolescent           8  \n",
       "5 10305 days        28         Adulte           6  \n",
       "6  3761 days        10         Enfant           7  \n",
       "7 13628 days        37         Adulte           7  \n",
       "8  4275 days        12         Enfant           7  \n",
       "9  3643 days        10         Enfant           7  "
      ]
     },
     "execution_count": 148,
     "metadata": {},
     "output_type": "execute_result"
    }
   ],
   "source": [
    "df"
   ]
  },
  {
   "cell_type": "code",
   "execution_count": 149,
   "id": "0dfa7a0c",
   "metadata": {},
   "outputs": [],
   "source": [
    "# dir(df['Date_Achat'].dt)"
   ]
  },
  {
   "cell_type": "code",
   "execution_count": 150,
   "id": "d6b2fa3f",
   "metadata": {},
   "outputs": [
    {
     "data": {
      "text/plain": [
       "0    Saturday\n",
       "1      Sunday\n",
       "2     Tuesday\n",
       "3     Tuesday\n",
       "4    Thursday\n",
       "5    Saturday\n",
       "6      Friday\n",
       "7      Friday\n",
       "8      Sunday\n",
       "9    Thursday\n",
       "Name: Date_Achat, dtype: object"
      ]
     },
     "execution_count": 150,
     "metadata": {},
     "output_type": "execute_result"
    }
   ],
   "source": [
    "df['Date_Achat'].dt.day_name()"
   ]
  },
  {
   "cell_type": "markdown",
   "id": "2a2e1d32",
   "metadata": {},
   "source": [
    "    - Les jours de la semaine"
   ]
  },
  {
   "cell_type": "code",
   "execution_count": 151,
   "id": "275f33af",
   "metadata": {},
   "outputs": [],
   "source": [
    "df['Achat_jour'] = df['Date_Achat'].dt.day_name()"
   ]
  },
  {
   "cell_type": "code",
   "execution_count": 152,
   "id": "a3388009",
   "metadata": {},
   "outputs": [
    {
     "data": {
      "text/html": [
       "<div>\n",
       "<style scoped>\n",
       "    .dataframe tbody tr th:only-of-type {\n",
       "        vertical-align: middle;\n",
       "    }\n",
       "\n",
       "    .dataframe tbody tr th {\n",
       "        vertical-align: top;\n",
       "    }\n",
       "\n",
       "    .dataframe thead th {\n",
       "        text-align: right;\n",
       "    }\n",
       "</style>\n",
       "<table border=\"1\" class=\"dataframe\">\n",
       "  <thead>\n",
       "    <tr style=\"text-align: right;\">\n",
       "      <th></th>\n",
       "      <th>Naissance</th>\n",
       "      <th>Date_Achat</th>\n",
       "      <th>Quantite</th>\n",
       "      <th>Num_billet</th>\n",
       "      <th>Prix</th>\n",
       "      <th>prix_unitaire</th>\n",
       "      <th>age</th>\n",
       "      <th>age_year</th>\n",
       "      <th>age_categories</th>\n",
       "      <th>mois_Achat</th>\n",
       "      <th>Achat_jour</th>\n",
       "    </tr>\n",
       "  </thead>\n",
       "  <tbody>\n",
       "    <tr>\n",
       "      <th>0</th>\n",
       "      <td>1997-05-20</td>\n",
       "      <td>2022-06-18</td>\n",
       "      <td>2</td>\n",
       "      <td>D20103</td>\n",
       "      <td>63.98</td>\n",
       "      <td>31.99</td>\n",
       "      <td>9160 days</td>\n",
       "      <td>25</td>\n",
       "      <td>Adulte</td>\n",
       "      <td>6</td>\n",
       "      <td>Saturday</td>\n",
       "    </tr>\n",
       "    <tr>\n",
       "      <th>1</th>\n",
       "      <td>1980-10-21</td>\n",
       "      <td>2018-07-01</td>\n",
       "      <td>2</td>\n",
       "      <td>F18278</td>\n",
       "      <td>65.98</td>\n",
       "      <td>32.99</td>\n",
       "      <td>13767 days</td>\n",
       "      <td>38</td>\n",
       "      <td>Adulte</td>\n",
       "      <td>7</td>\n",
       "      <td>Sunday</td>\n",
       "    </tr>\n",
       "    <tr>\n",
       "      <th>2</th>\n",
       "      <td>2006-04-09</td>\n",
       "      <td>2021-05-11</td>\n",
       "      <td>5</td>\n",
       "      <td>F19351</td>\n",
       "      <td>149.95</td>\n",
       "      <td>29.99</td>\n",
       "      <td>5511 days</td>\n",
       "      <td>15</td>\n",
       "      <td>Adolescent</td>\n",
       "      <td>5</td>\n",
       "      <td>Tuesday</td>\n",
       "    </tr>\n",
       "    <tr>\n",
       "      <th>3</th>\n",
       "      <td>1981-07-13</td>\n",
       "      <td>2020-01-28</td>\n",
       "      <td>5</td>\n",
       "      <td>F19351</td>\n",
       "      <td>149.95</td>\n",
       "      <td>29.99</td>\n",
       "      <td>14078 days</td>\n",
       "      <td>39</td>\n",
       "      <td>Adulte</td>\n",
       "      <td>1</td>\n",
       "      <td>Tuesday</td>\n",
       "    </tr>\n",
       "    <tr>\n",
       "      <th>4</th>\n",
       "      <td>2000-03-03</td>\n",
       "      <td>2022-08-11</td>\n",
       "      <td>1</td>\n",
       "      <td>S18423</td>\n",
       "      <td>34.99</td>\n",
       "      <td>34.99</td>\n",
       "      <td>8196 days</td>\n",
       "      <td>22</td>\n",
       "      <td>Adolescent</td>\n",
       "      <td>8</td>\n",
       "      <td>Thursday</td>\n",
       "    </tr>\n",
       "    <tr>\n",
       "      <th>5</th>\n",
       "      <td>1994-04-01</td>\n",
       "      <td>2022-06-18</td>\n",
       "      <td>2</td>\n",
       "      <td>D20103</td>\n",
       "      <td>63.98</td>\n",
       "      <td>31.99</td>\n",
       "      <td>10305 days</td>\n",
       "      <td>28</td>\n",
       "      <td>Adulte</td>\n",
       "      <td>6</td>\n",
       "      <td>Saturday</td>\n",
       "    </tr>\n",
       "    <tr>\n",
       "      <th>6</th>\n",
       "      <td>2009-04-01</td>\n",
       "      <td>2019-07-19</td>\n",
       "      <td>5</td>\n",
       "      <td>F19351</td>\n",
       "      <td>149.95</td>\n",
       "      <td>29.99</td>\n",
       "      <td>3761 days</td>\n",
       "      <td>10</td>\n",
       "      <td>Enfant</td>\n",
       "      <td>7</td>\n",
       "      <td>Friday</td>\n",
       "    </tr>\n",
       "    <tr>\n",
       "      <th>7</th>\n",
       "      <td>1982-03-27</td>\n",
       "      <td>2019-07-19</td>\n",
       "      <td>5</td>\n",
       "      <td>F19351</td>\n",
       "      <td>149.95</td>\n",
       "      <td>29.99</td>\n",
       "      <td>13628 days</td>\n",
       "      <td>37</td>\n",
       "      <td>Adulte</td>\n",
       "      <td>7</td>\n",
       "      <td>Friday</td>\n",
       "    </tr>\n",
       "    <tr>\n",
       "      <th>8</th>\n",
       "      <td>2006-10-17</td>\n",
       "      <td>2018-07-01</td>\n",
       "      <td>2</td>\n",
       "      <td>F18278</td>\n",
       "      <td>65.98</td>\n",
       "      <td>32.99</td>\n",
       "      <td>4275 days</td>\n",
       "      <td>12</td>\n",
       "      <td>Enfant</td>\n",
       "      <td>7</td>\n",
       "      <td>Sunday</td>\n",
       "    </tr>\n",
       "    <tr>\n",
       "      <th>9</th>\n",
       "      <td>2009-07-27</td>\n",
       "      <td>2019-07-18</td>\n",
       "      <td>5</td>\n",
       "      <td>f19351</td>\n",
       "      <td>149.95</td>\n",
       "      <td>29.99</td>\n",
       "      <td>3643 days</td>\n",
       "      <td>10</td>\n",
       "      <td>Enfant</td>\n",
       "      <td>7</td>\n",
       "      <td>Thursday</td>\n",
       "    </tr>\n",
       "  </tbody>\n",
       "</table>\n",
       "</div>"
      ],
      "text/plain": [
       "   Naissance Date_Achat  Quantite Num_billet    Prix  prix_unitaire  \\\n",
       "0 1997-05-20 2022-06-18         2     D20103   63.98          31.99   \n",
       "1 1980-10-21 2018-07-01         2     F18278   65.98          32.99   \n",
       "2 2006-04-09 2021-05-11         5     F19351  149.95          29.99   \n",
       "3 1981-07-13 2020-01-28         5     F19351  149.95          29.99   \n",
       "4 2000-03-03 2022-08-11         1     S18423   34.99          34.99   \n",
       "5 1994-04-01 2022-06-18         2     D20103   63.98          31.99   \n",
       "6 2009-04-01 2019-07-19         5     F19351  149.95          29.99   \n",
       "7 1982-03-27 2019-07-19         5     F19351  149.95          29.99   \n",
       "8 2006-10-17 2018-07-01         2     F18278   65.98          32.99   \n",
       "9 2009-07-27 2019-07-18         5     f19351  149.95          29.99   \n",
       "\n",
       "         age  age_year age_categories  mois_Achat Achat_jour  \n",
       "0  9160 days        25         Adulte           6   Saturday  \n",
       "1 13767 days        38         Adulte           7     Sunday  \n",
       "2  5511 days        15     Adolescent           5    Tuesday  \n",
       "3 14078 days        39         Adulte           1    Tuesday  \n",
       "4  8196 days        22     Adolescent           8   Thursday  \n",
       "5 10305 days        28         Adulte           6   Saturday  \n",
       "6  3761 days        10         Enfant           7     Friday  \n",
       "7 13628 days        37         Adulte           7     Friday  \n",
       "8  4275 days        12         Enfant           7     Sunday  \n",
       "9  3643 days        10         Enfant           7   Thursday  "
      ]
     },
     "execution_count": 152,
     "metadata": {},
     "output_type": "execute_result"
    }
   ],
   "source": [
    "df"
   ]
  },
  {
   "cell_type": "markdown",
   "id": "943b7f23",
   "metadata": {},
   "source": [
    "### Aller plus loin"
   ]
  },
  {
   "cell_type": "markdown",
   "id": "f7037ec7",
   "metadata": {},
   "source": [
    "https://openclassrooms.com/fr/courses/7410486-nettoyez-et-analysez-votre-jeu-de-donnees"
   ]
  },
  {
   "cell_type": "markdown",
   "id": "19c12676",
   "metadata": {},
   "source": [
    "https://datapeaker.com/fr/Big-Data/eda-analyse-exploratoire-des-donn%C3%A9es-%C3%A0-partir-de-z%C3%A9ro/"
   ]
  },
  {
   "cell_type": "markdown",
   "id": "33cf6208",
   "metadata": {},
   "source": [
    "https://experienceleague.adobe.com/docs/experience-platform/data-science-workspace/jupyterlab/eda-notebook.html?lang=fr"
   ]
  },
  {
   "cell_type": "code",
   "execution_count": null,
   "id": "95fbc01e",
   "metadata": {},
   "outputs": [],
   "source": []
  }
 ],
 "metadata": {
  "kernelspec": {
   "display_name": "Python 3 (ipykernel)",
   "language": "python",
   "name": "python3"
  },
  "language_info": {
   "codemirror_mode": {
    "name": "ipython",
    "version": 3
   },
   "file_extension": ".py",
   "mimetype": "text/x-python",
   "name": "python",
   "nbconvert_exporter": "python",
   "pygments_lexer": "ipython3",
   "version": "3.8.10"
  }
 },
 "nbformat": 4,
 "nbformat_minor": 5
}
